{
  "nbformat": 4,
  "nbformat_minor": 0,
  "metadata": {
    "colab": {
      "provenance": []
    },
    "kernelspec": {
      "name": "python3",
      "display_name": "Python 3"
    },
    "language_info": {
      "name": "python"
    }
  },
  "cells": [
    {
      "cell_type": "code",
      "execution_count": null,
      "metadata": {
        "colab": {
          "base_uri": "https://localhost:8080/"
        },
        "id": "EIHGSt9LZRfC",
        "outputId": "beab9b95-70ed-4638-d3d8-0b8c039cf995"
      },
      "outputs": [
        {
          "output_type": "stream",
          "name": "stdout",
          "text": [
            "Requirement already satisfied: librosa in /usr/local/lib/python3.11/dist-packages (0.11.0)\n",
            "Requirement already satisfied: soundfile in /usr/local/lib/python3.11/dist-packages (0.13.1)\n",
            "Requirement already satisfied: audioread>=2.1.9 in /usr/local/lib/python3.11/dist-packages (from librosa) (3.0.1)\n",
            "Requirement already satisfied: numba>=0.51.0 in /usr/local/lib/python3.11/dist-packages (from librosa) (0.60.0)\n",
            "Requirement already satisfied: numpy>=1.22.3 in /usr/local/lib/python3.11/dist-packages (from librosa) (2.0.2)\n",
            "Requirement already satisfied: scipy>=1.6.0 in /usr/local/lib/python3.11/dist-packages (from librosa) (1.14.1)\n",
            "Requirement already satisfied: scikit-learn>=1.1.0 in /usr/local/lib/python3.11/dist-packages (from librosa) (1.6.1)\n",
            "Requirement already satisfied: joblib>=1.0 in /usr/local/lib/python3.11/dist-packages (from librosa) (1.4.2)\n",
            "Requirement already satisfied: decorator>=4.3.0 in /usr/local/lib/python3.11/dist-packages (from librosa) (4.4.2)\n",
            "Requirement already satisfied: pooch>=1.1 in /usr/local/lib/python3.11/dist-packages (from librosa) (1.8.2)\n",
            "Requirement already satisfied: soxr>=0.3.2 in /usr/local/lib/python3.11/dist-packages (from librosa) (0.5.0.post1)\n",
            "Requirement already satisfied: typing_extensions>=4.1.1 in /usr/local/lib/python3.11/dist-packages (from librosa) (4.13.1)\n",
            "Requirement already satisfied: lazy_loader>=0.1 in /usr/local/lib/python3.11/dist-packages (from librosa) (0.4)\n",
            "Requirement already satisfied: msgpack>=1.0 in /usr/local/lib/python3.11/dist-packages (from librosa) (1.1.0)\n",
            "Requirement already satisfied: cffi>=1.0 in /usr/local/lib/python3.11/dist-packages (from soundfile) (1.17.1)\n",
            "Requirement already satisfied: pycparser in /usr/local/lib/python3.11/dist-packages (from cffi>=1.0->soundfile) (2.22)\n",
            "Requirement already satisfied: packaging in /usr/local/lib/python3.11/dist-packages (from lazy_loader>=0.1->librosa) (24.2)\n",
            "Requirement already satisfied: llvmlite<0.44,>=0.43.0dev0 in /usr/local/lib/python3.11/dist-packages (from numba>=0.51.0->librosa) (0.43.0)\n",
            "Requirement already satisfied: platformdirs>=2.5.0 in /usr/local/lib/python3.11/dist-packages (from pooch>=1.1->librosa) (4.3.7)\n",
            "Requirement already satisfied: requests>=2.19.0 in /usr/local/lib/python3.11/dist-packages (from pooch>=1.1->librosa) (2.32.3)\n",
            "Requirement already satisfied: threadpoolctl>=3.1.0 in /usr/local/lib/python3.11/dist-packages (from scikit-learn>=1.1.0->librosa) (3.6.0)\n",
            "Requirement already satisfied: charset-normalizer<4,>=2 in /usr/local/lib/python3.11/dist-packages (from requests>=2.19.0->pooch>=1.1->librosa) (3.4.1)\n",
            "Requirement already satisfied: idna<4,>=2.5 in /usr/local/lib/python3.11/dist-packages (from requests>=2.19.0->pooch>=1.1->librosa) (3.10)\n",
            "Requirement already satisfied: urllib3<3,>=1.21.1 in /usr/local/lib/python3.11/dist-packages (from requests>=2.19.0->pooch>=1.1->librosa) (2.3.0)\n",
            "Requirement already satisfied: certifi>=2017.4.17 in /usr/local/lib/python3.11/dist-packages (from requests>=2.19.0->pooch>=1.1->librosa) (2025.1.31)\n"
          ]
        }
      ],
      "source": [
        "!pip install librosa soundfile\n"
      ]
    },
    {
      "cell_type": "code",
      "source": [
        "!pip install audb"
      ],
      "metadata": {
        "colab": {
          "base_uri": "https://localhost:8080/"
        },
        "id": "A1QYWjsCkR9S",
        "outputId": "c2d46c97-48ed-40f9-d96e-549099331144"
      },
      "execution_count": null,
      "outputs": [
        {
          "output_type": "stream",
          "name": "stdout",
          "text": [
            "Collecting audb\n",
            "  Downloading audb-1.11.3-py3-none-any.whl.metadata (5.1 kB)\n",
            "Collecting audbackend>=2.2.2 (from audbackend[all]>=2.2.2->audb)\n",
            "  Downloading audbackend-2.2.2-py3-none-any.whl.metadata (4.9 kB)\n",
            "Requirement already satisfied: audeer>=2.2.0 in /usr/local/lib/python3.11/dist-packages (from audb) (2.2.1)\n",
            "Requirement already satisfied: audformat>=1.2.0 in /usr/local/lib/python3.11/dist-packages (from audb) (1.3.1)\n",
            "Requirement already satisfied: audiofile>=1.0.0 in /usr/local/lib/python3.11/dist-packages (from audb) (1.5.1)\n",
            "Requirement already satisfied: audobject>=0.5.0 in /usr/local/lib/python3.11/dist-packages (from audb) (0.7.11)\n",
            "Requirement already satisfied: audresample>=0.1.6 in /usr/local/lib/python3.11/dist-packages (from audb) (1.3.3)\n",
            "Requirement already satisfied: filelock in /usr/local/lib/python3.11/dist-packages (from audb) (3.18.0)\n",
            "Requirement already satisfied: oyaml in /usr/local/lib/python3.11/dist-packages (from audb) (1.0)\n",
            "Requirement already satisfied: pandas>=2.1.0 in /usr/local/lib/python3.11/dist-packages (from audb) (2.2.2)\n",
            "Requirement already satisfied: pyarrow in /usr/local/lib/python3.11/dist-packages (from audb) (18.1.0)\n",
            "Collecting dohq-artifactory>=1.0.0 (from audbackend[all]>=2.2.2->audb)\n",
            "  Downloading dohq_artifactory-1.0.0-py3-none-any.whl.metadata (1.3 kB)\n",
            "Collecting minio (from audbackend[all]>=2.2.2->audb)\n",
            "  Downloading minio-7.2.15-py3-none-any.whl.metadata (6.7 kB)\n",
            "Requirement already satisfied: tqdm in /usr/local/lib/python3.11/dist-packages (from audeer>=2.2.0->audb) (4.67.1)\n",
            "Requirement already satisfied: iso639-lang in /usr/local/lib/python3.11/dist-packages (from audformat>=1.2.0->audb) (2.6.0)\n",
            "Requirement already satisfied: iso3166 in /usr/local/lib/python3.11/dist-packages (from audformat>=1.2.0->audb) (2.1.1)\n",
            "Requirement already satisfied: pyyaml>=5.4.1 in /usr/local/lib/python3.11/dist-packages (from audformat>=1.2.0->audb) (6.0.2)\n",
            "Requirement already satisfied: audmath>=1.3.0 in /usr/local/lib/python3.11/dist-packages (from audiofile>=1.0.0->audb) (1.4.1)\n",
            "Requirement already satisfied: numpy in /usr/local/lib/python3.11/dist-packages (from audiofile>=1.0.0->audb) (2.0.2)\n",
            "Requirement already satisfied: soundfile>=0.12.1 in /usr/local/lib/python3.11/dist-packages (from audiofile>=1.0.0->audb) (0.13.1)\n",
            "Requirement already satisfied: importlib-metadata>=4.8.0 in /usr/local/lib/python3.11/dist-packages (from audobject>=0.5.0->audb) (8.6.1)\n",
            "Requirement already satisfied: packaging in /usr/local/lib/python3.11/dist-packages (from audobject>=0.5.0->audb) (24.2)\n",
            "Requirement already satisfied: python-dateutil>=2.8.2 in /usr/local/lib/python3.11/dist-packages (from pandas>=2.1.0->audb) (2.8.2)\n",
            "Requirement already satisfied: pytz>=2020.1 in /usr/local/lib/python3.11/dist-packages (from pandas>=2.1.0->audb) (2025.2)\n",
            "Requirement already satisfied: tzdata>=2022.7 in /usr/local/lib/python3.11/dist-packages (from pandas>=2.1.0->audb) (2025.2)\n",
            "Requirement already satisfied: requests>=2.30.0 in /usr/local/lib/python3.11/dist-packages (from dohq-artifactory>=1.0.0->audbackend[all]>=2.2.2->audb) (2.32.3)\n",
            "Requirement already satisfied: PyJWT~=2.0 in /usr/local/lib/python3.11/dist-packages (from dohq-artifactory>=1.0.0->audbackend[all]>=2.2.2->audb) (2.10.1)\n",
            "Requirement already satisfied: zipp>=3.20 in /usr/local/lib/python3.11/dist-packages (from importlib-metadata>=4.8.0->audobject>=0.5.0->audb) (3.21.0)\n",
            "Requirement already satisfied: six>=1.5 in /usr/local/lib/python3.11/dist-packages (from python-dateutil>=2.8.2->pandas>=2.1.0->audb) (1.17.0)\n",
            "Requirement already satisfied: cffi>=1.0 in /usr/local/lib/python3.11/dist-packages (from soundfile>=0.12.1->audiofile>=1.0.0->audb) (1.17.1)\n",
            "Requirement already satisfied: certifi in /usr/local/lib/python3.11/dist-packages (from minio->audbackend[all]>=2.2.2->audb) (2025.1.31)\n",
            "Requirement already satisfied: urllib3 in /usr/local/lib/python3.11/dist-packages (from minio->audbackend[all]>=2.2.2->audb) (2.3.0)\n",
            "Requirement already satisfied: argon2-cffi in /usr/local/lib/python3.11/dist-packages (from minio->audbackend[all]>=2.2.2->audb) (23.1.0)\n",
            "Collecting pycryptodome (from minio->audbackend[all]>=2.2.2->audb)\n",
            "  Downloading pycryptodome-3.22.0-cp37-abi3-manylinux_2_17_x86_64.manylinux2014_x86_64.whl.metadata (3.4 kB)\n",
            "Requirement already satisfied: typing-extensions in /usr/local/lib/python3.11/dist-packages (from minio->audbackend[all]>=2.2.2->audb) (4.13.1)\n",
            "Requirement already satisfied: pycparser in /usr/local/lib/python3.11/dist-packages (from cffi>=1.0->soundfile>=0.12.1->audiofile>=1.0.0->audb) (2.22)\n",
            "Requirement already satisfied: charset-normalizer<4,>=2 in /usr/local/lib/python3.11/dist-packages (from requests>=2.30.0->dohq-artifactory>=1.0.0->audbackend[all]>=2.2.2->audb) (3.4.1)\n",
            "Requirement already satisfied: idna<4,>=2.5 in /usr/local/lib/python3.11/dist-packages (from requests>=2.30.0->dohq-artifactory>=1.0.0->audbackend[all]>=2.2.2->audb) (3.10)\n",
            "Requirement already satisfied: argon2-cffi-bindings in /usr/local/lib/python3.11/dist-packages (from argon2-cffi->minio->audbackend[all]>=2.2.2->audb) (21.2.0)\n",
            "Downloading audb-1.11.3-py3-none-any.whl (241 kB)\n",
            "\u001b[2K   \u001b[90m━━━━━━━━━━━━━━━━━━━━━━━━━━━━━━━━━━━━━━━━\u001b[0m \u001b[32m241.1/241.1 kB\u001b[0m \u001b[31m7.9 MB/s\u001b[0m eta \u001b[36m0:00:00\u001b[0m\n",
            "\u001b[?25hDownloading audbackend-2.2.2-py3-none-any.whl (67 kB)\n",
            "\u001b[2K   \u001b[90m━━━━━━━━━━━━━━━━━━━━━━━━━━━━━━━━━━━━━━━━\u001b[0m \u001b[32m67.6/67.6 kB\u001b[0m \u001b[31m5.7 MB/s\u001b[0m eta \u001b[36m0:00:00\u001b[0m\n",
            "\u001b[?25hDownloading dohq_artifactory-1.0.0-py3-none-any.whl (34 kB)\n",
            "Downloading minio-7.2.15-py3-none-any.whl (95 kB)\n",
            "\u001b[2K   \u001b[90m━━━━━━━━━━━━━━━━━━━━━━━━━━━━━━━━━━━━━━━━\u001b[0m \u001b[32m95.1/95.1 kB\u001b[0m \u001b[31m7.4 MB/s\u001b[0m eta \u001b[36m0:00:00\u001b[0m\n",
            "\u001b[?25hDownloading pycryptodome-3.22.0-cp37-abi3-manylinux_2_17_x86_64.manylinux2014_x86_64.whl (2.3 MB)\n",
            "\u001b[2K   \u001b[90m━━━━━━━━━━━━━━━━━━━━━━━━━━━━━━━━━━━━━━━━\u001b[0m \u001b[32m2.3/2.3 MB\u001b[0m \u001b[31m42.6 MB/s\u001b[0m eta \u001b[36m0:00:00\u001b[0m\n",
            "\u001b[?25hInstalling collected packages: pycryptodome, dohq-artifactory, audbackend, minio, audb\n",
            "Successfully installed audb-1.11.3 audbackend-2.2.2 dohq-artifactory-1.0.0 minio-7.2.15 pycryptodome-3.22.0\n"
          ]
        }
      ]
    },
    {
      "cell_type": "code",
      "source": [
        "!pip install opensmile"
      ],
      "metadata": {
        "colab": {
          "base_uri": "https://localhost:8080/"
        },
        "id": "9lMxDXLCjiJI",
        "outputId": "98af4ac2-891f-464f-c530-3f0192f48b37"
      },
      "execution_count": null,
      "outputs": [
        {
          "output_type": "stream",
          "name": "stdout",
          "text": [
            "Requirement already satisfied: opensmile in /usr/local/lib/python3.11/dist-packages (2.5.1)\n",
            "Requirement already satisfied: audobject>=0.6.1 in /usr/local/lib/python3.11/dist-packages (from opensmile) (0.7.11)\n",
            "Requirement already satisfied: audinterface>=0.7.0 in /usr/local/lib/python3.11/dist-packages (from opensmile) (1.2.3)\n",
            "Requirement already satisfied: audeer>=2.1.1 in /usr/local/lib/python3.11/dist-packages (from audinterface>=0.7.0->opensmile) (2.2.1)\n",
            "Requirement already satisfied: audformat<2.0.0,>=1.0.1 in /usr/local/lib/python3.11/dist-packages (from audinterface>=0.7.0->opensmile) (1.3.1)\n",
            "Requirement already satisfied: audiofile>=1.3.0 in /usr/local/lib/python3.11/dist-packages (from audinterface>=0.7.0->opensmile) (1.5.1)\n",
            "Requirement already satisfied: audmath>=1.4.1 in /usr/local/lib/python3.11/dist-packages (from audinterface>=0.7.0->opensmile) (1.4.1)\n",
            "Requirement already satisfied: audresample<2.0.0,>=1.1.0 in /usr/local/lib/python3.11/dist-packages (from audinterface>=0.7.0->opensmile) (1.3.3)\n",
            "Requirement already satisfied: importlib-metadata>=4.8.0 in /usr/local/lib/python3.11/dist-packages (from audobject>=0.6.1->opensmile) (8.6.1)\n",
            "Requirement already satisfied: oyaml in /usr/local/lib/python3.11/dist-packages (from audobject>=0.6.1->opensmile) (1.0)\n",
            "Requirement already satisfied: packaging in /usr/local/lib/python3.11/dist-packages (from audobject>=0.6.1->opensmile) (24.2)\n",
            "Requirement already satisfied: tqdm in /usr/local/lib/python3.11/dist-packages (from audeer>=2.1.1->audinterface>=0.7.0->opensmile) (4.67.1)\n",
            "Requirement already satisfied: iso639-lang in /usr/local/lib/python3.11/dist-packages (from audformat<2.0.0,>=1.0.1->audinterface>=0.7.0->opensmile) (2.6.0)\n",
            "Requirement already satisfied: iso3166 in /usr/local/lib/python3.11/dist-packages (from audformat<2.0.0,>=1.0.1->audinterface>=0.7.0->opensmile) (2.1.1)\n",
            "Requirement already satisfied: pandas>=2.1.0 in /usr/local/lib/python3.11/dist-packages (from audformat<2.0.0,>=1.0.1->audinterface>=0.7.0->opensmile) (2.2.2)\n",
            "Requirement already satisfied: pyarrow>=10.0.1 in /usr/local/lib/python3.11/dist-packages (from audformat<2.0.0,>=1.0.1->audinterface>=0.7.0->opensmile) (18.1.0)\n",
            "Requirement already satisfied: pyyaml>=5.4.1 in /usr/local/lib/python3.11/dist-packages (from audformat<2.0.0,>=1.0.1->audinterface>=0.7.0->opensmile) (6.0.2)\n",
            "Requirement already satisfied: numpy in /usr/local/lib/python3.11/dist-packages (from audiofile>=1.3.0->audinterface>=0.7.0->opensmile) (2.0.2)\n",
            "Requirement already satisfied: soundfile>=0.12.1 in /usr/local/lib/python3.11/dist-packages (from audiofile>=1.3.0->audinterface>=0.7.0->opensmile) (0.13.1)\n",
            "Requirement already satisfied: zipp>=3.20 in /usr/local/lib/python3.11/dist-packages (from importlib-metadata>=4.8.0->audobject>=0.6.1->opensmile) (3.21.0)\n",
            "Requirement already satisfied: python-dateutil>=2.8.2 in /usr/local/lib/python3.11/dist-packages (from pandas>=2.1.0->audformat<2.0.0,>=1.0.1->audinterface>=0.7.0->opensmile) (2.8.2)\n",
            "Requirement already satisfied: pytz>=2020.1 in /usr/local/lib/python3.11/dist-packages (from pandas>=2.1.0->audformat<2.0.0,>=1.0.1->audinterface>=0.7.0->opensmile) (2025.2)\n",
            "Requirement already satisfied: tzdata>=2022.7 in /usr/local/lib/python3.11/dist-packages (from pandas>=2.1.0->audformat<2.0.0,>=1.0.1->audinterface>=0.7.0->opensmile) (2025.2)\n",
            "Requirement already satisfied: cffi>=1.0 in /usr/local/lib/python3.11/dist-packages (from soundfile>=0.12.1->audiofile>=1.3.0->audinterface>=0.7.0->opensmile) (1.17.1)\n",
            "Requirement already satisfied: pycparser in /usr/local/lib/python3.11/dist-packages (from cffi>=1.0->soundfile>=0.12.1->audiofile>=1.3.0->audinterface>=0.7.0->opensmile) (2.22)\n",
            "Requirement already satisfied: six>=1.5 in /usr/local/lib/python3.11/dist-packages (from python-dateutil>=2.8.2->pandas>=2.1.0->audformat<2.0.0,>=1.0.1->audinterface>=0.7.0->opensmile) (1.17.0)\n"
          ]
        }
      ]
    },
    {
      "cell_type": "code",
      "source": [
        "import os\n",
        "import librosa\n",
        "import soundfile as sf\n",
        "\n",
        "def resample_and_save_preserve_structure(input_root, output_root, target_sr=16000):\n",
        "    for root, _, files in os.walk(input_root):\n",
        "        for file in files:\n",
        "            if file.endswith(\".wav\"):\n",
        "                input_path = os.path.join(root, file)\n",
        "\n",
        "                try:\n",
        "                    # Load audio file\n",
        "                    signal, sr = librosa.load(input_path, sr=None)\n",
        "\n",
        "                    if sr != target_sr:\n",
        "                        print(f\"{input_path}: Resampling from {sr} -> {target_sr}\")\n",
        "                        signal_resampled = librosa.resample(signal, orig_sr=sr, target_sr=target_sr)\n",
        "                    else:\n",
        "                        print(f\"{input_path}: Already at {target_sr} Hz, copying.\")\n",
        "                        signal_resampled = signal\n",
        "\n",
        "                    # Construct output path\n",
        "                    relative_path = os.path.relpath(input_path, input_root)\n",
        "                    output_path = os.path.join(output_root, relative_path)\n",
        "\n",
        "                    # Ensure the output directory exists\n",
        "                    os.makedirs(os.path.dirname(output_path), exist_ok=True)\n",
        "\n",
        "                    # Save resampled (or copied) audio\n",
        "                    sf.write(output_path, signal_resampled, target_sr)\n",
        "\n",
        "                except Exception as e:\n",
        "                    print(f\"Error processing {input_path}: {e}\")\n"
      ],
      "metadata": {
        "id": "F9XXKLq1a8XE"
      },
      "execution_count": null,
      "outputs": []
    },
    {
      "cell_type": "code",
      "source": [
        "import os\n",
        "import librosa\n",
        "import soundfile as sf\n",
        "\n",
        "def resample_and_save_preserve_structure(input_root, output_root, target_sr=16000):\n",
        "    for root, _, files in os.walk(input_root):\n",
        "        for file in files:\n",
        "            if file.endswith(\".wav\"):\n",
        "                input_path = os.path.join(root, file)\n",
        "\n",
        "                try:\n",
        "                    # Load audio file\n",
        "                    signal, sr = librosa.load(input_path, sr=None)\n",
        "\n",
        "                    if sr != target_sr:\n",
        "                        print(f\"{input_path}: Resampling from {sr} -> {target_sr}\")\n",
        "                        signal_resampled = librosa.resample(signal, orig_sr=sr, target_sr=target_sr)\n",
        "                    else:\n",
        "                        print(f\"{input_path}: Already at {target_sr} Hz, copying.\")\n",
        "                        signal_resampled = signal\n",
        "\n",
        "                    # Construct output path\n",
        "                    relative_path = os.path.relpath(input_path, input_root)\n",
        "                    output_path = os.path.join(output_root, relative_path)\n",
        "\n",
        "                    # Ensure the output directory exists\n",
        "                    os.makedirs(os.path.dirname(output_path), exist_ok=True)\n",
        "\n",
        "                    # Save resampled (or copied) audio\n",
        "                    sf.write(output_path, signal_resampled, target_sr)\n",
        "\n",
        "                except Exception as e:\n",
        "                    print(f\"Error processing {input_path}: {e}\")\n"
      ],
      "metadata": {
        "id": "CSOnFuGCcBSN"
      },
      "execution_count": null,
      "outputs": []
    },
    {
      "cell_type": "code",
      "source": [
        "from google.colab import drive\n",
        "drive.mount('/content/drive')"
      ],
      "metadata": {
        "colab": {
          "base_uri": "https://localhost:8080/"
        },
        "id": "GMS4E2O3c0zE",
        "outputId": "b2724645-2da2-4a27-ca6b-aa08fea67731"
      },
      "execution_count": null,
      "outputs": [
        {
          "output_type": "stream",
          "name": "stdout",
          "text": [
            "Mounted at /content/drive\n"
          ]
        }
      ]
    },
    {
      "cell_type": "code",
      "source": [
        "directory = \"/content/drive/MyDrive/k-fold_cross_validation\""
      ],
      "metadata": {
        "id": "q8ScI44lc4x0"
      },
      "execution_count": null,
      "outputs": []
    },
    {
      "cell_type": "code",
      "source": [
        "input_root = \"/content/drive/MyDrive/k-fold_cross_validation\"\n",
        "output_root = \"/content/resampled_audio\"\n",
        "\n",
        "resample_and_save_preserve_structure(input_root, output_root)\n",
        "zip_path = \"/content/resampled_audio.zip\"\n",
        "\n",
        "# Create the zip archive\n",
        "shutil.make_archive(base_name=zip_path.replace(\".zip\", \"\"), format='zip', root_dir=output_root)\n",
        "\n",
        "print(f\"Zipped file created at: {zip_path}\")"
      ],
      "metadata": {
        "colab": {
          "base_uri": "https://localhost:8080/"
        },
        "id": "ViN-cxwac7I-",
        "outputId": "72fde2aa-f2fe-48bc-e3c6-5d4c3800a5c8"
      },
      "execution_count": null,
      "outputs": [
        {
          "output_type": "stream",
          "name": "stdout",
          "text": [
            "/content/drive/MyDrive/k-fold_cross_validation/Fold7/HS/VA1LPUUITGI41M230320171111.wav: Already at 16000 Hz, copying.\n",
            "/content/drive/MyDrive/k-fold_cross_validation/Fold7/HS/VA2LFEIOONR57F210320171126.wav: Already at 16000 Hz, copying.\n",
            "/content/drive/MyDrive/k-fold_cross_validation/Fold7/HS/VA2LPUUITGI41M230320171111.wav: Already at 16000 Hz, copying.\n",
            "/content/drive/MyDrive/k-fold_cross_validation/Fold7/HS/VA1LFEIOONR57F210320171126.wav: Already at 16000 Hz, copying.\n",
            "/content/drive/MyDrive/k-fold_cross_validation/Fold7/PD/VA1GNIEOGVL47M100220171216.wav: Already at 16000 Hz, copying.\n",
            "/content/drive/MyDrive/k-fold_cross_validation/Fold7/PD/VA1GMIAOSVI44M100220170946.wav: Already at 16000 Hz, copying.\n",
            "/content/drive/MyDrive/k-fold_cross_validation/Fold7/PD/VA2GMIAOSVI44M100220170946.wav: Already at 16000 Hz, copying.\n",
            "/content/drive/MyDrive/k-fold_cross_validation/Fold7/PD/VA2GNIEOGVL47M100220171217.wav: Already at 16000 Hz, copying.\n",
            "/content/drive/MyDrive/k-fold_cross_validation/Fold6/PD/VA1vsiptioz46M1606161705.wav: Resampling from 44100 -> 16000\n",
            "/content/drive/MyDrive/k-fold_cross_validation/Fold6/PD/VA1VSIOTLOP47M100220171331.wav: Already at 16000 Hz, copying.\n",
            "/content/drive/MyDrive/k-fold_cross_validation/Fold6/PD/VA2VSIOTLOP47M100220171332.wav: Already at 16000 Hz, copying.\n",
            "/content/drive/MyDrive/k-fold_cross_validation/Fold6/PD/VA2vsiptioz46M1606161705.wav: Resampling from 44100 -> 16000\n",
            "/content/drive/MyDrive/k-fold_cross_validation/Fold6/HS/VA2GLIIUSSC57M210320171053.wav: Already at 16000 Hz, copying.\n",
            "/content/drive/MyDrive/k-fold_cross_validation/Fold6/HS/VA1GGRIAUZL45F020420171821.wav: Already at 16000 Hz, copying.\n",
            "/content/drive/MyDrive/k-fold_cross_validation/Fold6/HS/VA2GGRIAUZL45F020420171821.wav: Already at 16000 Hz, copying.\n",
            "/content/drive/MyDrive/k-fold_cross_validation/Fold6/HS/VA1GLIIUSSC57M210320171052.wav: Already at 16000 Hz, copying.\n",
            "/content/drive/MyDrive/k-fold_cross_validation/Fold3/HS/VA2APNOTROC49M230320170929.wav: Already at 16000 Hz, copying.\n",
            "/content/drive/MyDrive/k-fold_cross_validation/Fold3/HS/VA1APNITNOT56F230320170850.wav: Already at 16000 Hz, copying.\n",
            "/content/drive/MyDrive/k-fold_cross_validation/Fold3/HS/VA2APNITNOT56F230320170851.wav: Already at 16000 Hz, copying.\n",
            "/content/drive/MyDrive/k-fold_cross_validation/Fold3/HS/VA1APNOTROC49M230320170928.wav: Already at 16000 Hz, copying.\n",
            "/content/drive/MyDrive/k-fold_cross_validation/Fold3/PD/VA1RLOABREE42M240120171947.wav: Already at 16000 Hz, copying.\n",
            "/content/drive/MyDrive/k-fold_cross_validation/Fold3/PD/VA1GLIAUDLO50F100220171301.wav: Already at 16000 Hz, copying.\n",
            "/content/drive/MyDrive/k-fold_cross_validation/Fold3/PD/VA2GLIAUDLO50F100220171301.wav: Already at 16000 Hz, copying.\n",
            "/content/drive/MyDrive/k-fold_cross_validation/Fold3/PD/VA2RLOABREE42M240120171947.wav: Already at 16000 Hz, copying.\n",
            "/content/drive/MyDrive/k-fold_cross_validation/Fold1/HS/VA1ACNAGRER49F210320170920.wav: Already at 16000 Hz, copying.\n",
            "/content/drive/MyDrive/k-fold_cross_validation/Fold1/HS/VA2ACNAGRER49F210320170920.wav: Already at 16000 Hz, copying.\n",
            "/content/drive/MyDrive/k-fold_cross_validation/Fold1/HS/VA2ACNUTCOC40M230320171125.wav: Already at 16000 Hz, copying.\n",
            "/content/drive/MyDrive/k-fold_cross_validation/Fold1/HS/VA1ACNUTCOC40M230320171125.wav: Already at 16000 Hz, copying.\n",
            "/content/drive/MyDrive/k-fold_cross_validation/Fold1/PD/VA1cdaopmoe67M2605161906.wav: Resampling from 44100 -> 16000\n",
            "/content/drive/MyDrive/k-fold_cross_validation/Fold1/PD/VA2cdaopmoe67M2605161907.wav: Resampling from 44100 -> 16000\n",
            "/content/drive/MyDrive/k-fold_cross_validation/Fold1/PD/VA1AGNUTGOL52F100220171049.wav: Already at 16000 Hz, copying.\n",
            "/content/drive/MyDrive/k-fold_cross_validation/Fold1/PD/VA2AGNUTGOL52F100220171049.wav: Already at 16000 Hz, copying.\n",
            "/content/drive/MyDrive/k-fold_cross_validation/Fold9/PD/VA2MBAUROIN45M100220171008.wav: Already at 16000 Hz, copying.\n",
            "/content/drive/MyDrive/k-fold_cross_validation/Fold9/PD/VA1lloeroun56F2605161926.wav: Resampling from 44100 -> 16000\n",
            "/content/drive/MyDrive/k-fold_cross_validation/Fold9/PD/VA1MBAUROIN45M100220171007.wav: Already at 16000 Hz, copying.\n",
            "/content/drive/MyDrive/k-fold_cross_validation/Fold9/PD/VA2lloeroun56F2605161927.wav: Resampling from 44100 -> 16000\n",
            "/content/drive/MyDrive/k-fold_cross_validation/Fold9/HS/VA2MPAERRIR56F300320171146.wav: Already at 16000 Hz, copying.\n",
            "/content/drive/MyDrive/k-fold_cross_validation/Fold9/HS/VA1MPAERRIR56F300320171146.wav: Already at 16000 Hz, copying.\n",
            "/content/drive/MyDrive/k-fold_cross_validation/Fold9/HS/VA1NPIICEOR42M020420171808.wav: Already at 16000 Hz, copying.\n",
            "/content/drive/MyDrive/k-fold_cross_validation/Fold9/HS/VA2NPIICEOR42M020420171809.wav: Already at 16000 Hz, copying.\n",
            "/content/drive/MyDrive/k-fold_cross_validation/Fold10/HS/VA2TMEIRAEC54F230320171153.wav: Already at 16000 Hz, copying.\n",
            "/content/drive/MyDrive/k-fold_cross_validation/Fold10/HS/VA1VAILTFOO49M230320171031.wav: Already at 16000 Hz, copying.\n",
            "/content/drive/MyDrive/k-fold_cross_validation/Fold10/HS/VA1TMEIRAEC54F230320171153.wav: Already at 16000 Hz, copying.\n",
            "/content/drive/MyDrive/k-fold_cross_validation/Fold10/HS/VA2VAILTFOO49M230320171031.wav: Already at 16000 Hz, copying.\n",
            "/content/drive/MyDrive/k-fold_cross_validation/Fold10/PD/VA2NSICCHOI44M240120171846.wav: Already at 16000 Hz, copying.\n",
            "/content/drive/MyDrive/k-fold_cross_validation/Fold10/PD/VA1NSICCHOI44M240120171845.wav: Already at 16000 Hz, copying.\n",
            "/content/drive/MyDrive/k-fold_cross_validation/Fold10/PD/VA1NMIICNOO52M100220171136.wav: Already at 16000 Hz, copying.\n",
            "/content/drive/MyDrive/k-fold_cross_validation/Fold10/PD/VA2NMIICNOO52M100220171137.wav: Already at 16000 Hz, copying.\n",
            "/content/drive/MyDrive/k-fold_cross_validation/Fold8/HS/VA1LSUUIMGM48F230320171053.wav: Already at 16000 Hz, copying.\n",
            "/content/drive/MyDrive/k-fold_cross_validation/Fold8/HS/VA2LSUUIMGM48F230320171053.wav: Already at 16000 Hz, copying.\n",
            "/content/drive/MyDrive/k-fold_cross_validation/Fold8/HS/VA1MGIACTHT49M210320170855.wav: Already at 16000 Hz, copying.\n",
            "/content/drive/MyDrive/k-fold_cross_validation/Fold8/HS/VA2MGIACTHT49M210320170856.wav: Already at 16000 Hz, copying.\n",
            "/content/drive/MyDrive/k-fold_cross_validation/Fold8/PD/VA1GPIUUGLL63F100220171023.wav: Already at 16000 Hz, copying.\n",
            "/content/drive/MyDrive/k-fold_cross_validation/Fold8/PD/VA1lbuairgo52M1606161813.wav: Resampling from 44100 -> 16000\n",
            "/content/drive/MyDrive/k-fold_cross_validation/Fold8/PD/VA2GPIUUGLL63F100220171024.wav: Already at 16000 Hz, copying.\n",
            "/content/drive/MyDrive/k-fold_cross_validation/Fold8/PD/VA2lbuairgo52M1606161814.wav: Resampling from 44100 -> 16000\n",
            "/content/drive/MyDrive/k-fold_cross_validation/Fold5/PD/VA1VLIAT OP47M100220171318.wav: Already at 16000 Hz, copying.\n",
            "/content/drive/MyDrive/k-fold_cross_validation/Fold5/PD/VA1ubguot_t40M1606161759.wav: Resampling from 44100 -> 16000\n",
            "/content/drive/MyDrive/k-fold_cross_validation/Fold5/PD/VA2VLIAT OP47M100220171318.wav: Already at 16000 Hz, copying.\n",
            "/content/drive/MyDrive/k-fold_cross_validation/Fold5/PD/VA2ubguot_t40M1606161759.wav: Resampling from 44100 -> 16000\n",
            "/content/drive/MyDrive/k-fold_cross_validation/Fold5/HS/VA1GGIAORVG47F300320171212.wav: Already at 16000 Hz, copying.\n",
            "/content/drive/MyDrive/k-fold_cross_validation/Fold5/HS/VA2GGIAORVG47F300320171213.wav: Already at 16000 Hz, copying.\n",
            "/content/drive/MyDrive/k-fold_cross_validation/Fold5/HS/VA2GCIALSDA52F170320171127.wav: Already at 16000 Hz, copying.\n",
            "/content/drive/MyDrive/k-fold_cross_validation/Fold5/HS/VA1GCIALSDA52F170320171127.wav: Already at 16000 Hz, copying.\n",
            "/content/drive/MyDrive/k-fold_cross_validation/Fold2/HS/VA1AGNIGNEE54F230320171020.wav: Already at 16000 Hz, copying.\n",
            "/content/drive/MyDrive/k-fold_cross_validation/Fold2/HS/VA2AGNIGNEE54F230320171021.wav: Already at 16000 Hz, copying.\n",
            "/content/drive/MyDrive/k-fold_cross_validation/Fold2/HS/VA1APGANRET55F170320171107.wav: Already at 16000 Hz, copying.\n",
            "/content/drive/MyDrive/k-fold_cross_validation/Fold2/HS/VA2APGANRET55F170320171108.wav: Already at 16000 Hz, copying.\n",
            "/content/drive/MyDrive/k-fold_cross_validation/Fold2/PD/VA2DLAARCII37F100220171114.wav: Already at 16000 Hz, copying.\n",
            "/content/drive/MyDrive/k-fold_cross_validation/Fold2/PD/VA1DLAARCII37F100220171114.wav: Already at 16000 Hz, copying.\n",
            "/content/drive/MyDrive/k-fold_cross_validation/Fold2/PD/VA1cfaerlei54F2605161745.wav: Resampling from 44100 -> 16000\n",
            "/content/drive/MyDrive/k-fold_cross_validation/Fold2/PD/VA2cfaerlei54F2605161745.wav: Resampling from 44100 -> 16000\n",
            "/content/drive/MyDrive/k-fold_cross_validation/Fold4/HS/VA2BCRAISGS48F210320171005.wav: Already at 16000 Hz, copying.\n",
            "/content/drive/MyDrive/k-fold_cross_validation/Fold4/HS/VA1BCRAISGS48F210320171005.wav: Already at 16000 Hz, copying.\n",
            "/content/drive/MyDrive/k-fold_cross_validation/Fold4/HS/VA2GBIAORVI48M230320171236.wav: Already at 16000 Hz, copying.\n",
            "/content/drive/MyDrive/k-fold_cross_validation/Fold4/HS/VA1GBIAORVI48M230320171236.wav: Already at 16000 Hz, copying.\n",
            "/content/drive/MyDrive/k-fold_cross_validation/Fold4/PD/VA1sncihcio44M1606161720.wav: Resampling from 44100 -> 16000\n",
            "/content/drive/MyDrive/k-fold_cross_validation/Fold4/PD/VA2sncihcio44M1606161721.wav: Resampling from 44100 -> 16000\n",
            "/content/drive/MyDrive/k-fold_cross_validation/Fold4/PD/VA1ssacvhei61M1606161744.wav: Resampling from 44100 -> 16000\n",
            "/content/drive/MyDrive/k-fold_cross_validation/Fold4/PD/VA2ssacvhei61M1606161744.wav: Resampling from 44100 -> 16000\n"
          ]
        }
      ]
    },
    {
      "cell_type": "code",
      "source": [
        "import os\n",
        "import time\n",
        "import numpy as np\n",
        "import pandas as pd\n",
        "import seaborn as sns\n",
        "import audb\n",
        "import audiofile\n",
        "from xgboost import XGBClassifier\n",
        "import opensmile\n",
        "from sklearn.utils import shuffle\n",
        "import random\n",
        "from sklearn.model_selection import train_test_split, KFold, StratifiedKFold\n",
        "from sklearn.preprocessing import StandardScaler, MinMaxScaler\n",
        "from sklearn.svm import SVC\n",
        "from sklearn.linear_model import LogisticRegression\n",
        "from sklearn.ensemble import RandomForestClassifier\n",
        "from sklearn.metrics import roc_auc_score, roc_curve, auc, confusion_matrix, log_loss, f1_score, accuracy_score, precision_score, recall_score\n",
        "import matplotlib.pyplot as plt\n",
        "%matplotlib inline"
      ],
      "metadata": {
        "colab": {
          "base_uri": "https://localhost:8080/",
          "height": 384
        },
        "id": "PNYDVFPbkMj3",
        "outputId": "83675a28-2972-4aea-8bb9-6a1928a1dfa1"
      },
      "execution_count": null,
      "outputs": [
        {
          "output_type": "error",
          "ename": "ModuleNotFoundError",
          "evalue": "No module named 'audb'",
          "traceback": [
            "\u001b[0;31m---------------------------------------------------------------------------\u001b[0m",
            "\u001b[0;31mModuleNotFoundError\u001b[0m                       Traceback (most recent call last)",
            "\u001b[0;32m<ipython-input-11-62ab2f5246be>\u001b[0m in \u001b[0;36m<cell line: 0>\u001b[0;34m()\u001b[0m\n\u001b[1;32m      4\u001b[0m \u001b[0;32mimport\u001b[0m \u001b[0mpandas\u001b[0m \u001b[0;32mas\u001b[0m \u001b[0mpd\u001b[0m\u001b[0;34m\u001b[0m\u001b[0;34m\u001b[0m\u001b[0m\n\u001b[1;32m      5\u001b[0m \u001b[0;32mimport\u001b[0m \u001b[0mseaborn\u001b[0m \u001b[0;32mas\u001b[0m \u001b[0msns\u001b[0m\u001b[0;34m\u001b[0m\u001b[0;34m\u001b[0m\u001b[0m\n\u001b[0;32m----> 6\u001b[0;31m \u001b[0;32mimport\u001b[0m \u001b[0maudb\u001b[0m\u001b[0;34m\u001b[0m\u001b[0;34m\u001b[0m\u001b[0m\n\u001b[0m\u001b[1;32m      7\u001b[0m \u001b[0;32mimport\u001b[0m \u001b[0maudiofile\u001b[0m\u001b[0;34m\u001b[0m\u001b[0;34m\u001b[0m\u001b[0m\n\u001b[1;32m      8\u001b[0m \u001b[0;32mfrom\u001b[0m \u001b[0mxgboost\u001b[0m \u001b[0;32mimport\u001b[0m \u001b[0mXGBClassifier\u001b[0m\u001b[0;34m\u001b[0m\u001b[0;34m\u001b[0m\u001b[0m\n",
            "\u001b[0;31mModuleNotFoundError\u001b[0m: No module named 'audb'",
            "",
            "\u001b[0;31m---------------------------------------------------------------------------\u001b[0;32m\nNOTE: If your import is failing due to a missing package, you can\nmanually install dependencies using either !pip or !apt.\n\nTo view examples of installing some common dependencies, click the\n\"Open Examples\" button below.\n\u001b[0;31m---------------------------------------------------------------------------\u001b[0m\n"
          ],
          "errorDetails": {
            "actions": [
              {
                "action": "open_url",
                "actionText": "Open Examples",
                "url": "/notebooks/snippets/importing_libraries.ipynb"
              }
            ]
          }
        }
      ]
    },
    {
      "cell_type": "code",
      "source": [
        "smile = opensmile.Smile(\n",
        "    feature_set=opensmile.FeatureSet.ComParE_2016,\n",
        "    feature_level=opensmile.FeatureLevel.Functionals,\n",
        ")"
      ],
      "metadata": {
        "colab": {
          "base_uri": "https://localhost:8080/",
          "height": 193
        },
        "id": "wOwGUW_-enOZ",
        "outputId": "7bb6911e-95e8-45a6-be70-7379f67f8ad9"
      },
      "execution_count": null,
      "outputs": [
        {
          "output_type": "error",
          "ename": "NameError",
          "evalue": "name 'opensmile' is not defined",
          "traceback": [
            "\u001b[0;31m---------------------------------------------------------------------------\u001b[0m",
            "\u001b[0;31mNameError\u001b[0m                                 Traceback (most recent call last)",
            "\u001b[0;32m<ipython-input-9-8de4dec78db0>\u001b[0m in \u001b[0;36m<cell line: 0>\u001b[0;34m()\u001b[0m\n\u001b[0;32m----> 1\u001b[0;31m smile = opensmile.Smile(\n\u001b[0m\u001b[1;32m      2\u001b[0m     \u001b[0mfeature_set\u001b[0m\u001b[0;34m=\u001b[0m\u001b[0mopensmile\u001b[0m\u001b[0;34m.\u001b[0m\u001b[0mFeatureSet\u001b[0m\u001b[0;34m.\u001b[0m\u001b[0mComParE_2016\u001b[0m\u001b[0;34m,\u001b[0m\u001b[0;34m\u001b[0m\u001b[0;34m\u001b[0m\u001b[0m\n\u001b[1;32m      3\u001b[0m     \u001b[0mfeature_level\u001b[0m\u001b[0;34m=\u001b[0m\u001b[0mopensmile\u001b[0m\u001b[0;34m.\u001b[0m\u001b[0mFeatureLevel\u001b[0m\u001b[0;34m.\u001b[0m\u001b[0mFunctionals\u001b[0m\u001b[0;34m,\u001b[0m\u001b[0;34m\u001b[0m\u001b[0;34m\u001b[0m\u001b[0m\n\u001b[1;32m      4\u001b[0m )\n",
            "\u001b[0;31mNameError\u001b[0m: name 'opensmile' is not defined"
          ]
        }
      ]
    }
  ]
}