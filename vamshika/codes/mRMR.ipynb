{
  "cells": [
    {
      "cell_type": "markdown",
      "metadata": {
        "id": "RV6IKFo6hNji"
      },
      "source": [
        "# **Installation**"
      ]
    },
    {
      "cell_type": "code",
      "execution_count": 1,
      "metadata": {
        "colab": {
          "base_uri": "https://localhost:8080/"
        },
        "id": "BeaipEtyWUHs",
        "outputId": "b4dc918e-3acd-453a-c84c-9869e0605f1d"
      },
      "outputs": [
        {
          "name": "stdout",
          "output_type": "stream",
          "text": [
            "Requirement already satisfied: audb in c:\\users\\hp\\appdata\\local\\programs\\python\\python38\\lib\\site-packages (1.7.4)\n",
            "Requirement already satisfied: audbackend>=2.0.0 in c:\\users\\hp\\appdata\\local\\programs\\python\\python38\\lib\\site-packages (from audbackend[artifactory]>=2.0.0->audb) (2.0.1)\n",
            "Requirement already satisfied: audeer>=2.0.0 in c:\\users\\hp\\appdata\\local\\programs\\python\\python38\\lib\\site-packages (from audb) (2.2.0)\n",
            "Requirement already satisfied: audformat>=1.1.1 in c:\\users\\hp\\appdata\\local\\programs\\python\\python38\\lib\\site-packages (from audb) (1.1.4)\n",
            "Requirement already satisfied: audiofile>=1.0.0 in c:\\users\\hp\\appdata\\local\\programs\\python\\python38\\lib\\site-packages (from audb) (1.5.0)\n",
            "Requirement already satisfied: audobject>=0.5.0 in c:\\users\\hp\\appdata\\local\\programs\\python\\python38\\lib\\site-packages (from audb) (0.7.11)\n",
            "Requirement already satisfied: audresample>=0.1.6 in c:\\users\\hp\\appdata\\local\\programs\\python\\python38\\lib\\site-packages (from audb) (1.3.3)\n",
            "Requirement already satisfied: filelock in c:\\users\\hp\\appdata\\local\\programs\\python\\python38\\lib\\site-packages (from audb) (3.16.1)\n",
            "Requirement already satisfied: oyaml in c:\\users\\hp\\appdata\\local\\programs\\python\\python38\\lib\\site-packages (from audb) (1.0)\n",
            "Requirement already satisfied: pandas>=2.0.1 in c:\\users\\hp\\appdata\\local\\programs\\python\\python38\\lib\\site-packages (from audb) (2.0.3)\n",
            "Requirement already satisfied: pyarrow in c:\\users\\hp\\appdata\\local\\programs\\python\\python38\\lib\\site-packages (from audb) (17.0.0)\n",
            "Requirement already satisfied: pywin32 in c:\\users\\hp\\appdata\\local\\programs\\python\\python38\\lib\\site-packages (from audbackend>=2.0.0->audbackend[artifactory]>=2.0.0->audb) (308)\n",
            "Requirement already satisfied: dohq-artifactory>=0.10.0 in c:\\users\\hp\\appdata\\local\\programs\\python\\python38\\lib\\site-packages (from audbackend[artifactory]>=2.0.0->audb) (1.0.0)\n",
            "Requirement already satisfied: tqdm in c:\\users\\hp\\appdata\\local\\programs\\python\\python38\\lib\\site-packages (from audeer>=2.0.0->audb) (4.67.1)\n",
            "Requirement already satisfied: iso-639 in c:\\users\\hp\\appdata\\local\\programs\\python\\python38\\lib\\site-packages (from audformat>=1.1.1->audb) (0.4.5)\n",
            "Requirement already satisfied: iso3166 in c:\\users\\hp\\appdata\\local\\programs\\python\\python38\\lib\\site-packages (from audformat>=1.1.1->audb) (2.1.1)\n",
            "Requirement already satisfied: pyyaml>=5.4.1 in c:\\users\\hp\\appdata\\local\\programs\\python\\python38\\lib\\site-packages (from audformat>=1.1.1->audb) (6.0.2)\n",
            "Requirement already satisfied: audmath>=1.3.0 in c:\\users\\hp\\appdata\\local\\programs\\python\\python38\\lib\\site-packages (from audiofile>=1.0.0->audb) (1.4.1)\n",
            "Requirement already satisfied: numpy in c:\\users\\hp\\appdata\\local\\programs\\python\\python38\\lib\\site-packages (from audiofile>=1.0.0->audb) (1.24.4)\n",
            "Requirement already satisfied: soundfile>=0.12.1 in c:\\users\\hp\\appdata\\local\\programs\\python\\python38\\lib\\site-packages (from audiofile>=1.0.0->audb) (0.13.1)\n",
            "Requirement already satisfied: importlib-metadata>=4.8.0 in c:\\users\\hp\\appdata\\local\\programs\\python\\python38\\lib\\site-packages (from audobject>=0.5.0->audb) (8.5.0)\n",
            "Requirement already satisfied: packaging in c:\\users\\hp\\appdata\\local\\programs\\python\\python38\\lib\\site-packages (from audobject>=0.5.0->audb) (24.2)\n",
            "Requirement already satisfied: python-dateutil>=2.8.2 in c:\\users\\hp\\appdata\\local\\programs\\python\\python38\\lib\\site-packages (from pandas>=2.0.1->audb) (2.9.0.post0)\n",
            "Requirement already satisfied: pytz>=2020.1 in c:\\users\\hp\\appdata\\local\\programs\\python\\python38\\lib\\site-packages (from pandas>=2.0.1->audb) (2025.1)\n",
            "Requirement already satisfied: tzdata>=2022.1 in c:\\users\\hp\\appdata\\local\\programs\\python\\python38\\lib\\site-packages (from pandas>=2.0.1->audb) (2025.1)\n",
            "Requirement already satisfied: requests>=2.30.0 in c:\\users\\hp\\appdata\\local\\programs\\python\\python38\\lib\\site-packages (from dohq-artifactory>=0.10.0->audbackend[artifactory]>=2.0.0->audb) (2.32.3)\n",
            "Requirement already satisfied: PyJWT~=2.0 in c:\\users\\hp\\appdata\\local\\programs\\python\\python38\\lib\\site-packages (from dohq-artifactory>=0.10.0->audbackend[artifactory]>=2.0.0->audb) (2.9.0)\n",
            "Requirement already satisfied: zipp>=3.20 in c:\\users\\hp\\appdata\\local\\programs\\python\\python38\\lib\\site-packages (from importlib-metadata>=4.8.0->audobject>=0.5.0->audb) (3.20.2)\n",
            "Requirement already satisfied: six>=1.5 in c:\\users\\hp\\appdata\\local\\programs\\python\\python38\\lib\\site-packages (from python-dateutil>=2.8.2->pandas>=2.0.1->audb) (1.17.0)\n",
            "Requirement already satisfied: cffi>=1.0 in c:\\users\\hp\\appdata\\local\\programs\\python\\python38\\lib\\site-packages (from soundfile>=0.12.1->audiofile>=1.0.0->audb) (1.17.1)\n",
            "Requirement already satisfied: colorama in c:\\users\\hp\\appdata\\local\\programs\\python\\python38\\lib\\site-packages (from tqdm->audeer>=2.0.0->audb) (0.4.6)\n",
            "Requirement already satisfied: pycparser in c:\\users\\hp\\appdata\\local\\programs\\python\\python38\\lib\\site-packages (from cffi>=1.0->soundfile>=0.12.1->audiofile>=1.0.0->audb) (2.22)\n",
            "Requirement already satisfied: charset-normalizer<4,>=2 in c:\\users\\hp\\appdata\\local\\programs\\python\\python38\\lib\\site-packages (from requests>=2.30.0->dohq-artifactory>=0.10.0->audbackend[artifactory]>=2.0.0->audb) (3.4.1)\n",
            "Requirement already satisfied: idna<4,>=2.5 in c:\\users\\hp\\appdata\\local\\programs\\python\\python38\\lib\\site-packages (from requests>=2.30.0->dohq-artifactory>=0.10.0->audbackend[artifactory]>=2.0.0->audb) (3.10)\n",
            "Requirement already satisfied: urllib3<3,>=1.21.1 in c:\\users\\hp\\appdata\\local\\programs\\python\\python38\\lib\\site-packages (from requests>=2.30.0->dohq-artifactory>=0.10.0->audbackend[artifactory]>=2.0.0->audb) (2.2.3)\n",
            "Requirement already satisfied: certifi>=2017.4.17 in c:\\users\\hp\\appdata\\local\\programs\\python\\python38\\lib\\site-packages (from requests>=2.30.0->dohq-artifactory>=0.10.0->audbackend[artifactory]>=2.0.0->audb) (2024.12.14)\n"
          ]
        },
        {
          "name": "stderr",
          "output_type": "stream",
          "text": [
            "\n",
            "[notice] A new release of pip is available: 25.0 -> 25.0.1\n",
            "[notice] To update, run: python.exe -m pip install --upgrade pip\n"
          ]
        }
      ],
      "source": [
        "!pip install audb"
      ]
    },
    {
      "cell_type": "code",
      "execution_count": 2,
      "metadata": {
        "colab": {
          "base_uri": "https://localhost:8080/"
        },
        "id": "uG48OXkATdTp",
        "outputId": "cd94740b-9d48-4f71-c6da-3eade88a7d62"
      },
      "outputs": [],
      "source": [
        "# !pip install shap"
      ]
    },
    {
      "cell_type": "code",
      "execution_count": 2,
      "metadata": {
        "colab": {
          "base_uri": "https://localhost:8080/"
        },
        "id": "p4NssT2PWr8P",
        "outputId": "57350ce7-fcc3-44c8-c606-615cd2333db6"
      },
      "outputs": [
        {
          "name": "stdout",
          "output_type": "stream",
          "text": [
            "Requirement already satisfied: opensmile in c:\\users\\hp\\appdata\\local\\programs\\python\\python38\\lib\\site-packages (2.5.0)\n",
            "Requirement already satisfied: audobject>=0.6.1 in c:\\users\\hp\\appdata\\local\\programs\\python\\python38\\lib\\site-packages (from opensmile) (0.7.11)\n",
            "Requirement already satisfied: audinterface>=0.7.0 in c:\\users\\hp\\appdata\\local\\programs\\python\\python38\\lib\\site-packages (from opensmile) (1.2.1)\n",
            "Requirement already satisfied: audeer>=1.18.0 in c:\\users\\hp\\appdata\\local\\programs\\python\\python38\\lib\\site-packages (from audinterface>=0.7.0->opensmile) (2.2.0)\n",
            "Requirement already satisfied: audformat<2.0.0,>=1.0.1 in c:\\users\\hp\\appdata\\local\\programs\\python\\python38\\lib\\site-packages (from audinterface>=0.7.0->opensmile) (1.1.4)\n",
            "Requirement already satisfied: audiofile>=1.3.0 in c:\\users\\hp\\appdata\\local\\programs\\python\\python38\\lib\\site-packages (from audinterface>=0.7.0->opensmile) (1.5.0)\n",
            "Requirement already satisfied: audmath>=1.3.0 in c:\\users\\hp\\appdata\\local\\programs\\python\\python38\\lib\\site-packages (from audinterface>=0.7.0->opensmile) (1.4.1)\n",
            "Requirement already satisfied: audresample<2.0.0,>=1.1.0 in c:\\users\\hp\\appdata\\local\\programs\\python\\python38\\lib\\site-packages (from audinterface>=0.7.0->opensmile) (1.3.3)\n",
            "Requirement already satisfied: importlib-metadata>=4.8.0 in c:\\users\\hp\\appdata\\local\\programs\\python\\python38\\lib\\site-packages (from audobject>=0.6.1->opensmile) (8.5.0)\n",
            "Requirement already satisfied: oyaml in c:\\users\\hp\\appdata\\local\\programs\\python\\python38\\lib\\site-packages (from audobject>=0.6.1->opensmile) (1.0)\n",
            "Requirement already satisfied: packaging in c:\\users\\hp\\appdata\\local\\programs\\python\\python38\\lib\\site-packages (from audobject>=0.6.1->opensmile) (24.2)\n",
            "Requirement already satisfied: tqdm in c:\\users\\hp\\appdata\\local\\programs\\python\\python38\\lib\\site-packages (from audeer>=1.18.0->audinterface>=0.7.0->opensmile) (4.67.1)\n",
            "Requirement already satisfied: iso-639 in c:\\users\\hp\\appdata\\local\\programs\\python\\python38\\lib\\site-packages (from audformat<2.0.0,>=1.0.1->audinterface>=0.7.0->opensmile) (0.4.5)\n",
            "Requirement already satisfied: iso3166 in c:\\users\\hp\\appdata\\local\\programs\\python\\python38\\lib\\site-packages (from audformat<2.0.0,>=1.0.1->audinterface>=0.7.0->opensmile) (2.1.1)\n",
            "Requirement already satisfied: pyyaml>=5.4.1 in c:\\users\\hp\\appdata\\local\\programs\\python\\python38\\lib\\site-packages (from audformat<2.0.0,>=1.0.1->audinterface>=0.7.0->opensmile) (6.0.2)\n",
            "Requirement already satisfied: pandas>=1.4.1 in c:\\users\\hp\\appdata\\local\\programs\\python\\python38\\lib\\site-packages (from audformat<2.0.0,>=1.0.1->audinterface>=0.7.0->opensmile) (2.0.3)\n",
            "Requirement already satisfied: numpy in c:\\users\\hp\\appdata\\local\\programs\\python\\python38\\lib\\site-packages (from audiofile>=1.3.0->audinterface>=0.7.0->opensmile) (1.24.4)\n",
            "Requirement already satisfied: soundfile>=0.12.1 in c:\\users\\hp\\appdata\\local\\programs\\python\\python38\\lib\\site-packages (from audiofile>=1.3.0->audinterface>=0.7.0->opensmile) (0.13.1)\n",
            "Requirement already satisfied: zipp>=3.20 in c:\\users\\hp\\appdata\\local\\programs\\python\\python38\\lib\\site-packages (from importlib-metadata>=4.8.0->audobject>=0.6.1->opensmile) (3.20.2)\n",
            "Requirement already satisfied: python-dateutil>=2.8.2 in c:\\users\\hp\\appdata\\local\\programs\\python\\python38\\lib\\site-packages (from pandas>=1.4.1->audformat<2.0.0,>=1.0.1->audinterface>=0.7.0->opensmile) (2.9.0.post0)\n",
            "Requirement already satisfied: pytz>=2020.1 in c:\\users\\hp\\appdata\\local\\programs\\python\\python38\\lib\\site-packages (from pandas>=1.4.1->audformat<2.0.0,>=1.0.1->audinterface>=0.7.0->opensmile) (2025.1)\n",
            "Requirement already satisfied: tzdata>=2022.1 in c:\\users\\hp\\appdata\\local\\programs\\python\\python38\\lib\\site-packages (from pandas>=1.4.1->audformat<2.0.0,>=1.0.1->audinterface>=0.7.0->opensmile) (2025.1)\n",
            "Requirement already satisfied: cffi>=1.0 in c:\\users\\hp\\appdata\\local\\programs\\python\\python38\\lib\\site-packages (from soundfile>=0.12.1->audiofile>=1.3.0->audinterface>=0.7.0->opensmile) (1.17.1)\n",
            "Requirement already satisfied: colorama in c:\\users\\hp\\appdata\\local\\programs\\python\\python38\\lib\\site-packages (from tqdm->audeer>=1.18.0->audinterface>=0.7.0->opensmile) (0.4.6)\n",
            "Requirement already satisfied: pycparser in c:\\users\\hp\\appdata\\local\\programs\\python\\python38\\lib\\site-packages (from cffi>=1.0->soundfile>=0.12.1->audiofile>=1.3.0->audinterface>=0.7.0->opensmile) (2.22)\n",
            "Requirement already satisfied: six>=1.5 in c:\\users\\hp\\appdata\\local\\programs\\python\\python38\\lib\\site-packages (from python-dateutil>=2.8.2->pandas>=1.4.1->audformat<2.0.0,>=1.0.1->audinterface>=0.7.0->opensmile) (1.17.0)\n"
          ]
        },
        {
          "name": "stderr",
          "output_type": "stream",
          "text": [
            "\n",
            "[notice] A new release of pip is available: 25.0 -> 25.0.1\n",
            "[notice] To update, run: python.exe -m pip install --upgrade pip\n"
          ]
        }
      ],
      "source": [
        "!pip install opensmile"
      ]
    },
    {
      "cell_type": "code",
      "execution_count": 4,
      "metadata": {
        "colab": {
          "base_uri": "https://localhost:8080/",
          "height": 1000
        },
        "id": "W5haHIthfmKL",
        "outputId": "0edb6ea5-8c20-41fc-df16-e0774ad365a1"
      },
      "outputs": [],
      "source": [
        "# !pip install alibi"
      ]
    },
    {
      "cell_type": "code",
      "execution_count": 3,
      "metadata": {},
      "outputs": [
        {
          "name": "stdout",
          "output_type": "stream",
          "text": [
            "Requirement already satisfied: pandas in c:\\users\\hp\\appdata\\local\\programs\\python\\python38\\lib\\site-packages (2.0.3)\n",
            "Requirement already satisfied: python-dateutil>=2.8.2 in c:\\users\\hp\\appdata\\local\\programs\\python\\python38\\lib\\site-packages (from pandas) (2.9.0.post0)\n",
            "Requirement already satisfied: pytz>=2020.1 in c:\\users\\hp\\appdata\\local\\programs\\python\\python38\\lib\\site-packages (from pandas) (2025.1)\n",
            "Requirement already satisfied: tzdata>=2022.1 in c:\\users\\hp\\appdata\\local\\programs\\python\\python38\\lib\\site-packages (from pandas) (2025.1)\n",
            "Requirement already satisfied: numpy>=1.20.3 in c:\\users\\hp\\appdata\\local\\programs\\python\\python38\\lib\\site-packages (from pandas) (1.24.4)\n",
            "Requirement already satisfied: six>=1.5 in c:\\users\\hp\\appdata\\local\\programs\\python\\python38\\lib\\site-packages (from python-dateutil>=2.8.2->pandas) (1.17.0)\n"
          ]
        },
        {
          "name": "stderr",
          "output_type": "stream",
          "text": [
            "\n",
            "[notice] A new release of pip is available: 25.0 -> 25.0.1\n",
            "[notice] To update, run: python.exe -m pip install --upgrade pip\n"
          ]
        }
      ],
      "source": [
        "!pip install pandas"
      ]
    },
    {
      "cell_type": "code",
      "execution_count": 4,
      "metadata": {},
      "outputs": [
        {
          "name": "stdout",
          "output_type": "stream",
          "text": [
            "Requirement already satisfied: numpy in c:\\users\\hp\\appdata\\local\\programs\\python\\python38\\lib\\site-packages (1.24.4)\n"
          ]
        },
        {
          "name": "stderr",
          "output_type": "stream",
          "text": [
            "\n",
            "[notice] A new release of pip is available: 25.0 -> 25.0.1\n",
            "[notice] To update, run: python.exe -m pip install --upgrade pip\n"
          ]
        }
      ],
      "source": [
        "!pip install numpy"
      ]
    },
    {
      "cell_type": "code",
      "execution_count": 5,
      "metadata": {},
      "outputs": [
        {
          "name": "stdout",
          "output_type": "stream",
          "text": [
            "Requirement already satisfied: seaborn in c:\\users\\hp\\appdata\\local\\programs\\python\\python38\\lib\\site-packages (0.13.2)\n",
            "Requirement already satisfied: numpy!=1.24.0,>=1.20 in c:\\users\\hp\\appdata\\local\\programs\\python\\python38\\lib\\site-packages (from seaborn) (1.24.4)\n",
            "Requirement already satisfied: pandas>=1.2 in c:\\users\\hp\\appdata\\local\\programs\\python\\python38\\lib\\site-packages (from seaborn) (2.0.3)\n",
            "Requirement already satisfied: matplotlib!=3.6.1,>=3.4 in c:\\users\\hp\\appdata\\local\\programs\\python\\python38\\lib\\site-packages (from seaborn) (3.7.5)\n",
            "Requirement already satisfied: contourpy>=1.0.1 in c:\\users\\hp\\appdata\\local\\programs\\python\\python38\\lib\\site-packages (from matplotlib!=3.6.1,>=3.4->seaborn) (1.1.1)\n",
            "Requirement already satisfied: cycler>=0.10 in c:\\users\\hp\\appdata\\local\\programs\\python\\python38\\lib\\site-packages (from matplotlib!=3.6.1,>=3.4->seaborn) (0.12.1)\n",
            "Requirement already satisfied: fonttools>=4.22.0 in c:\\users\\hp\\appdata\\local\\programs\\python\\python38\\lib\\site-packages (from matplotlib!=3.6.1,>=3.4->seaborn) (4.56.0)\n",
            "Requirement already satisfied: kiwisolver>=1.0.1 in c:\\users\\hp\\appdata\\local\\programs\\python\\python38\\lib\\site-packages (from matplotlib!=3.6.1,>=3.4->seaborn) (1.4.7)\n",
            "Requirement already satisfied: packaging>=20.0 in c:\\users\\hp\\appdata\\local\\programs\\python\\python38\\lib\\site-packages (from matplotlib!=3.6.1,>=3.4->seaborn) (24.2)\n",
            "Requirement already satisfied: pillow>=6.2.0 in c:\\users\\hp\\appdata\\local\\programs\\python\\python38\\lib\\site-packages (from matplotlib!=3.6.1,>=3.4->seaborn) (10.4.0)\n",
            "Requirement already satisfied: pyparsing>=2.3.1 in c:\\users\\hp\\appdata\\local\\programs\\python\\python38\\lib\\site-packages (from matplotlib!=3.6.1,>=3.4->seaborn) (3.1.4)\n",
            "Requirement already satisfied: python-dateutil>=2.7 in c:\\users\\hp\\appdata\\local\\programs\\python\\python38\\lib\\site-packages (from matplotlib!=3.6.1,>=3.4->seaborn) (2.9.0.post0)\n",
            "Requirement already satisfied: importlib-resources>=3.2.0 in c:\\users\\hp\\appdata\\local\\programs\\python\\python38\\lib\\site-packages (from matplotlib!=3.6.1,>=3.4->seaborn) (6.4.5)\n",
            "Requirement already satisfied: pytz>=2020.1 in c:\\users\\hp\\appdata\\local\\programs\\python\\python38\\lib\\site-packages (from pandas>=1.2->seaborn) (2025.1)\n",
            "Requirement already satisfied: tzdata>=2022.1 in c:\\users\\hp\\appdata\\local\\programs\\python\\python38\\lib\\site-packages (from pandas>=1.2->seaborn) (2025.1)\n",
            "Requirement already satisfied: zipp>=3.1.0 in c:\\users\\hp\\appdata\\local\\programs\\python\\python38\\lib\\site-packages (from importlib-resources>=3.2.0->matplotlib!=3.6.1,>=3.4->seaborn) (3.20.2)\n",
            "Requirement already satisfied: six>=1.5 in c:\\users\\hp\\appdata\\local\\programs\\python\\python38\\lib\\site-packages (from python-dateutil>=2.7->matplotlib!=3.6.1,>=3.4->seaborn) (1.17.0)\n"
          ]
        },
        {
          "name": "stderr",
          "output_type": "stream",
          "text": [
            "\n",
            "[notice] A new release of pip is available: 25.0 -> 25.0.1\n",
            "[notice] To update, run: python.exe -m pip install --upgrade pip\n"
          ]
        }
      ],
      "source": [
        "!pip install seaborn"
      ]
    },
    {
      "cell_type": "code",
      "execution_count": 6,
      "metadata": {},
      "outputs": [
        {
          "name": "stdout",
          "output_type": "stream",
          "text": [
            "Requirement already satisfied: matplotlib in c:\\users\\hp\\appdata\\local\\programs\\python\\python38\\lib\\site-packages (3.7.5)\n",
            "Requirement already satisfied: contourpy>=1.0.1 in c:\\users\\hp\\appdata\\local\\programs\\python\\python38\\lib\\site-packages (from matplotlib) (1.1.1)\n",
            "Requirement already satisfied: cycler>=0.10 in c:\\users\\hp\\appdata\\local\\programs\\python\\python38\\lib\\site-packages (from matplotlib) (0.12.1)\n",
            "Requirement already satisfied: fonttools>=4.22.0 in c:\\users\\hp\\appdata\\local\\programs\\python\\python38\\lib\\site-packages (from matplotlib) (4.56.0)\n",
            "Requirement already satisfied: kiwisolver>=1.0.1 in c:\\users\\hp\\appdata\\local\\programs\\python\\python38\\lib\\site-packages (from matplotlib) (1.4.7)\n",
            "Requirement already satisfied: numpy<2,>=1.20 in c:\\users\\hp\\appdata\\local\\programs\\python\\python38\\lib\\site-packages (from matplotlib) (1.24.4)\n",
            "Requirement already satisfied: packaging>=20.0 in c:\\users\\hp\\appdata\\local\\programs\\python\\python38\\lib\\site-packages (from matplotlib) (24.2)\n",
            "Requirement already satisfied: pillow>=6.2.0 in c:\\users\\hp\\appdata\\local\\programs\\python\\python38\\lib\\site-packages (from matplotlib) (10.4.0)\n",
            "Requirement already satisfied: pyparsing>=2.3.1 in c:\\users\\hp\\appdata\\local\\programs\\python\\python38\\lib\\site-packages (from matplotlib) (3.1.4)\n",
            "Requirement already satisfied: python-dateutil>=2.7 in c:\\users\\hp\\appdata\\local\\programs\\python\\python38\\lib\\site-packages (from matplotlib) (2.9.0.post0)\n",
            "Requirement already satisfied: importlib-resources>=3.2.0 in c:\\users\\hp\\appdata\\local\\programs\\python\\python38\\lib\\site-packages (from matplotlib) (6.4.5)\n",
            "Requirement already satisfied: zipp>=3.1.0 in c:\\users\\hp\\appdata\\local\\programs\\python\\python38\\lib\\site-packages (from importlib-resources>=3.2.0->matplotlib) (3.20.2)\n",
            "Requirement already satisfied: six>=1.5 in c:\\users\\hp\\appdata\\local\\programs\\python\\python38\\lib\\site-packages (from python-dateutil>=2.7->matplotlib) (1.17.0)\n"
          ]
        },
        {
          "name": "stderr",
          "output_type": "stream",
          "text": [
            "\n",
            "[notice] A new release of pip is available: 25.0 -> 25.0.1\n",
            "[notice] To update, run: python.exe -m pip install --upgrade pip\n"
          ]
        }
      ],
      "source": [
        "!pip install matplotlib"
      ]
    },
    {
      "cell_type": "code",
      "execution_count": 7,
      "metadata": {
        "id": "mCbrBmgvWgVB"
      },
      "outputs": [],
      "source": [
        "import os\n",
        "import time\n",
        "import numpy as np\n",
        "import pandas as pd\n",
        "import seaborn as sns\n",
        "import audb\n",
        "import audiofile\n",
        "import opensmile\n",
        "from sklearn.utils import shuffle\n",
        "import random\n",
        "# import shap\n",
        "# from alibi.explainers import ALE\n",
        "# from alibi.explainers import plot_ale\n",
        "from sklearn.model_selection import train_test_split\n",
        "from sklearn.preprocessing import StandardScaler\n",
        "from sklearn.svm import SVC\n",
        "from sklearn.linear_model import LogisticRegression\n",
        "from sklearn.ensemble import RandomForestClassifier\n",
        "import matplotlib.pyplot as plt\n",
        "%matplotlib inline"
      ]
    },
    {
      "cell_type": "markdown",
      "metadata": {
        "id": "Yoekf9XHhl_s"
      },
      "source": [
        "# **Documentation**"
      ]
    },
    {
      "cell_type": "markdown",
      "metadata": {
        "id": "L6sFBBvx7pHt"
      },
      "source": [
        "\n",
        "mRMR : https://freedium.cfd/https://towardsdatascience.com/mrmr-explained-exactly-how-you-wished-someone-explained-to-you-9cf4ed27458b"
      ]
    },
    {
      "cell_type": "markdown",
      "metadata": {
        "id": "upFMmhTb7wQm"
      },
      "source": [
        "mRMR Documentation: https://feature-engine.trainindata.com/en/1.8.x/user_guide/selection/MRMR.html and https://feature-engine.trainindata.com/en/1.8.x/api_doc/selection/MRMR.html#feature_engine.selection.MRMR"
      ]
    },
    {
      "cell_type": "markdown",
      "metadata": {
        "id": "kHcmVok9_q_b"
      },
      "source": [
        "# **Functionals**"
      ]
    },
    {
      "cell_type": "code",
      "execution_count": 8,
      "metadata": {
        "id": "NLo-jHZJfmIX"
      },
      "outputs": [],
      "source": [
        "hs_path = r\"C:\\Users\\Hp\\Desktop\\Lecture Files\\DH604\\mRMR\\Italian a\\Dataset_1s\\HS\"\n",
        "pd_path = r\"C:\\Users\\Hp\\Desktop\\Lecture Files\\DH604\\mRMR\\Italian a\\Dataset_1s\\PD\"\n",
        "smile = opensmile.Smile(\n",
        "    feature_set=opensmile.FeatureSet.ComParE_2016,\n",
        "    feature_level=opensmile.FeatureLevel.Functionals,\n",
        ")\n",
        "# smile.feature_names"
      ]
    },
    {
      "cell_type": "code",
      "execution_count": 9,
      "metadata": {
        "id": "4sBZ74CPjlp1"
      },
      "outputs": [],
      "source": [
        "def process_audio_folder(folder_path, y_value, duration=10):\n",
        "    results = []\n",
        "    for file_name in os.listdir(folder_path):\n",
        "        if file_name.endswith(\".wav\"):\n",
        "            file_path = os.path.join(folder_path, file_name)\n",
        "            try:\n",
        "                signal, sampling_rate = audiofile.read(\n",
        "                    file_path,\n",
        "                    duration=duration,\n",
        "                    always_2d=True\n",
        "                )\n",
        "                features = smile.process_signal(signal, sampling_rate)\n",
        "                features.insert(0, 'file_name', file_name)\n",
        "                features['Y'] = y_value\n",
        "                results.append(features)\n",
        "            except Exception as e:\n",
        "                print(f\"Error processing {file_name}: {e}\")\n",
        "    df_results = pd.concat(results, ignore_index=True)\n",
        "    print(\"Done\")\n",
        "    return df_results"
      ]
    },
    {
      "cell_type": "code",
      "execution_count": 10,
      "metadata": {
        "id": "UV6qAk9ZKbsg"
      },
      "outputs": [],
      "source": [
        "def concatenate_and_shuffle(df1, df2):\n",
        "    concatenated_df = pd.concat([df1, df2], ignore_index=True)\n",
        "    shuffled_df = concatenated_df.sample(frac=1).reset_index(drop=True)\n",
        "    return shuffled_df"
      ]
    },
    {
      "cell_type": "code",
      "execution_count": 33,
      "metadata": {
        "colab": {
          "base_uri": "https://localhost:8080/"
        },
        "id": "2eKA4sfhCaBn",
        "outputId": "24c62f48-8fc2-40b7-ffc9-56056582cae2"
      },
      "outputs": [
        {
          "name": "stdout",
          "output_type": "stream",
          "text": [
            "Done\n"
          ]
        }
      ],
      "source": [
        "hs_df = process_audio_folder(hs_path, 0, duration=10)"
      ]
    },
    {
      "cell_type": "code",
      "execution_count": 34,
      "metadata": {},
      "outputs": [
        {
          "data": {
            "text/plain": [
              "(77, 6375)"
            ]
          },
          "execution_count": 34,
          "metadata": {},
          "output_type": "execute_result"
        }
      ],
      "source": [
        "hs_df.shape"
      ]
    },
    {
      "cell_type": "code",
      "execution_count": 35,
      "metadata": {
        "colab": {
          "base_uri": "https://localhost:8080/"
        },
        "id": "rnvBfXRjKIxE",
        "outputId": "f31cc4d9-8c2b-4333-86ac-822ff86bcef7"
      },
      "outputs": [
        {
          "name": "stdout",
          "output_type": "stream",
          "text": [
            "Done\n"
          ]
        }
      ],
      "source": [
        "pd_df = process_audio_folder(pd_path, 1, duration=10)"
      ]
    },
    {
      "cell_type": "code",
      "execution_count": 40,
      "metadata": {},
      "outputs": [
        {
          "data": {
            "text/plain": [
              "(77, 6375)"
            ]
          },
          "execution_count": 40,
          "metadata": {},
          "output_type": "execute_result"
        }
      ],
      "source": [
        "pd_df.shape"
      ]
    },
    {
      "cell_type": "code",
      "execution_count": 37,
      "metadata": {},
      "outputs": [],
      "source": [
        "def balance_dataframes(hs_df, pd_df):\n",
        "    min_length = min(len(hs_df), len(pd_df))\n",
        "    \n",
        "    if len(hs_df) > min_length:\n",
        "        hs_df = hs_df.sample(n=min_length, random_state=42).reset_index(drop=True)\n",
        "    \n",
        "    if len(pd_df) > min_length:\n",
        "        pd_df = pd_df.sample(n=min_length, random_state=42).reset_index(drop=True)\n",
        "    \n",
        "    return hs_df, pd_df"
      ]
    },
    {
      "cell_type": "code",
      "execution_count": 38,
      "metadata": {},
      "outputs": [],
      "source": [
        "hs_df, pd_df = balance_dataframes(hs_df, pd_df)"
      ]
    },
    {
      "cell_type": "code",
      "execution_count": 39,
      "metadata": {
        "id": "IHuqewecKdFR"
      },
      "outputs": [],
      "source": [
        "df_functionals = concatenate_and_shuffle(hs_df, pd_df)"
      ]
    },
    {
      "cell_type": "code",
      "execution_count": 41,
      "metadata": {
        "colab": {
          "base_uri": "https://localhost:8080/",
          "height": 1000
        },
        "id": "OaxgafLzKfXr",
        "outputId": "547c4038-8786-454b-d233-25bf2b8d93c6"
      },
      "outputs": [
        {
          "data": {
            "text/html": [
              "<div>\n",
              "<style scoped>\n",
              "    .dataframe tbody tr th:only-of-type {\n",
              "        vertical-align: middle;\n",
              "    }\n",
              "\n",
              "    .dataframe tbody tr th {\n",
              "        vertical-align: top;\n",
              "    }\n",
              "\n",
              "    .dataframe thead th {\n",
              "        text-align: right;\n",
              "    }\n",
              "</style>\n",
              "<table border=\"1\" class=\"dataframe\">\n",
              "  <thead>\n",
              "    <tr style=\"text-align: right;\">\n",
              "      <th></th>\n",
              "      <th>file_name</th>\n",
              "      <th>audspec_lengthL1norm_sma_range</th>\n",
              "      <th>audspec_lengthL1norm_sma_maxPos</th>\n",
              "      <th>audspec_lengthL1norm_sma_minPos</th>\n",
              "      <th>audspec_lengthL1norm_sma_quartile1</th>\n",
              "      <th>audspec_lengthL1norm_sma_quartile2</th>\n",
              "      <th>audspec_lengthL1norm_sma_quartile3</th>\n",
              "      <th>audspec_lengthL1norm_sma_iqr1-2</th>\n",
              "      <th>audspec_lengthL1norm_sma_iqr2-3</th>\n",
              "      <th>audspec_lengthL1norm_sma_iqr1-3</th>\n",
              "      <th>...</th>\n",
              "      <th>mfcc_sma_de[14]_peakRangeRel</th>\n",
              "      <th>mfcc_sma_de[14]_peakMeanAbs</th>\n",
              "      <th>mfcc_sma_de[14]_peakMeanMeanDist</th>\n",
              "      <th>mfcc_sma_de[14]_peakMeanRel</th>\n",
              "      <th>mfcc_sma_de[14]_minRangeRel</th>\n",
              "      <th>mfcc_sma_de[14]_meanRisingSlope</th>\n",
              "      <th>mfcc_sma_de[14]_stddevRisingSlope</th>\n",
              "      <th>mfcc_sma_de[14]_meanFallingSlope</th>\n",
              "      <th>mfcc_sma_de[14]_stddevFallingSlope</th>\n",
              "      <th>Y</th>\n",
              "    </tr>\n",
              "  </thead>\n",
              "  <tbody>\n",
              "    <tr>\n",
              "      <th>0</th>\n",
              "      <td>VA1cdaopmoe67M2605161906_1.wav</td>\n",
              "      <td>1.737388</td>\n",
              "      <td>0.316062</td>\n",
              "      <td>0.000000</td>\n",
              "      <td>1.298277</td>\n",
              "      <td>1.387176</td>\n",
              "      <td>1.559847</td>\n",
              "      <td>0.088899</td>\n",
              "      <td>0.172671</td>\n",
              "      <td>0.261570</td>\n",
              "      <td>...</td>\n",
              "      <td>0.681077</td>\n",
              "      <td>0.831712</td>\n",
              "      <td>0.801220</td>\n",
              "      <td>15.750338</td>\n",
              "      <td>0.292815</td>\n",
              "      <td>50.184170</td>\n",
              "      <td>27.437109</td>\n",
              "      <td>37.835350</td>\n",
              "      <td>15.782556</td>\n",
              "      <td>1</td>\n",
              "    </tr>\n",
              "    <tr>\n",
              "      <th>1</th>\n",
              "      <td>VA1ACNUTCOC40M230320171125_1.wav</td>\n",
              "      <td>0.865035</td>\n",
              "      <td>0.031088</td>\n",
              "      <td>0.979275</td>\n",
              "      <td>0.724670</td>\n",
              "      <td>0.793456</td>\n",
              "      <td>0.934875</td>\n",
              "      <td>0.068786</td>\n",
              "      <td>0.141419</td>\n",
              "      <td>0.210205</td>\n",
              "      <td>...</td>\n",
              "      <td>0.610465</td>\n",
              "      <td>1.302754</td>\n",
              "      <td>1.316529</td>\n",
              "      <td>-19.288790</td>\n",
              "      <td>0.578008</td>\n",
              "      <td>68.996712</td>\n",
              "      <td>32.219372</td>\n",
              "      <td>63.904922</td>\n",
              "      <td>27.511940</td>\n",
              "      <td>0</td>\n",
              "    </tr>\n",
              "    <tr>\n",
              "      <th>2</th>\n",
              "      <td>VA1GBIAORVI48M230320171236_4.wav</td>\n",
              "      <td>0.345587</td>\n",
              "      <td>0.300518</td>\n",
              "      <td>0.725389</td>\n",
              "      <td>0.672840</td>\n",
              "      <td>0.728825</td>\n",
              "      <td>0.773324</td>\n",
              "      <td>0.055985</td>\n",
              "      <td>0.044500</td>\n",
              "      <td>0.100485</td>\n",
              "      <td>...</td>\n",
              "      <td>0.518003</td>\n",
              "      <td>1.119048</td>\n",
              "      <td>1.067203</td>\n",
              "      <td>14.695510</td>\n",
              "      <td>0.526193</td>\n",
              "      <td>46.710770</td>\n",
              "      <td>19.187614</td>\n",
              "      <td>44.479095</td>\n",
              "      <td>25.896019</td>\n",
              "      <td>0</td>\n",
              "    </tr>\n",
              "    <tr>\n",
              "      <th>3</th>\n",
              "      <td>VA1APNOTROC49M230320170928_1.wav</td>\n",
              "      <td>0.300496</td>\n",
              "      <td>0.077720</td>\n",
              "      <td>0.538860</td>\n",
              "      <td>0.298300</td>\n",
              "      <td>0.335848</td>\n",
              "      <td>0.397874</td>\n",
              "      <td>0.037548</td>\n",
              "      <td>0.062026</td>\n",
              "      <td>0.099575</td>\n",
              "      <td>...</td>\n",
              "      <td>0.576485</td>\n",
              "      <td>1.211085</td>\n",
              "      <td>1.200336</td>\n",
              "      <td>19.504444</td>\n",
              "      <td>0.514629</td>\n",
              "      <td>59.023403</td>\n",
              "      <td>27.411112</td>\n",
              "      <td>60.256046</td>\n",
              "      <td>33.831272</td>\n",
              "      <td>0</td>\n",
              "    </tr>\n",
              "    <tr>\n",
              "      <th>4</th>\n",
              "      <td>VA2MBAUROIN45M100220171008_1.wav</td>\n",
              "      <td>0.228080</td>\n",
              "      <td>0.000000</td>\n",
              "      <td>0.658031</td>\n",
              "      <td>0.676202</td>\n",
              "      <td>0.703438</td>\n",
              "      <td>0.730181</td>\n",
              "      <td>0.027236</td>\n",
              "      <td>0.026742</td>\n",
              "      <td>0.053978</td>\n",
              "      <td>...</td>\n",
              "      <td>0.468196</td>\n",
              "      <td>1.001835</td>\n",
              "      <td>1.027505</td>\n",
              "      <td>-17.143257</td>\n",
              "      <td>0.489243</td>\n",
              "      <td>44.406948</td>\n",
              "      <td>21.239164</td>\n",
              "      <td>43.583591</td>\n",
              "      <td>21.970304</td>\n",
              "      <td>1</td>\n",
              "    </tr>\n",
              "  </tbody>\n",
              "</table>\n",
              "<p>5 rows × 6375 columns</p>\n",
              "</div>"
            ],
            "text/plain": [
              "                          file_name  audspec_lengthL1norm_sma_range  \\\n",
              "0    VA1cdaopmoe67M2605161906_1.wav                        1.737388   \n",
              "1  VA1ACNUTCOC40M230320171125_1.wav                        0.865035   \n",
              "2  VA1GBIAORVI48M230320171236_4.wav                        0.345587   \n",
              "3  VA1APNOTROC49M230320170928_1.wav                        0.300496   \n",
              "4  VA2MBAUROIN45M100220171008_1.wav                        0.228080   \n",
              "\n",
              "   audspec_lengthL1norm_sma_maxPos  audspec_lengthL1norm_sma_minPos  \\\n",
              "0                         0.316062                         0.000000   \n",
              "1                         0.031088                         0.979275   \n",
              "2                         0.300518                         0.725389   \n",
              "3                         0.077720                         0.538860   \n",
              "4                         0.000000                         0.658031   \n",
              "\n",
              "   audspec_lengthL1norm_sma_quartile1  audspec_lengthL1norm_sma_quartile2  \\\n",
              "0                            1.298277                            1.387176   \n",
              "1                            0.724670                            0.793456   \n",
              "2                            0.672840                            0.728825   \n",
              "3                            0.298300                            0.335848   \n",
              "4                            0.676202                            0.703438   \n",
              "\n",
              "   audspec_lengthL1norm_sma_quartile3  audspec_lengthL1norm_sma_iqr1-2  \\\n",
              "0                            1.559847                         0.088899   \n",
              "1                            0.934875                         0.068786   \n",
              "2                            0.773324                         0.055985   \n",
              "3                            0.397874                         0.037548   \n",
              "4                            0.730181                         0.027236   \n",
              "\n",
              "   audspec_lengthL1norm_sma_iqr2-3  audspec_lengthL1norm_sma_iqr1-3  ...  \\\n",
              "0                         0.172671                         0.261570  ...   \n",
              "1                         0.141419                         0.210205  ...   \n",
              "2                         0.044500                         0.100485  ...   \n",
              "3                         0.062026                         0.099575  ...   \n",
              "4                         0.026742                         0.053978  ...   \n",
              "\n",
              "   mfcc_sma_de[14]_peakRangeRel  mfcc_sma_de[14]_peakMeanAbs  \\\n",
              "0                      0.681077                     0.831712   \n",
              "1                      0.610465                     1.302754   \n",
              "2                      0.518003                     1.119048   \n",
              "3                      0.576485                     1.211085   \n",
              "4                      0.468196                     1.001835   \n",
              "\n",
              "   mfcc_sma_de[14]_peakMeanMeanDist  mfcc_sma_de[14]_peakMeanRel  \\\n",
              "0                          0.801220                    15.750338   \n",
              "1                          1.316529                   -19.288790   \n",
              "2                          1.067203                    14.695510   \n",
              "3                          1.200336                    19.504444   \n",
              "4                          1.027505                   -17.143257   \n",
              "\n",
              "   mfcc_sma_de[14]_minRangeRel  mfcc_sma_de[14]_meanRisingSlope  \\\n",
              "0                     0.292815                        50.184170   \n",
              "1                     0.578008                        68.996712   \n",
              "2                     0.526193                        46.710770   \n",
              "3                     0.514629                        59.023403   \n",
              "4                     0.489243                        44.406948   \n",
              "\n",
              "   mfcc_sma_de[14]_stddevRisingSlope  mfcc_sma_de[14]_meanFallingSlope  \\\n",
              "0                          27.437109                         37.835350   \n",
              "1                          32.219372                         63.904922   \n",
              "2                          19.187614                         44.479095   \n",
              "3                          27.411112                         60.256046   \n",
              "4                          21.239164                         43.583591   \n",
              "\n",
              "   mfcc_sma_de[14]_stddevFallingSlope  Y  \n",
              "0                           15.782556  1  \n",
              "1                           27.511940  0  \n",
              "2                           25.896019  0  \n",
              "3                           33.831272  0  \n",
              "4                           21.970304  1  \n",
              "\n",
              "[5 rows x 6375 columns]"
            ]
          },
          "execution_count": 41,
          "metadata": {},
          "output_type": "execute_result"
        }
      ],
      "source": [
        "df_functionals.head()"
      ]
    },
    {
      "cell_type": "code",
      "execution_count": 42,
      "metadata": {
        "id": "bwleJc3rQRJj"
      },
      "outputs": [],
      "source": [
        "df_functionals.drop(columns=['file_name'], inplace=True)"
      ]
    },
    {
      "cell_type": "markdown",
      "metadata": {
        "id": "TiNoUlF5Lgyt"
      },
      "source": [
        "# **Data Preprocessing for Functionals**"
      ]
    },
    {
      "cell_type": "code",
      "execution_count": 43,
      "metadata": {
        "colab": {
          "base_uri": "https://localhost:8080/"
        },
        "id": "AV8H5pFALpZT",
        "outputId": "75be0391-2dae-4537-e501-f68b032be3a6"
      },
      "outputs": [
        {
          "name": "stdout",
          "output_type": "stream",
          "text": [
            "<class 'pandas.core.frame.DataFrame'>\n",
            "RangeIndex: 154 entries, 0 to 153\n",
            "Columns: 6374 entries, audspec_lengthL1norm_sma_range to Y\n",
            "dtypes: float32(6373), int64(1)\n",
            "memory usage: 3.7 MB\n"
          ]
        }
      ],
      "source": [
        "df_functionals.info()"
      ]
    },
    {
      "cell_type": "code",
      "execution_count": 44,
      "metadata": {
        "colab": {
          "base_uri": "https://localhost:8080/",
          "height": 179
        },
        "id": "_QGlJXYtLmg8",
        "outputId": "bb046aa3-5017-41f7-c952-1147d086ecd1"
      },
      "outputs": [
        {
          "data": {
            "text/html": [
              "<div>\n",
              "<style scoped>\n",
              "    .dataframe tbody tr th:only-of-type {\n",
              "        vertical-align: middle;\n",
              "    }\n",
              "\n",
              "    .dataframe tbody tr th {\n",
              "        vertical-align: top;\n",
              "    }\n",
              "\n",
              "    .dataframe thead th {\n",
              "        text-align: right;\n",
              "    }\n",
              "</style>\n",
              "<table border=\"1\" class=\"dataframe\">\n",
              "  <thead>\n",
              "    <tr style=\"text-align: right;\">\n",
              "      <th></th>\n",
              "      <th>audspec_lengthL1norm_sma_range</th>\n",
              "      <th>audspec_lengthL1norm_sma_maxPos</th>\n",
              "      <th>audspec_lengthL1norm_sma_minPos</th>\n",
              "      <th>audspec_lengthL1norm_sma_quartile1</th>\n",
              "      <th>audspec_lengthL1norm_sma_quartile2</th>\n",
              "      <th>audspec_lengthL1norm_sma_quartile3</th>\n",
              "      <th>audspec_lengthL1norm_sma_iqr1-2</th>\n",
              "      <th>audspec_lengthL1norm_sma_iqr2-3</th>\n",
              "      <th>audspec_lengthL1norm_sma_iqr1-3</th>\n",
              "      <th>audspec_lengthL1norm_sma_percentile1.0</th>\n",
              "      <th>...</th>\n",
              "      <th>mfcc_sma_de[14]_peakRangeRel</th>\n",
              "      <th>mfcc_sma_de[14]_peakMeanAbs</th>\n",
              "      <th>mfcc_sma_de[14]_peakMeanMeanDist</th>\n",
              "      <th>mfcc_sma_de[14]_peakMeanRel</th>\n",
              "      <th>mfcc_sma_de[14]_minRangeRel</th>\n",
              "      <th>mfcc_sma_de[14]_meanRisingSlope</th>\n",
              "      <th>mfcc_sma_de[14]_stddevRisingSlope</th>\n",
              "      <th>mfcc_sma_de[14]_meanFallingSlope</th>\n",
              "      <th>mfcc_sma_de[14]_stddevFallingSlope</th>\n",
              "      <th>Y</th>\n",
              "    </tr>\n",
              "  </thead>\n",
              "  <tbody>\n",
              "    <tr>\n",
              "      <th>0</th>\n",
              "      <td>1.737388</td>\n",
              "      <td>0.316062</td>\n",
              "      <td>0.000000</td>\n",
              "      <td>1.298277</td>\n",
              "      <td>1.387176</td>\n",
              "      <td>1.559847</td>\n",
              "      <td>0.088899</td>\n",
              "      <td>0.172671</td>\n",
              "      <td>0.261570</td>\n",
              "      <td>0.032025</td>\n",
              "      <td>...</td>\n",
              "      <td>0.681077</td>\n",
              "      <td>0.831712</td>\n",
              "      <td>0.801220</td>\n",
              "      <td>15.750338</td>\n",
              "      <td>0.292815</td>\n",
              "      <td>50.184170</td>\n",
              "      <td>27.437109</td>\n",
              "      <td>37.835350</td>\n",
              "      <td>15.782556</td>\n",
              "      <td>1</td>\n",
              "    </tr>\n",
              "    <tr>\n",
              "      <th>1</th>\n",
              "      <td>0.865035</td>\n",
              "      <td>0.031088</td>\n",
              "      <td>0.979275</td>\n",
              "      <td>0.724670</td>\n",
              "      <td>0.793456</td>\n",
              "      <td>0.934875</td>\n",
              "      <td>0.068786</td>\n",
              "      <td>0.141419</td>\n",
              "      <td>0.210205</td>\n",
              "      <td>0.547266</td>\n",
              "      <td>...</td>\n",
              "      <td>0.610465</td>\n",
              "      <td>1.302754</td>\n",
              "      <td>1.316529</td>\n",
              "      <td>-19.288790</td>\n",
              "      <td>0.578008</td>\n",
              "      <td>68.996712</td>\n",
              "      <td>32.219372</td>\n",
              "      <td>63.904922</td>\n",
              "      <td>27.511940</td>\n",
              "      <td>0</td>\n",
              "    </tr>\n",
              "  </tbody>\n",
              "</table>\n",
              "<p>2 rows × 6374 columns</p>\n",
              "</div>"
            ],
            "text/plain": [
              "   audspec_lengthL1norm_sma_range  audspec_lengthL1norm_sma_maxPos  \\\n",
              "0                        1.737388                         0.316062   \n",
              "1                        0.865035                         0.031088   \n",
              "\n",
              "   audspec_lengthL1norm_sma_minPos  audspec_lengthL1norm_sma_quartile1  \\\n",
              "0                         0.000000                            1.298277   \n",
              "1                         0.979275                            0.724670   \n",
              "\n",
              "   audspec_lengthL1norm_sma_quartile2  audspec_lengthL1norm_sma_quartile3  \\\n",
              "0                            1.387176                            1.559847   \n",
              "1                            0.793456                            0.934875   \n",
              "\n",
              "   audspec_lengthL1norm_sma_iqr1-2  audspec_lengthL1norm_sma_iqr2-3  \\\n",
              "0                         0.088899                         0.172671   \n",
              "1                         0.068786                         0.141419   \n",
              "\n",
              "   audspec_lengthL1norm_sma_iqr1-3  audspec_lengthL1norm_sma_percentile1.0  \\\n",
              "0                         0.261570                                0.032025   \n",
              "1                         0.210205                                0.547266   \n",
              "\n",
              "   ...  mfcc_sma_de[14]_peakRangeRel  mfcc_sma_de[14]_peakMeanAbs  \\\n",
              "0  ...                      0.681077                     0.831712   \n",
              "1  ...                      0.610465                     1.302754   \n",
              "\n",
              "   mfcc_sma_de[14]_peakMeanMeanDist  mfcc_sma_de[14]_peakMeanRel  \\\n",
              "0                          0.801220                    15.750338   \n",
              "1                          1.316529                   -19.288790   \n",
              "\n",
              "   mfcc_sma_de[14]_minRangeRel  mfcc_sma_de[14]_meanRisingSlope  \\\n",
              "0                     0.292815                        50.184170   \n",
              "1                     0.578008                        68.996712   \n",
              "\n",
              "   mfcc_sma_de[14]_stddevRisingSlope  mfcc_sma_de[14]_meanFallingSlope  \\\n",
              "0                          27.437109                         37.835350   \n",
              "1                          32.219372                         63.904922   \n",
              "\n",
              "   mfcc_sma_de[14]_stddevFallingSlope  Y  \n",
              "0                           15.782556  1  \n",
              "1                           27.511940  0  \n",
              "\n",
              "[2 rows x 6374 columns]"
            ]
          },
          "execution_count": 44,
          "metadata": {},
          "output_type": "execute_result"
        }
      ],
      "source": [
        "df_functionals.head(2)"
      ]
    },
    {
      "cell_type": "code",
      "execution_count": 23,
      "metadata": {
        "id": "JkYl8UgAOm2l"
      },
      "outputs": [],
      "source": [
        "# def remove_outliers_iqr(df, lower_bound=0.25, upper_bound=0.75):\n",
        "#     filtered_df = df.copy()\n",
        "#     for column in filtered_df.select_dtypes(include=['number']).columns:\n",
        "#         Q1 = filtered_df[column].quantile(lower_bound)\n",
        "#         Q3 = filtered_df[column].quantile(upper_bound)\n",
        "#         IQR = Q3 - Q1\n",
        "#         lower_limit = Q1 - 1.5* IQR\n",
        "#         upper_limit = Q3 + 1.5 * IQR\n",
        "#         filtered_df = filtered_df[(filtered_df[column] >= lower_limit) & (filtered_df[column] <= upper_limit)]\n",
        "#     return filtered_df"
      ]
    },
    {
      "cell_type": "code",
      "execution_count": 24,
      "metadata": {
        "id": "IOOaCf69O_io"
      },
      "outputs": [],
      "source": [
        "# df_functionals = remove_outliers_iqr(df_functionals, lower_bound=0.1, upper_bound=0.9)"
      ]
    },
    {
      "cell_type": "code",
      "execution_count": 25,
      "metadata": {
        "colab": {
          "base_uri": "https://localhost:8080/",
          "height": 179
        },
        "id": "WpTLR5ozPPpw",
        "outputId": "9f1addfe-0a9e-4c15-f16c-510aca7ab5b8"
      },
      "outputs": [],
      "source": [
        "# df_functionals.head(2)"
      ]
    },
    {
      "cell_type": "code",
      "execution_count": 45,
      "metadata": {},
      "outputs": [],
      "source": [
        "def normalize_dataframe(df):\n",
        "    normalized_df = df.copy()\n",
        "    for column in normalized_df.select_dtypes(include=['number']).columns:\n",
        "        min_val = normalized_df[column].min()\n",
        "        max_val = normalized_df[column].max()\n",
        "        normalized_df[column] = (normalized_df[column] - min_val) / (max_val - min_val)\n",
        "    return normalized_df\n"
      ]
    },
    {
      "cell_type": "code",
      "execution_count": null,
      "metadata": {
        "id": "vPxWn3xUPuvE"
      },
      "outputs": [],
      "source": [
        "# def standardize_dataframe(df):\n",
        "#     standardized_df = df.copy()\n",
        "#     for column in standardized_df.select_dtypes(include=['number']).columns:\n",
        "#         mean = standardized_df[column].mean()\n",
        "#         std = standardized_df[column].std()\n",
        "#         standardized_df[column] = (standardized_df[column] - mean) / std\n",
        "#     return standardized_df"
      ]
    },
    {
      "cell_type": "code",
      "execution_count": 46,
      "metadata": {
        "id": "1RkBFfXchCFZ"
      },
      "outputs": [],
      "source": [
        "X = df_functionals.drop(columns=['Y'])\n",
        "y = df_functionals['Y']"
      ]
    },
    {
      "cell_type": "code",
      "execution_count": 47,
      "metadata": {
        "id": "yV9RhsVJQnsP"
      },
      "outputs": [],
      "source": [
        "X = normalize_dataframe(X)"
      ]
    },
    {
      "cell_type": "code",
      "execution_count": 48,
      "metadata": {
        "colab": {
          "base_uri": "https://localhost:8080/",
          "height": 273
        },
        "id": "YyZu7KhAQr-0",
        "outputId": "37ac5891-0bd1-4669-fa72-3fe65e54e86d"
      },
      "outputs": [
        {
          "data": {
            "text/html": [
              "<div>\n",
              "<style scoped>\n",
              "    .dataframe tbody tr th:only-of-type {\n",
              "        vertical-align: middle;\n",
              "    }\n",
              "\n",
              "    .dataframe tbody tr th {\n",
              "        vertical-align: top;\n",
              "    }\n",
              "\n",
              "    .dataframe thead th {\n",
              "        text-align: right;\n",
              "    }\n",
              "</style>\n",
              "<table border=\"1\" class=\"dataframe\">\n",
              "  <thead>\n",
              "    <tr style=\"text-align: right;\">\n",
              "      <th></th>\n",
              "      <th>audspec_lengthL1norm_sma_range</th>\n",
              "      <th>audspec_lengthL1norm_sma_maxPos</th>\n",
              "      <th>audspec_lengthL1norm_sma_minPos</th>\n",
              "      <th>audspec_lengthL1norm_sma_quartile1</th>\n",
              "      <th>audspec_lengthL1norm_sma_quartile2</th>\n",
              "      <th>audspec_lengthL1norm_sma_quartile3</th>\n",
              "      <th>audspec_lengthL1norm_sma_iqr1-2</th>\n",
              "      <th>audspec_lengthL1norm_sma_iqr2-3</th>\n",
              "      <th>audspec_lengthL1norm_sma_iqr1-3</th>\n",
              "      <th>audspec_lengthL1norm_sma_percentile1.0</th>\n",
              "      <th>...</th>\n",
              "      <th>mfcc_sma_de[14]_peakRangeAbs</th>\n",
              "      <th>mfcc_sma_de[14]_peakRangeRel</th>\n",
              "      <th>mfcc_sma_de[14]_peakMeanAbs</th>\n",
              "      <th>mfcc_sma_de[14]_peakMeanMeanDist</th>\n",
              "      <th>mfcc_sma_de[14]_peakMeanRel</th>\n",
              "      <th>mfcc_sma_de[14]_minRangeRel</th>\n",
              "      <th>mfcc_sma_de[14]_meanRisingSlope</th>\n",
              "      <th>mfcc_sma_de[14]_stddevRisingSlope</th>\n",
              "      <th>mfcc_sma_de[14]_meanFallingSlope</th>\n",
              "      <th>mfcc_sma_de[14]_stddevFallingSlope</th>\n",
              "    </tr>\n",
              "  </thead>\n",
              "  <tbody>\n",
              "    <tr>\n",
              "      <th>0</th>\n",
              "      <td>0.440548</td>\n",
              "      <td>0.319372</td>\n",
              "      <td>0.000000</td>\n",
              "      <td>0.548101</td>\n",
              "      <td>0.570526</td>\n",
              "      <td>0.540249</td>\n",
              "      <td>0.070401</td>\n",
              "      <td>0.145827</td>\n",
              "      <td>0.144089</td>\n",
              "      <td>0.006603</td>\n",
              "      <td>...</td>\n",
              "      <td>0.301010</td>\n",
              "      <td>0.946065</td>\n",
              "      <td>0.103556</td>\n",
              "      <td>0.088195</td>\n",
              "      <td>0.893773</td>\n",
              "      <td>0.154152</td>\n",
              "      <td>0.288522</td>\n",
              "      <td>0.309565</td>\n",
              "      <td>0.162983</td>\n",
              "      <td>0.086997</td>\n",
              "    </tr>\n",
              "    <tr>\n",
              "      <th>1</th>\n",
              "      <td>0.212391</td>\n",
              "      <td>0.031414</td>\n",
              "      <td>0.984375</td>\n",
              "      <td>0.259486</td>\n",
              "      <td>0.271727</td>\n",
              "      <td>0.279107</td>\n",
              "      <td>0.052885</td>\n",
              "      <td>0.118420</td>\n",
              "      <td>0.113944</td>\n",
              "      <td>0.247800</td>\n",
              "      <td>...</td>\n",
              "      <td>0.257187</td>\n",
              "      <td>0.841606</td>\n",
              "      <td>0.255880</td>\n",
              "      <td>0.246402</td>\n",
              "      <td>0.017781</td>\n",
              "      <td>0.689393</td>\n",
              "      <td>0.463041</td>\n",
              "      <td>0.376347</td>\n",
              "      <td>0.394275</td>\n",
              "      <td>0.222215</td>\n",
              "    </tr>\n",
              "    <tr>\n",
              "      <th>2</th>\n",
              "      <td>0.076534</td>\n",
              "      <td>0.303665</td>\n",
              "      <td>0.729167</td>\n",
              "      <td>0.233407</td>\n",
              "      <td>0.239201</td>\n",
              "      <td>0.211604</td>\n",
              "      <td>0.041737</td>\n",
              "      <td>0.033425</td>\n",
              "      <td>0.049552</td>\n",
              "      <td>0.284268</td>\n",
              "      <td>...</td>\n",
              "      <td>0.217799</td>\n",
              "      <td>0.704825</td>\n",
              "      <td>0.196474</td>\n",
              "      <td>0.169856</td>\n",
              "      <td>0.867402</td>\n",
              "      <td>0.592148</td>\n",
              "      <td>0.256300</td>\n",
              "      <td>0.194365</td>\n",
              "      <td>0.221927</td>\n",
              "      <td>0.203587</td>\n",
              "    </tr>\n",
              "    <tr>\n",
              "      <th>3</th>\n",
              "      <td>0.064741</td>\n",
              "      <td>0.078534</td>\n",
              "      <td>0.541667</td>\n",
              "      <td>0.044955</td>\n",
              "      <td>0.041429</td>\n",
              "      <td>0.054724</td>\n",
              "      <td>0.025680</td>\n",
              "      <td>0.048795</td>\n",
              "      <td>0.049018</td>\n",
              "      <td>0.114085</td>\n",
              "      <td>...</td>\n",
              "      <td>0.273941</td>\n",
              "      <td>0.791339</td>\n",
              "      <td>0.226237</td>\n",
              "      <td>0.210729</td>\n",
              "      <td>0.987628</td>\n",
              "      <td>0.570446</td>\n",
              "      <td>0.370521</td>\n",
              "      <td>0.309202</td>\n",
              "      <td>0.361902</td>\n",
              "      <td>0.295066</td>\n",
              "    </tr>\n",
              "    <tr>\n",
              "      <th>4</th>\n",
              "      <td>0.045802</td>\n",
              "      <td>0.000000</td>\n",
              "      <td>0.661458</td>\n",
              "      <td>0.235099</td>\n",
              "      <td>0.226424</td>\n",
              "      <td>0.193577</td>\n",
              "      <td>0.016699</td>\n",
              "      <td>0.017853</td>\n",
              "      <td>0.022259</td>\n",
              "      <td>0.284491</td>\n",
              "      <td>...</td>\n",
              "      <td>0.173728</td>\n",
              "      <td>0.631144</td>\n",
              "      <td>0.158570</td>\n",
              "      <td>0.157667</td>\n",
              "      <td>0.071420</td>\n",
              "      <td>0.522802</td>\n",
              "      <td>0.234928</td>\n",
              "      <td>0.223014</td>\n",
              "      <td>0.213982</td>\n",
              "      <td>0.158331</td>\n",
              "    </tr>\n",
              "  </tbody>\n",
              "</table>\n",
              "<p>5 rows × 6373 columns</p>\n",
              "</div>"
            ],
            "text/plain": [
              "   audspec_lengthL1norm_sma_range  audspec_lengthL1norm_sma_maxPos  \\\n",
              "0                        0.440548                         0.319372   \n",
              "1                        0.212391                         0.031414   \n",
              "2                        0.076534                         0.303665   \n",
              "3                        0.064741                         0.078534   \n",
              "4                        0.045802                         0.000000   \n",
              "\n",
              "   audspec_lengthL1norm_sma_minPos  audspec_lengthL1norm_sma_quartile1  \\\n",
              "0                         0.000000                            0.548101   \n",
              "1                         0.984375                            0.259486   \n",
              "2                         0.729167                            0.233407   \n",
              "3                         0.541667                            0.044955   \n",
              "4                         0.661458                            0.235099   \n",
              "\n",
              "   audspec_lengthL1norm_sma_quartile2  audspec_lengthL1norm_sma_quartile3  \\\n",
              "0                            0.570526                            0.540249   \n",
              "1                            0.271727                            0.279107   \n",
              "2                            0.239201                            0.211604   \n",
              "3                            0.041429                            0.054724   \n",
              "4                            0.226424                            0.193577   \n",
              "\n",
              "   audspec_lengthL1norm_sma_iqr1-2  audspec_lengthL1norm_sma_iqr2-3  \\\n",
              "0                         0.070401                         0.145827   \n",
              "1                         0.052885                         0.118420   \n",
              "2                         0.041737                         0.033425   \n",
              "3                         0.025680                         0.048795   \n",
              "4                         0.016699                         0.017853   \n",
              "\n",
              "   audspec_lengthL1norm_sma_iqr1-3  audspec_lengthL1norm_sma_percentile1.0  \\\n",
              "0                         0.144089                                0.006603   \n",
              "1                         0.113944                                0.247800   \n",
              "2                         0.049552                                0.284268   \n",
              "3                         0.049018                                0.114085   \n",
              "4                         0.022259                                0.284491   \n",
              "\n",
              "   ...  mfcc_sma_de[14]_peakRangeAbs  mfcc_sma_de[14]_peakRangeRel  \\\n",
              "0  ...                      0.301010                      0.946065   \n",
              "1  ...                      0.257187                      0.841606   \n",
              "2  ...                      0.217799                      0.704825   \n",
              "3  ...                      0.273941                      0.791339   \n",
              "4  ...                      0.173728                      0.631144   \n",
              "\n",
              "   mfcc_sma_de[14]_peakMeanAbs  mfcc_sma_de[14]_peakMeanMeanDist  \\\n",
              "0                     0.103556                          0.088195   \n",
              "1                     0.255880                          0.246402   \n",
              "2                     0.196474                          0.169856   \n",
              "3                     0.226237                          0.210729   \n",
              "4                     0.158570                          0.157667   \n",
              "\n",
              "   mfcc_sma_de[14]_peakMeanRel  mfcc_sma_de[14]_minRangeRel  \\\n",
              "0                     0.893773                     0.154152   \n",
              "1                     0.017781                     0.689393   \n",
              "2                     0.867402                     0.592148   \n",
              "3                     0.987628                     0.570446   \n",
              "4                     0.071420                     0.522802   \n",
              "\n",
              "   mfcc_sma_de[14]_meanRisingSlope  mfcc_sma_de[14]_stddevRisingSlope  \\\n",
              "0                         0.288522                           0.309565   \n",
              "1                         0.463041                           0.376347   \n",
              "2                         0.256300                           0.194365   \n",
              "3                         0.370521                           0.309202   \n",
              "4                         0.234928                           0.223014   \n",
              "\n",
              "   mfcc_sma_de[14]_meanFallingSlope  mfcc_sma_de[14]_stddevFallingSlope  \n",
              "0                          0.162983                            0.086997  \n",
              "1                          0.394275                            0.222215  \n",
              "2                          0.221927                            0.203587  \n",
              "3                          0.361902                            0.295066  \n",
              "4                          0.213982                            0.158331  \n",
              "\n",
              "[5 rows x 6373 columns]"
            ]
          },
          "execution_count": 48,
          "metadata": {},
          "output_type": "execute_result"
        }
      ],
      "source": [
        "X.head()"
      ]
    },
    {
      "cell_type": "code",
      "execution_count": 49,
      "metadata": {
        "id": "OJTtp0_hz_rp"
      },
      "outputs": [],
      "source": [
        "X_na = X.dropna(axis=1)"
      ]
    },
    {
      "cell_type": "code",
      "execution_count": 50,
      "metadata": {
        "colab": {
          "base_uri": "https://localhost:8080/",
          "height": 241
        },
        "id": "2ZZbHhej0FWD",
        "outputId": "d8bf2116-432b-4e9c-9382-48b2bb575f18"
      },
      "outputs": [
        {
          "data": {
            "text/plain": [
              "(154, 6373)"
            ]
          },
          "execution_count": 50,
          "metadata": {},
          "output_type": "execute_result"
        }
      ],
      "source": [
        "X_na.shape"
      ]
    },
    {
      "cell_type": "code",
      "execution_count": 42,
      "metadata": {
        "id": "tpR4cZh8_R9h"
      },
      "outputs": [],
      "source": [
        "# X_na_ = X_na[np.random.choice(X_na.columns, 1000, replace=False)]"
      ]
    },
    {
      "cell_type": "code",
      "execution_count": 51,
      "metadata": {
        "colab": {
          "base_uri": "https://localhost:8080/",
          "height": 273
        },
        "id": "xXEoitxm_TiY",
        "outputId": "355f1f2d-ac6d-46fb-eac8-679237ac2607"
      },
      "outputs": [
        {
          "data": {
            "text/html": [
              "<div>\n",
              "<style scoped>\n",
              "    .dataframe tbody tr th:only-of-type {\n",
              "        vertical-align: middle;\n",
              "    }\n",
              "\n",
              "    .dataframe tbody tr th {\n",
              "        vertical-align: top;\n",
              "    }\n",
              "\n",
              "    .dataframe thead th {\n",
              "        text-align: right;\n",
              "    }\n",
              "</style>\n",
              "<table border=\"1\" class=\"dataframe\">\n",
              "  <thead>\n",
              "    <tr style=\"text-align: right;\">\n",
              "      <th></th>\n",
              "      <th>audspec_lengthL1norm_sma_range</th>\n",
              "      <th>audspec_lengthL1norm_sma_maxPos</th>\n",
              "      <th>audspec_lengthL1norm_sma_minPos</th>\n",
              "      <th>audspec_lengthL1norm_sma_quartile1</th>\n",
              "      <th>audspec_lengthL1norm_sma_quartile2</th>\n",
              "      <th>audspec_lengthL1norm_sma_quartile3</th>\n",
              "      <th>audspec_lengthL1norm_sma_iqr1-2</th>\n",
              "      <th>audspec_lengthL1norm_sma_iqr2-3</th>\n",
              "      <th>audspec_lengthL1norm_sma_iqr1-3</th>\n",
              "      <th>audspec_lengthL1norm_sma_percentile1.0</th>\n",
              "      <th>...</th>\n",
              "      <th>mfcc_sma_de[14]_peakRangeAbs</th>\n",
              "      <th>mfcc_sma_de[14]_peakRangeRel</th>\n",
              "      <th>mfcc_sma_de[14]_peakMeanAbs</th>\n",
              "      <th>mfcc_sma_de[14]_peakMeanMeanDist</th>\n",
              "      <th>mfcc_sma_de[14]_peakMeanRel</th>\n",
              "      <th>mfcc_sma_de[14]_minRangeRel</th>\n",
              "      <th>mfcc_sma_de[14]_meanRisingSlope</th>\n",
              "      <th>mfcc_sma_de[14]_stddevRisingSlope</th>\n",
              "      <th>mfcc_sma_de[14]_meanFallingSlope</th>\n",
              "      <th>mfcc_sma_de[14]_stddevFallingSlope</th>\n",
              "    </tr>\n",
              "  </thead>\n",
              "  <tbody>\n",
              "    <tr>\n",
              "      <th>0</th>\n",
              "      <td>0.440548</td>\n",
              "      <td>0.319372</td>\n",
              "      <td>0.000000</td>\n",
              "      <td>0.548101</td>\n",
              "      <td>0.570526</td>\n",
              "      <td>0.540249</td>\n",
              "      <td>0.070401</td>\n",
              "      <td>0.145827</td>\n",
              "      <td>0.144089</td>\n",
              "      <td>0.006603</td>\n",
              "      <td>...</td>\n",
              "      <td>0.301010</td>\n",
              "      <td>0.946065</td>\n",
              "      <td>0.103556</td>\n",
              "      <td>0.088195</td>\n",
              "      <td>0.893773</td>\n",
              "      <td>0.154152</td>\n",
              "      <td>0.288522</td>\n",
              "      <td>0.309565</td>\n",
              "      <td>0.162983</td>\n",
              "      <td>0.086997</td>\n",
              "    </tr>\n",
              "    <tr>\n",
              "      <th>1</th>\n",
              "      <td>0.212391</td>\n",
              "      <td>0.031414</td>\n",
              "      <td>0.984375</td>\n",
              "      <td>0.259486</td>\n",
              "      <td>0.271727</td>\n",
              "      <td>0.279107</td>\n",
              "      <td>0.052885</td>\n",
              "      <td>0.118420</td>\n",
              "      <td>0.113944</td>\n",
              "      <td>0.247800</td>\n",
              "      <td>...</td>\n",
              "      <td>0.257187</td>\n",
              "      <td>0.841606</td>\n",
              "      <td>0.255880</td>\n",
              "      <td>0.246402</td>\n",
              "      <td>0.017781</td>\n",
              "      <td>0.689393</td>\n",
              "      <td>0.463041</td>\n",
              "      <td>0.376347</td>\n",
              "      <td>0.394275</td>\n",
              "      <td>0.222215</td>\n",
              "    </tr>\n",
              "    <tr>\n",
              "      <th>2</th>\n",
              "      <td>0.076534</td>\n",
              "      <td>0.303665</td>\n",
              "      <td>0.729167</td>\n",
              "      <td>0.233407</td>\n",
              "      <td>0.239201</td>\n",
              "      <td>0.211604</td>\n",
              "      <td>0.041737</td>\n",
              "      <td>0.033425</td>\n",
              "      <td>0.049552</td>\n",
              "      <td>0.284268</td>\n",
              "      <td>...</td>\n",
              "      <td>0.217799</td>\n",
              "      <td>0.704825</td>\n",
              "      <td>0.196474</td>\n",
              "      <td>0.169856</td>\n",
              "      <td>0.867402</td>\n",
              "      <td>0.592148</td>\n",
              "      <td>0.256300</td>\n",
              "      <td>0.194365</td>\n",
              "      <td>0.221927</td>\n",
              "      <td>0.203587</td>\n",
              "    </tr>\n",
              "    <tr>\n",
              "      <th>3</th>\n",
              "      <td>0.064741</td>\n",
              "      <td>0.078534</td>\n",
              "      <td>0.541667</td>\n",
              "      <td>0.044955</td>\n",
              "      <td>0.041429</td>\n",
              "      <td>0.054724</td>\n",
              "      <td>0.025680</td>\n",
              "      <td>0.048795</td>\n",
              "      <td>0.049018</td>\n",
              "      <td>0.114085</td>\n",
              "      <td>...</td>\n",
              "      <td>0.273941</td>\n",
              "      <td>0.791339</td>\n",
              "      <td>0.226237</td>\n",
              "      <td>0.210729</td>\n",
              "      <td>0.987628</td>\n",
              "      <td>0.570446</td>\n",
              "      <td>0.370521</td>\n",
              "      <td>0.309202</td>\n",
              "      <td>0.361902</td>\n",
              "      <td>0.295066</td>\n",
              "    </tr>\n",
              "    <tr>\n",
              "      <th>4</th>\n",
              "      <td>0.045802</td>\n",
              "      <td>0.000000</td>\n",
              "      <td>0.661458</td>\n",
              "      <td>0.235099</td>\n",
              "      <td>0.226424</td>\n",
              "      <td>0.193577</td>\n",
              "      <td>0.016699</td>\n",
              "      <td>0.017853</td>\n",
              "      <td>0.022259</td>\n",
              "      <td>0.284491</td>\n",
              "      <td>...</td>\n",
              "      <td>0.173728</td>\n",
              "      <td>0.631144</td>\n",
              "      <td>0.158570</td>\n",
              "      <td>0.157667</td>\n",
              "      <td>0.071420</td>\n",
              "      <td>0.522802</td>\n",
              "      <td>0.234928</td>\n",
              "      <td>0.223014</td>\n",
              "      <td>0.213982</td>\n",
              "      <td>0.158331</td>\n",
              "    </tr>\n",
              "  </tbody>\n",
              "</table>\n",
              "<p>5 rows × 6373 columns</p>\n",
              "</div>"
            ],
            "text/plain": [
              "   audspec_lengthL1norm_sma_range  audspec_lengthL1norm_sma_maxPos  \\\n",
              "0                        0.440548                         0.319372   \n",
              "1                        0.212391                         0.031414   \n",
              "2                        0.076534                         0.303665   \n",
              "3                        0.064741                         0.078534   \n",
              "4                        0.045802                         0.000000   \n",
              "\n",
              "   audspec_lengthL1norm_sma_minPos  audspec_lengthL1norm_sma_quartile1  \\\n",
              "0                         0.000000                            0.548101   \n",
              "1                         0.984375                            0.259486   \n",
              "2                         0.729167                            0.233407   \n",
              "3                         0.541667                            0.044955   \n",
              "4                         0.661458                            0.235099   \n",
              "\n",
              "   audspec_lengthL1norm_sma_quartile2  audspec_lengthL1norm_sma_quartile3  \\\n",
              "0                            0.570526                            0.540249   \n",
              "1                            0.271727                            0.279107   \n",
              "2                            0.239201                            0.211604   \n",
              "3                            0.041429                            0.054724   \n",
              "4                            0.226424                            0.193577   \n",
              "\n",
              "   audspec_lengthL1norm_sma_iqr1-2  audspec_lengthL1norm_sma_iqr2-3  \\\n",
              "0                         0.070401                         0.145827   \n",
              "1                         0.052885                         0.118420   \n",
              "2                         0.041737                         0.033425   \n",
              "3                         0.025680                         0.048795   \n",
              "4                         0.016699                         0.017853   \n",
              "\n",
              "   audspec_lengthL1norm_sma_iqr1-3  audspec_lengthL1norm_sma_percentile1.0  \\\n",
              "0                         0.144089                                0.006603   \n",
              "1                         0.113944                                0.247800   \n",
              "2                         0.049552                                0.284268   \n",
              "3                         0.049018                                0.114085   \n",
              "4                         0.022259                                0.284491   \n",
              "\n",
              "   ...  mfcc_sma_de[14]_peakRangeAbs  mfcc_sma_de[14]_peakRangeRel  \\\n",
              "0  ...                      0.301010                      0.946065   \n",
              "1  ...                      0.257187                      0.841606   \n",
              "2  ...                      0.217799                      0.704825   \n",
              "3  ...                      0.273941                      0.791339   \n",
              "4  ...                      0.173728                      0.631144   \n",
              "\n",
              "   mfcc_sma_de[14]_peakMeanAbs  mfcc_sma_de[14]_peakMeanMeanDist  \\\n",
              "0                     0.103556                          0.088195   \n",
              "1                     0.255880                          0.246402   \n",
              "2                     0.196474                          0.169856   \n",
              "3                     0.226237                          0.210729   \n",
              "4                     0.158570                          0.157667   \n",
              "\n",
              "   mfcc_sma_de[14]_peakMeanRel  mfcc_sma_de[14]_minRangeRel  \\\n",
              "0                     0.893773                     0.154152   \n",
              "1                     0.017781                     0.689393   \n",
              "2                     0.867402                     0.592148   \n",
              "3                     0.987628                     0.570446   \n",
              "4                     0.071420                     0.522802   \n",
              "\n",
              "   mfcc_sma_de[14]_meanRisingSlope  mfcc_sma_de[14]_stddevRisingSlope  \\\n",
              "0                         0.288522                           0.309565   \n",
              "1                         0.463041                           0.376347   \n",
              "2                         0.256300                           0.194365   \n",
              "3                         0.370521                           0.309202   \n",
              "4                         0.234928                           0.223014   \n",
              "\n",
              "   mfcc_sma_de[14]_meanFallingSlope  mfcc_sma_de[14]_stddevFallingSlope  \n",
              "0                          0.162983                            0.086997  \n",
              "1                          0.394275                            0.222215  \n",
              "2                          0.221927                            0.203587  \n",
              "3                          0.361902                            0.295066  \n",
              "4                          0.213982                            0.158331  \n",
              "\n",
              "[5 rows x 6373 columns]"
            ]
          },
          "execution_count": 51,
          "metadata": {},
          "output_type": "execute_result"
        }
      ],
      "source": [
        "X_na.head()"
      ]
    },
    {
      "cell_type": "code",
      "execution_count": 52,
      "metadata": {
        "colab": {
          "base_uri": "https://localhost:8080/",
          "height": 241
        },
        "id": "D-vfyg1LhQtU",
        "outputId": "86f31cd0-0850-4550-b8c6-09f3e708acca"
      },
      "outputs": [
        {
          "data": {
            "text/plain": [
              "0    1\n",
              "1    0\n",
              "2    0\n",
              "3    0\n",
              "4    1\n",
              "Name: Y, dtype: int64"
            ]
          },
          "execution_count": 52,
          "metadata": {},
          "output_type": "execute_result"
        }
      ],
      "source": [
        "y.head()"
      ]
    },
    {
      "cell_type": "code",
      "execution_count": 53,
      "metadata": {},
      "outputs": [
        {
          "data": {
            "text/plain": [
              "Y\n",
              "1    77\n",
              "0    77\n",
              "Name: count, dtype: int64"
            ]
          },
          "execution_count": 53,
          "metadata": {},
          "output_type": "execute_result"
        }
      ],
      "source": [
        "y.value_counts()"
      ]
    },
    {
      "cell_type": "markdown",
      "metadata": {
        "id": "Wk4kqPBUfbqa"
      },
      "source": [
        "# **mRMR**"
      ]
    },
    {
      "cell_type": "code",
      "execution_count": 36,
      "metadata": {
        "colab": {
          "base_uri": "https://localhost:8080/"
        },
        "id": "l-jm8qOFfpHX",
        "outputId": "59c5bcfb-2043-4e76-865b-2d8f31babdf8"
      },
      "outputs": [],
      "source": [
        "# !pip install feature_engine"
      ]
    },
    {
      "cell_type": "code",
      "execution_count": 54,
      "metadata": {
        "id": "ToavOyG1fbO2"
      },
      "outputs": [],
      "source": [
        "from feature_engine.selection import MRMR"
      ]
    },
    {
      "cell_type": "code",
      "execution_count": 55,
      "metadata": {
        "colab": {
          "base_uri": "https://localhost:8080/",
          "height": 80
        },
        "id": "ALDsa047fnfA",
        "outputId": "995f861c-8468-4904-fd2d-f93b49eeb2ff"
      },
      "outputs": [],
      "source": [
        "sel = MRMR(method=\"MID\", max_features = 30, regression=False)"
      ]
    },
    {
      "cell_type": "code",
      "execution_count": 56,
      "metadata": {},
      "outputs": [
        {
          "data": {
            "text/html": [
              "<style>#sk-container-id-1 {color: black;}#sk-container-id-1 pre{padding: 0;}#sk-container-id-1 div.sk-toggleable {background-color: white;}#sk-container-id-1 label.sk-toggleable__label {cursor: pointer;display: block;width: 100%;margin-bottom: 0;padding: 0.3em;box-sizing: border-box;text-align: center;}#sk-container-id-1 label.sk-toggleable__label-arrow:before {content: \"▸\";float: left;margin-right: 0.25em;color: #696969;}#sk-container-id-1 label.sk-toggleable__label-arrow:hover:before {color: black;}#sk-container-id-1 div.sk-estimator:hover label.sk-toggleable__label-arrow:before {color: black;}#sk-container-id-1 div.sk-toggleable__content {max-height: 0;max-width: 0;overflow: hidden;text-align: left;background-color: #f0f8ff;}#sk-container-id-1 div.sk-toggleable__content pre {margin: 0.2em;color: black;border-radius: 0.25em;background-color: #f0f8ff;}#sk-container-id-1 input.sk-toggleable__control:checked~div.sk-toggleable__content {max-height: 200px;max-width: 100%;overflow: auto;}#sk-container-id-1 input.sk-toggleable__control:checked~label.sk-toggleable__label-arrow:before {content: \"▾\";}#sk-container-id-1 div.sk-estimator input.sk-toggleable__control:checked~label.sk-toggleable__label {background-color: #d4ebff;}#sk-container-id-1 div.sk-label input.sk-toggleable__control:checked~label.sk-toggleable__label {background-color: #d4ebff;}#sk-container-id-1 input.sk-hidden--visually {border: 0;clip: rect(1px 1px 1px 1px);clip: rect(1px, 1px, 1px, 1px);height: 1px;margin: -1px;overflow: hidden;padding: 0;position: absolute;width: 1px;}#sk-container-id-1 div.sk-estimator {font-family: monospace;background-color: #f0f8ff;border: 1px dotted black;border-radius: 0.25em;box-sizing: border-box;margin-bottom: 0.5em;}#sk-container-id-1 div.sk-estimator:hover {background-color: #d4ebff;}#sk-container-id-1 div.sk-parallel-item::after {content: \"\";width: 100%;border-bottom: 1px solid gray;flex-grow: 1;}#sk-container-id-1 div.sk-label:hover label.sk-toggleable__label {background-color: #d4ebff;}#sk-container-id-1 div.sk-serial::before {content: \"\";position: absolute;border-left: 1px solid gray;box-sizing: border-box;top: 0;bottom: 0;left: 50%;z-index: 0;}#sk-container-id-1 div.sk-serial {display: flex;flex-direction: column;align-items: center;background-color: white;padding-right: 0.2em;padding-left: 0.2em;position: relative;}#sk-container-id-1 div.sk-item {position: relative;z-index: 1;}#sk-container-id-1 div.sk-parallel {display: flex;align-items: stretch;justify-content: center;background-color: white;position: relative;}#sk-container-id-1 div.sk-item::before, #sk-container-id-1 div.sk-parallel-item::before {content: \"\";position: absolute;border-left: 1px solid gray;box-sizing: border-box;top: 0;bottom: 0;left: 50%;z-index: -1;}#sk-container-id-1 div.sk-parallel-item {display: flex;flex-direction: column;z-index: 1;position: relative;background-color: white;}#sk-container-id-1 div.sk-parallel-item:first-child::after {align-self: flex-end;width: 50%;}#sk-container-id-1 div.sk-parallel-item:last-child::after {align-self: flex-start;width: 50%;}#sk-container-id-1 div.sk-parallel-item:only-child::after {width: 0;}#sk-container-id-1 div.sk-dashed-wrapped {border: 1px dashed gray;margin: 0 0.4em 0.5em 0.4em;box-sizing: border-box;padding-bottom: 0.4em;background-color: white;}#sk-container-id-1 div.sk-label label {font-family: monospace;font-weight: bold;display: inline-block;line-height: 1.2em;}#sk-container-id-1 div.sk-label-container {text-align: center;}#sk-container-id-1 div.sk-container {/* jupyter's `normalize.less` sets `[hidden] { display: none; }` but bootstrap.min.css set `[hidden] { display: none !important; }` so we also need the `!important` here to be able to override the default hidden behavior on the sphinx rendered scikit-learn.org. See: https://github.com/scikit-learn/scikit-learn/issues/21755 */display: inline-block !important;position: relative;}#sk-container-id-1 div.sk-text-repr-fallback {display: none;}</style><div id=\"sk-container-id-1\" class=\"sk-top-container\"><div class=\"sk-text-repr-fallback\"><pre>MRMR(max_features=30, method=&#x27;MID&#x27;)</pre><b>In a Jupyter environment, please rerun this cell to show the HTML representation or trust the notebook. <br />On GitHub, the HTML representation is unable to render, please try loading this page with nbviewer.org.</b></div><div class=\"sk-container\" hidden><div class=\"sk-item\"><div class=\"sk-estimator sk-toggleable\"><input class=\"sk-toggleable__control sk-hidden--visually\" id=\"sk-estimator-id-1\" type=\"checkbox\" checked><label for=\"sk-estimator-id-1\" class=\"sk-toggleable__label sk-toggleable__label-arrow\">MRMR</label><div class=\"sk-toggleable__content\"><pre>MRMR(max_features=30, method=&#x27;MID&#x27;)</pre></div></div></div></div></div>"
            ],
            "text/plain": [
              "MRMR(max_features=30, method='MID')"
            ]
          },
          "execution_count": 56,
          "metadata": {},
          "output_type": "execute_result"
        }
      ],
      "source": [
        "sel.fit(X_na, y)"
      ]
    },
    {
      "cell_type": "code",
      "execution_count": 57,
      "metadata": {
        "id": "m56niVKphaL0"
      },
      "outputs": [],
      "source": [
        "mutual_information = pd.DataFrame({\n",
        "    \"Variable\": sel.variables_,\n",
        "    \"mutual information\": sel.relevance_\n",
        "})\n",
        "mutual_information = mutual_information.sort_values(by=\"mutual information\", ascending=False).reset_index(drop=True)"
      ]
    },
    {
      "cell_type": "code",
      "execution_count": 58,
      "metadata": {
        "colab": {
          "base_uri": "https://localhost:8080/",
          "height": 990
        },
        "id": "XNERDmv9oee8",
        "outputId": "6b8d1ed3-beef-4ddd-dd4f-0d9e0222035b"
      },
      "outputs": [
        {
          "data": {
            "text/html": [
              "<div>\n",
              "<style scoped>\n",
              "    .dataframe tbody tr th:only-of-type {\n",
              "        vertical-align: middle;\n",
              "    }\n",
              "\n",
              "    .dataframe tbody tr th {\n",
              "        vertical-align: top;\n",
              "    }\n",
              "\n",
              "    .dataframe thead th {\n",
              "        text-align: right;\n",
              "    }\n",
              "</style>\n",
              "<table border=\"1\" class=\"dataframe\">\n",
              "  <thead>\n",
              "    <tr style=\"text-align: right;\">\n",
              "      <th></th>\n",
              "      <th>Variable</th>\n",
              "      <th>mutual information</th>\n",
              "    </tr>\n",
              "  </thead>\n",
              "  <tbody>\n",
              "    <tr>\n",
              "      <th>0</th>\n",
              "      <td>pcm_fftMag_spectralRollOff25.0_sma_quartile1</td>\n",
              "      <td>0.467910</td>\n",
              "    </tr>\n",
              "    <tr>\n",
              "      <th>1</th>\n",
              "      <td>pcm_fftMag_spectralRollOff25.0_sma_quartile2</td>\n",
              "      <td>0.457249</td>\n",
              "    </tr>\n",
              "    <tr>\n",
              "      <th>2</th>\n",
              "      <td>pcm_zcr_sma_peakMeanAbs</td>\n",
              "      <td>0.439310</td>\n",
              "    </tr>\n",
              "    <tr>\n",
              "      <th>3</th>\n",
              "      <td>pcm_fftMag_spectralRollOff25.0_sma_percentile99.0</td>\n",
              "      <td>0.421391</td>\n",
              "    </tr>\n",
              "    <tr>\n",
              "      <th>4</th>\n",
              "      <td>pcm_zcr_sma_percentile99.0</td>\n",
              "      <td>0.413409</td>\n",
              "    </tr>\n",
              "    <tr>\n",
              "      <th>5</th>\n",
              "      <td>pcm_zcr_sma_quartile3</td>\n",
              "      <td>0.403600</td>\n",
              "    </tr>\n",
              "    <tr>\n",
              "      <th>6</th>\n",
              "      <td>pcm_fftMag_spectralRollOff25.0_sma_amean</td>\n",
              "      <td>0.400594</td>\n",
              "    </tr>\n",
              "    <tr>\n",
              "      <th>7</th>\n",
              "      <td>pcm_fftMag_spectralRollOff25.0_sma_quartile3</td>\n",
              "      <td>0.398346</td>\n",
              "    </tr>\n",
              "    <tr>\n",
              "      <th>8</th>\n",
              "      <td>pcm_fftMag_spectralRollOff25.0_sma_lpgain</td>\n",
              "      <td>0.391357</td>\n",
              "    </tr>\n",
              "    <tr>\n",
              "      <th>9</th>\n",
              "      <td>pcm_fftMag_spectralRollOff25.0_sma_rqmean</td>\n",
              "      <td>0.388337</td>\n",
              "    </tr>\n",
              "    <tr>\n",
              "      <th>10</th>\n",
              "      <td>pcm_zcr_sma_lpgain</td>\n",
              "      <td>0.383691</td>\n",
              "    </tr>\n",
              "    <tr>\n",
              "      <th>11</th>\n",
              "      <td>pcm_zcr_sma_rqmean</td>\n",
              "      <td>0.370364</td>\n",
              "    </tr>\n",
              "    <tr>\n",
              "      <th>12</th>\n",
              "      <td>pcm_fftMag_spectralEntropy_sma_de_iqr2-3</td>\n",
              "      <td>0.366768</td>\n",
              "    </tr>\n",
              "    <tr>\n",
              "      <th>13</th>\n",
              "      <td>pcm_fftMag_spectralEntropy_sma_de_iqr1-3</td>\n",
              "      <td>0.354762</td>\n",
              "    </tr>\n",
              "    <tr>\n",
              "      <th>14</th>\n",
              "      <td>pcm_zcr_sma_amean</td>\n",
              "      <td>0.353968</td>\n",
              "    </tr>\n",
              "    <tr>\n",
              "      <th>15</th>\n",
              "      <td>pcm_zcr_sma_percentile1.0</td>\n",
              "      <td>0.351375</td>\n",
              "    </tr>\n",
              "    <tr>\n",
              "      <th>16</th>\n",
              "      <td>pcm_fftMag_spectralEntropy_sma_de_quartile1</td>\n",
              "      <td>0.343477</td>\n",
              "    </tr>\n",
              "    <tr>\n",
              "      <th>17</th>\n",
              "      <td>pcm_fftMag_spectralEntropy_sma_de_meanFallingS...</td>\n",
              "      <td>0.340819</td>\n",
              "    </tr>\n",
              "    <tr>\n",
              "      <th>18</th>\n",
              "      <td>pcm_fftMag_spectralRollOff25.0_sma_percentile1.0</td>\n",
              "      <td>0.339078</td>\n",
              "    </tr>\n",
              "    <tr>\n",
              "      <th>19</th>\n",
              "      <td>pcm_zcr_sma_quartile2</td>\n",
              "      <td>0.336337</td>\n",
              "    </tr>\n",
              "    <tr>\n",
              "      <th>20</th>\n",
              "      <td>pcm_zcr_sma_de_iqr1-3</td>\n",
              "      <td>0.333885</td>\n",
              "    </tr>\n",
              "    <tr>\n",
              "      <th>21</th>\n",
              "      <td>logHNR_sma_quartile1</td>\n",
              "      <td>0.332059</td>\n",
              "    </tr>\n",
              "    <tr>\n",
              "      <th>22</th>\n",
              "      <td>pcm_fftMag_spectralEntropy_sma_de_posamean</td>\n",
              "      <td>0.316471</td>\n",
              "    </tr>\n",
              "    <tr>\n",
              "      <th>23</th>\n",
              "      <td>pcm_zcr_sma_quartile1</td>\n",
              "      <td>0.316018</td>\n",
              "    </tr>\n",
              "    <tr>\n",
              "      <th>24</th>\n",
              "      <td>pcm_fftMag_spectralEntropy_sma_de_percentile1.0</td>\n",
              "      <td>0.314272</td>\n",
              "    </tr>\n",
              "    <tr>\n",
              "      <th>25</th>\n",
              "      <td>pcm_fftMag_spectralEntropy_sma_de_iqr1-2</td>\n",
              "      <td>0.312228</td>\n",
              "    </tr>\n",
              "    <tr>\n",
              "      <th>26</th>\n",
              "      <td>pcm_fftMag_spectralEntropy_sma_de_stddev</td>\n",
              "      <td>0.311903</td>\n",
              "    </tr>\n",
              "    <tr>\n",
              "      <th>27</th>\n",
              "      <td>pcm_fftMag_spectralEntropy_sma_de_rqmean</td>\n",
              "      <td>0.311151</td>\n",
              "    </tr>\n",
              "    <tr>\n",
              "      <th>28</th>\n",
              "      <td>pcm_fftMag_spectralRollOff25.0_sma_peakMeanAbs</td>\n",
              "      <td>0.311142</td>\n",
              "    </tr>\n",
              "    <tr>\n",
              "      <th>29</th>\n",
              "      <td>pcm_zcr_sma_de_quartile1</td>\n",
              "      <td>0.309870</td>\n",
              "    </tr>\n",
              "  </tbody>\n",
              "</table>\n",
              "</div>"
            ],
            "text/plain": [
              "                                             Variable  mutual information\n",
              "0        pcm_fftMag_spectralRollOff25.0_sma_quartile1            0.467910\n",
              "1        pcm_fftMag_spectralRollOff25.0_sma_quartile2            0.457249\n",
              "2                             pcm_zcr_sma_peakMeanAbs            0.439310\n",
              "3   pcm_fftMag_spectralRollOff25.0_sma_percentile99.0            0.421391\n",
              "4                          pcm_zcr_sma_percentile99.0            0.413409\n",
              "5                               pcm_zcr_sma_quartile3            0.403600\n",
              "6            pcm_fftMag_spectralRollOff25.0_sma_amean            0.400594\n",
              "7        pcm_fftMag_spectralRollOff25.0_sma_quartile3            0.398346\n",
              "8           pcm_fftMag_spectralRollOff25.0_sma_lpgain            0.391357\n",
              "9           pcm_fftMag_spectralRollOff25.0_sma_rqmean            0.388337\n",
              "10                                 pcm_zcr_sma_lpgain            0.383691\n",
              "11                                 pcm_zcr_sma_rqmean            0.370364\n",
              "12           pcm_fftMag_spectralEntropy_sma_de_iqr2-3            0.366768\n",
              "13           pcm_fftMag_spectralEntropy_sma_de_iqr1-3            0.354762\n",
              "14                                  pcm_zcr_sma_amean            0.353968\n",
              "15                          pcm_zcr_sma_percentile1.0            0.351375\n",
              "16        pcm_fftMag_spectralEntropy_sma_de_quartile1            0.343477\n",
              "17  pcm_fftMag_spectralEntropy_sma_de_meanFallingS...            0.340819\n",
              "18   pcm_fftMag_spectralRollOff25.0_sma_percentile1.0            0.339078\n",
              "19                              pcm_zcr_sma_quartile2            0.336337\n",
              "20                              pcm_zcr_sma_de_iqr1-3            0.333885\n",
              "21                               logHNR_sma_quartile1            0.332059\n",
              "22         pcm_fftMag_spectralEntropy_sma_de_posamean            0.316471\n",
              "23                              pcm_zcr_sma_quartile1            0.316018\n",
              "24    pcm_fftMag_spectralEntropy_sma_de_percentile1.0            0.314272\n",
              "25           pcm_fftMag_spectralEntropy_sma_de_iqr1-2            0.312228\n",
              "26           pcm_fftMag_spectralEntropy_sma_de_stddev            0.311903\n",
              "27           pcm_fftMag_spectralEntropy_sma_de_rqmean            0.311151\n",
              "28     pcm_fftMag_spectralRollOff25.0_sma_peakMeanAbs            0.311142\n",
              "29                           pcm_zcr_sma_de_quartile1            0.309870"
            ]
          },
          "execution_count": 58,
          "metadata": {},
          "output_type": "execute_result"
        }
      ],
      "source": [
        "mutual_information.head(30)"
      ]
    },
    {
      "cell_type": "code",
      "execution_count": 59,
      "metadata": {
        "id": "8ZunqHXBQ0W7"
      },
      "outputs": [],
      "source": [
        "mutual_information.to_csv('mutual information.csv', index=False)"
      ]
    },
    {
      "cell_type": "code",
      "execution_count": 60,
      "metadata": {
        "colab": {
          "base_uri": "https://localhost:8080/"
        },
        "id": "nfI5Q1jQuEyF",
        "outputId": "e8706d2b-a420-41a8-c3da-dc7cb63ec072"
      },
      "outputs": [
        {
          "data": {
            "text/plain": [
              "6373"
            ]
          },
          "execution_count": 60,
          "metadata": {},
          "output_type": "execute_result"
        }
      ],
      "source": [
        "len(sel.variables_)   # The variables that will be considered for the feature selection procedure. # should be 6373"
      ]
    },
    {
      "cell_type": "code",
      "execution_count": 61,
      "metadata": {
        "colab": {
          "base_uri": "https://localhost:8080/"
        },
        "id": "UX85jrBougzl",
        "outputId": "54943344-e8c4-44d9-8c1b-70795d7b82e8"
      },
      "outputs": [
        {
          "data": {
            "text/plain": [
              "6373"
            ]
          },
          "execution_count": 61,
          "metadata": {},
          "output_type": "execute_result"
        }
      ],
      "source": [
        "len(sel.feature_names_in_)  #List with the names of features seen during fit. # should be 6373"
      ]
    },
    {
      "cell_type": "code",
      "execution_count": 62,
      "metadata": {
        "colab": {
          "base_uri": "https://localhost:8080/"
        },
        "id": "wO6zYN8huJc-",
        "outputId": "9356a503-2f9c-4118-9c20-40b101cde4b4"
      },
      "outputs": [
        {
          "data": {
            "text/plain": [
              "6343"
            ]
          },
          "execution_count": 62,
          "metadata": {},
          "output_type": "execute_result"
        }
      ],
      "source": [
        "len(sel.features_to_drop_) #Dropped features # should be (6373 - 30)"
      ]
    },
    {
      "cell_type": "code",
      "execution_count": 63,
      "metadata": {
        "id": "PyecVVkhvswg"
      },
      "outputs": [],
      "source": [
        "selected_features = sel.get_feature_names_out() # n selected features"
      ]
    },
    {
      "cell_type": "code",
      "execution_count": 64,
      "metadata": {
        "colab": {
          "base_uri": "https://localhost:8080/"
        },
        "id": "rU-CZPVfv82Z",
        "outputId": "073fd506-5039-4516-ccea-5794ebc48e0c"
      },
      "outputs": [
        {
          "data": {
            "text/plain": [
              "30"
            ]
          },
          "execution_count": 64,
          "metadata": {},
          "output_type": "execute_result"
        }
      ],
      "source": [
        "len(selected_features)  # should be 30"
      ]
    },
    {
      "cell_type": "code",
      "execution_count": 65,
      "metadata": {
        "colab": {
          "base_uri": "https://localhost:8080/"
        },
        "id": "jgX3iXMOv9qG",
        "outputId": "64f9421b-caa8-43a8-df29-db7cea760804"
      },
      "outputs": [
        {
          "data": {
            "text/plain": [
              "['pcm_zcr_sma_percentile1.0',\n",
              " 'pcm_zcr_sma_percentile99.0',\n",
              " 'audspec_lengthL1norm_sma_de_lpc3',\n",
              " 'pcm_zcr_sma_de_quartile1',\n",
              " 'pcm_zcr_sma_de_iqr1-3',\n",
              " 'audSpec_Rfilt_sma[8]_quartile2',\n",
              " 'pcm_fftMag_spectralRollOff25.0_sma_quartile1',\n",
              " 'pcm_fftMag_spectralRollOff25.0_sma_quartile2',\n",
              " 'pcm_fftMag_spectralRollOff25.0_sma_skewness',\n",
              " 'pcm_fftMag_spectralRollOff25.0_sma_segLenStddev',\n",
              " 'pcm_fftMag_spectralRollOff90.0_sma_iqr1-2',\n",
              " 'pcm_fftMag_spectralEntropy_sma_iqr1-2',\n",
              " 'mfcc_sma[1]_percentile99.0',\n",
              " 'mfcc_sma[3]_lpgain',\n",
              " 'audSpec_Rfilt_sma_de[10]_segLenStddev',\n",
              " 'audSpec_Rfilt_sma_de[11]_quartile3',\n",
              " 'audSpec_Rfilt_sma_de[12]_skewness',\n",
              " 'audSpec_Rfilt_sma_de[13]_lpc2',\n",
              " 'pcm_fftMag_spectralRollOff25.0_sma_de_lpc0',\n",
              " 'pcm_fftMag_spectralFlux_sma_de_segLenStddev',\n",
              " 'pcm_fftMag_spectralEntropy_sma_de_iqr1-2',\n",
              " 'pcm_fftMag_spectralEntropy_sma_de_iqr2-3',\n",
              " 'pcm_fftMag_spectralSkewness_sma_de_lpgain',\n",
              " 'logHNR_sma_quartile1',\n",
              " 'pcm_zcr_sma_peakMeanAbs',\n",
              " 'audSpec_Rfilt_sma[1]_stddevRisingSlope',\n",
              " 'pcm_fftMag_spectralVariance_sma_peakMeanMeanDist',\n",
              " 'pcm_fftMag_spectralHarmonicity_sma_linregc2',\n",
              " 'mfcc_sma[13]_minRangeRel',\n",
              " 'pcm_fftMag_spectralEntropy_sma_de_peakRangeAbs']"
            ]
          },
          "execution_count": 65,
          "metadata": {},
          "output_type": "execute_result"
        }
      ],
      "source": [
        "selected_features"
      ]
    },
    {
      "cell_type": "code",
      "execution_count": 66,
      "metadata": {
        "id": "XOttx5olx6-6"
      },
      "outputs": [],
      "source": [
        "selected_features_df = pd.DataFrame(selected_features, columns=[\"Selected Features\"])\n",
        "selected_features_df.to_csv(\"selected_features.csv\", index=False)"
      ]
    },
    {
      "cell_type": "code",
      "execution_count": null,
      "metadata": {},
      "outputs": [],
      "source": []
    }
  ],
  "metadata": {
    "colab": {
      "provenance": []
    },
    "kernelspec": {
      "display_name": "Python 3",
      "name": "python3"
    },
    "language_info": {
      "codemirror_mode": {
        "name": "ipython",
        "version": 3
      },
      "file_extension": ".py",
      "mimetype": "text/x-python",
      "name": "python",
      "nbconvert_exporter": "python",
      "pygments_lexer": "ipython3",
      "version": "3.8.0"
    }
  },
  "nbformat": 4,
  "nbformat_minor": 0
}
