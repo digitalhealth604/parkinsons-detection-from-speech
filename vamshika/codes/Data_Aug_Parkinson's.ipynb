{
 "cells": [
  {
   "cell_type": "markdown",
   "metadata": {},
   "source": [
    "#  **Data Augmentation by adding different kinds of noise** #"
   ]
  },
  {
   "cell_type": "markdown",
   "metadata": {},
   "source": [
    "# White Noise (Low Level) #"
   ]
  },
  {
   "cell_type": "code",
   "execution_count": 2,
   "metadata": {},
   "outputs": [],
   "source": [
    "import librosa\n",
    "import soundfile as sf\n",
    "from pydub import AudioSegment\n",
    "import librosa\n",
    "import os\n",
    "import random\n",
    "import numpy as np"
   ]
  },
  {
   "cell_type": "code",
   "execution_count": 4,
   "metadata": {},
   "outputs": [
    {
     "name": "stdout",
     "output_type": "stream",
     "text": [
      "Sampled 20 files out of 40 and saved to D:\\Slow_PD.\n"
     ]
    }
   ],
   "source": [
    "import os\n",
    "import random\n",
    "import shutil\n",
    "\n",
    "def sample_files(input_folder, output_folder, percentage):\n",
    "    \n",
    "    os.makedirs(output_folder, exist_ok=True)\n",
    "\n",
    "    all_files = [f for f in os.listdir(input_folder) if os.path.isfile(os.path.join(input_folder, f))]\n",
    "\n",
    "    sample_size = max(1, int(len(all_files) * (percentage / 100)))\n",
    "\n",
    "    sampled_files = random.sample(all_files, sample_size)\n",
    "\n",
    "    for file_name in sampled_files:\n",
    "        src_path = os.path.join(input_folder, file_name)\n",
    "        dst_path = os.path.join(output_folder, file_name)\n",
    "        shutil.copy(src_path, dst_path)\n",
    "\n",
    "    print(f\"Sampled {len(sampled_files)} files out of {len(all_files)} and saved to {output_folder}.\")\n",
    "\n",
    "# Example usage\n",
    "input_folder =\"D:\\\\PD_AH\"\n",
    "output_folder = \"D:\\\\Slow_PD\"\n",
    "sample_percentage = 50\n",
    "\n",
    "sample_files(input_folder, output_folder, sample_percentage)"
   ]
  },
  {
   "cell_type": "code",
   "execution_count": 17,
   "metadata": {},
   "outputs": [],
   "source": [
    "\n",
    "import os\n",
    "import numpy as np\n",
    "from scipy.io import wavfile\n",
    "\n",
    "def add_noise_to_audio_folder(input_folder, noise_level, output_folder):\n",
    "    \n",
    "    for filename in os.listdir(input_folder):\n",
    "        if filename.endswith('.wav'):\n",
    "            input_file_path = os.path.join(input_folder, filename)\n",
    "            sample_rate, data = wavfile.read(input_file_path)\n",
    "            if len(data.shape) > 1:\n",
    "                data = data.mean(axis=1)\n",
    "            data = data.astype(np.float32) / np.max(np.abs(data))\n",
    "            noise = np.random.normal(0, noise_level, data.shape)\n",
    "            noisy_data = data + noise\n",
    "            noisy_data = (noisy_data * 32767).astype(np.int16)\n",
    "            output_file_path = os.path.join(output_folder, filename.replace('.wav', '.white_noise.wav'))\n",
    "            wavfile.write(output_file_path, sample_rate, noisy_data)\n",
    "            print(f\"Noisy audio saved to: {output_file_path}\")\n",
    "\n",
    "input_folder =\"D:\\\\HS_trim_1_4\"\n",
    "output_folder = \"D:\\\\Phonation_new_Augmentations\\\\bts\\\\HS\\\\white\"\n",
    "noise_level = 0.05\n",
    "add_noise_to_audio_folder(input_folder, noise_level, output_folder)\n",
    "\n"
   ]
  },
  {
   "cell_type": "code",
   "execution_count": null,
   "metadata": {},
   "outputs": [],
   "source": []
  },
  {
   "cell_type": "markdown",
   "metadata": {},
   "source": [
    "# Pink Noise (Low Level) #"
   ]
  },
  {
   "cell_type": "code",
   "execution_count": 18,
   "metadata": {},
   "outputs": [],
   "source": [
    "import os\n",
    "import numpy as np\n",
    "from scipy.io import wavfile\n",
    "\n",
    "def generate_pink_noise(size):\n",
    "    white_noise = np.random.normal(0, 1, size)\n",
    "    pink_noise = np.cumsum(white_noise)\n",
    "    pink_noise = pink_noise / np.max(np.abs(pink_noise))\n",
    "    return pink_noise\n",
    "\n",
    "def add_pink_noise_to_audio_folder(input_folder, noise_level, output_folder):\n",
    "    \n",
    "    for filename in os.listdir(input_folder):\n",
    "        if filename.endswith('.wav'):\n",
    "            input_file_path = os.path.join(input_folder, filename)\n",
    "            sample_rate, data = wavfile.read(input_file_path)\n",
    "            if len(data.shape) > 1:\n",
    "                data = data.mean(axis=1)\n",
    "            data = data.astype(np.float32) / np.max(np.abs(data))\n",
    "            pink_noise = generate_pink_noise(data.shape)\n",
    "            pink_noise *= noise_level\n",
    "            noisy_data = data + pink_noise\n",
    "            noisy_data = np.clip(noisy_data, -1.0, 1.0)\n",
    "            noisy_data = (noisy_data * 32767).astype(np.int16)\n",
    "            output_file = os.path.join(output_folder, filename.replace('.wav', '.pink_noise.wav'))\n",
    "            wavfile.write(output_file, sample_rate, noisy_data)\n",
    "            print(f\"Noisy audio (with pink noise) saved to: {output_file}\")\n",
    "\n",
    "input_folder = \"D:\\\\HS_trim_1_4\"\n",
    "output_folder = \"D:\\\\Phonation_new_Augmentations\\\\bts\\\\HS\\\\pink\"\n",
    "noise_level = 0.05\n",
    "add_pink_noise_to_audio_folder(input_folder, noise_level, output_folder)\n",
    "\n"
   ]
  },
  {
   "cell_type": "markdown",
   "metadata": {},
   "source": [
    "# Adding Impulse #"
   ]
  },
  {
   "cell_type": "code",
   "execution_count": 32,
   "metadata": {},
   "outputs": [
    {
     "name": "stdout",
     "output_type": "stream",
     "text": [
      "Noisy audio (with impulse noise) saved to: D:\\Random_Augmentation\\bts_Aug\\PD_bts_impulse\\PD1.bts.impulse_noise.wav\n",
      "Noisy audio (with impulse noise) saved to: D:\\Random_Augmentation\\bts_Aug\\PD_bts_impulse\\PD2.bts.impulse_noise.wav\n"
     ]
    }
   ],
   "source": [
    "\n",
    "def add_impulse_noise_to_audio_folder(input_folder, impulse_density, impulse_amplitude, output_folder):\n",
    "    os.makedirs(output_folder, exist_ok=True)\n",
    "    for filename in os.listdir(input_folder):\n",
    "        if filename.endswith('.wav'):\n",
    "            input_file_path = os.path.join(input_folder, filename)\n",
    "            sample_rate, data = wavfile.read(input_file_path)\n",
    "            if len(data.shape) > 1:\n",
    "                data = data.mean(axis=1)\n",
    "            data = data.astype(np.float32) / np.max(np.abs(data))\n",
    "            num_samples = len(data)\n",
    "            impulse_mask = np.random.rand(num_samples) < impulse_density\n",
    "            impulse_noise = np.zeros_like(data)\n",
    "            impulse_noise[impulse_mask] = np.random.choice(\n",
    "                [-impulse_amplitude, impulse_amplitude], size=np.sum(impulse_mask)\n",
    "            )\n",
    "            noisy_data = data + impulse_noise\n",
    "            noisy_data = np.clip(noisy_data, -1.0, 1.0)\n",
    "            noisy_data = (noisy_data * 32767).astype(np.int16)\n",
    "            output_file = os.path.join(output_folder, filename.replace('.wav', '.impulse_noise.wav'))\n",
    "            wavfile.write(output_file, sample_rate, noisy_data)\n",
    "            print(f\"Noisy audio (with impulse noise) saved to: {output_file}\")\n",
    "\n",
    "input_folder = \"D:\\\\bts_random\\PD\"\n",
    "output_folder = \"D:\\\\Random_Augmentation\\\\bts_Aug\\PD_bts_impulse\"\n",
    "\n",
    "impulse_density = 0.01  # Fraction of samples with impulses \n",
    "impulse_amplitude = 0.5  # Amplitude of the impulses \n",
    "add_impulse_noise_to_audio_folder(input_folder, impulse_density, impulse_amplitude, output_folder)\n"
   ]
  },
  {
   "cell_type": "markdown",
   "metadata": {},
   "source": [
    "# Room Reverberation Effects #"
   ]
  },
  {
   "cell_type": "code",
   "execution_count": 33,
   "metadata": {},
   "outputs": [
    {
     "name": "stderr",
     "output_type": "stream",
     "text": [
      "C:\\Users\\HP\\AppData\\Local\\Temp\\ipykernel_17800\\3003321044.py:5: WavFileWarning: Chunk (non-data) not understood, skipping it.\n",
      "  ir_sample_rate, ir_data = wavfile.read(ir_file)\n"
     ]
    },
    {
     "name": "stdout",
     "output_type": "stream",
     "text": [
      "Audio with room-based noise (reverberation) saved to: D:\\Random_Augmentation\\bts_Aug\\PD_bts_room\\PD1.bts.room_reverb.wav\n",
      "Audio with room-based noise (reverberation) saved to: D:\\Random_Augmentation\\bts_Aug\\PD_bts_room\\PD2.bts.room_reverb.wav\n"
     ]
    }
   ],
   "source": [
    "\n",
    "from scipy.signal import convolve\n",
    "\n",
    "def add_room_based_noise_to_audio_folder(input_folder, ir_file, reverb_level, output_folder):\n",
    "    os.makedirs(output_folder, exist_ok=True)\n",
    "    ir_sample_rate, ir_data = wavfile.read(ir_file)\n",
    "    if len(ir_data.shape) > 1:\n",
    "        ir_data = ir_data.mean(axis=1)\n",
    "    ir_data = ir_data.astype(np.float32) / np.max(np.abs(ir_data))\n",
    "    for filename in os.listdir(input_folder):\n",
    "        if filename.endswith('.wav'):\n",
    "            input_file_path = os.path.join(input_folder, filename)\n",
    "            sample_rate, data = wavfile.read(input_file_path)\n",
    "            if len(data.shape) > 1:\n",
    "                data = data.mean(axis=1)\n",
    "            data = data.astype(np.float32) / np.max(np.abs(data))\n",
    "            convolved_data = convolve(data, ir_data, mode='full')\n",
    "            convolved_data *= reverb_level\n",
    "            noisy_data = data + convolved_data[:len(data)]\n",
    "            noisy_data = np.clip(noisy_data, -1.0, 1.0)\n",
    "            noisy_data = (noisy_data * 32767).astype(np.int16)\n",
    "            output_file = os.path.join(output_folder, filename.replace('.wav', '.room_reverb.wav'))\n",
    "            wavfile.write(output_file, sample_rate, noisy_data)\n",
    "            print(f\"Audio with room-based noise (reverberation) saved to: {output_file}\")\n",
    "\n",
    "input_folder = \"D:\\\\bts_random\\PD\"\n",
    "output_folder = \"D:\\\\Random_Augmentation\\\\bts_Aug\\PD_bts_room\"\n",
    "ir_file = \"C://Users//HP//Downloads//489765__pedrojuanupb__silentroom.wav\"\n",
    "\n",
    "reverb_level = 0.5  # Adjust reverb intensity\n",
    "add_room_based_noise_to_audio_folder(input_folder, ir_file, reverb_level, output_folder)\n",
    "\n"
   ]
  },
  {
   "cell_type": "code",
   "execution_count": null,
   "metadata": {},
   "outputs": [],
   "source": []
  },
  {
   "cell_type": "code",
   "execution_count": 6,
   "metadata": {},
   "outputs": [
    {
     "ename": "TypeError",
     "evalue": "time_stretch() takes 1 positional argument but 2 were given",
     "output_type": "error",
     "traceback": [
      "\u001b[1;31m---------------------------------------------------------------------------\u001b[0m",
      "\u001b[1;31mTypeError\u001b[0m                                 Traceback (most recent call last)",
      "Cell \u001b[1;32mIn[6], line 26\u001b[0m\n\u001b[0;32m     24\u001b[0m input_folder \u001b[38;5;241m=\u001b[39m \u001b[38;5;124m\"\u001b[39m\u001b[38;5;124mD:\u001b[39m\u001b[38;5;130;01m\\\\\u001b[39;00m\u001b[38;5;124mSpeed_files_HS\u001b[39m\u001b[38;5;124m\"\u001b[39m\n\u001b[0;32m     25\u001b[0m output_folder_speedup \u001b[38;5;241m=\u001b[39m \u001b[38;5;124m\"\u001b[39m\u001b[38;5;124mD:\u001b[39m\u001b[38;5;130;01m\\\\\u001b[39;00m\u001b[38;5;124mSpeed_HC\u001b[39m\u001b[38;5;124m\"\u001b[39m\n\u001b[1;32m---> 26\u001b[0m \u001b[43mspeed_up_audio_files\u001b[49m\u001b[43m(\u001b[49m\u001b[43minput_folder\u001b[49m\u001b[43m,\u001b[49m\u001b[43m \u001b[49m\u001b[43moutput_folder_speedup\u001b[49m\u001b[43m,\u001b[49m\u001b[43m \u001b[49m\u001b[43mrate\u001b[49m\u001b[38;5;241;43m=\u001b[39;49m\u001b[38;5;241;43m1.1\u001b[39;49m\u001b[43m)\u001b[49m\n",
      "Cell \u001b[1;32mIn[6], line 16\u001b[0m, in \u001b[0;36mspeed_up_audio_files\u001b[1;34m(input_folder, output_folder, rate)\u001b[0m\n\u001b[0;32m     14\u001b[0m     y \u001b[38;5;241m=\u001b[39m np\u001b[38;5;241m.\u001b[39mmean(y, axis\u001b[38;5;241m=\u001b[39m\u001b[38;5;241m1\u001b[39m)\n\u001b[0;32m     15\u001b[0m \u001b[38;5;66;03m# Time-stretch the audio using librosa (this operates on the numpy array)\u001b[39;00m\n\u001b[1;32m---> 16\u001b[0m y_sped \u001b[38;5;241m=\u001b[39m \u001b[43mlibrosa\u001b[49m\u001b[38;5;241;43m.\u001b[39;49m\u001b[43meffects\u001b[49m\u001b[38;5;241;43m.\u001b[39;49m\u001b[43mtime_stretch\u001b[49m\u001b[43m(\u001b[49m\u001b[43my\u001b[49m\u001b[43m,\u001b[49m\u001b[43m \u001b[49m\u001b[43mrate\u001b[49m\u001b[43m)\u001b[49m\n\u001b[0;32m     17\u001b[0m base_name \u001b[38;5;241m=\u001b[39m os\u001b[38;5;241m.\u001b[39mpath\u001b[38;5;241m.\u001b[39msplitext(file_name)[\u001b[38;5;241m0\u001b[39m]\n\u001b[0;32m     18\u001b[0m output_path \u001b[38;5;241m=\u001b[39m os\u001b[38;5;241m.\u001b[39mpath\u001b[38;5;241m.\u001b[39mjoin(output_folder, base_name \u001b[38;5;241m+\u001b[39m \u001b[38;5;124m\"\u001b[39m\u001b[38;5;124m.spedup.wav\u001b[39m\u001b[38;5;124m\"\u001b[39m)\n",
      "\u001b[1;31mTypeError\u001b[0m: time_stretch() takes 1 positional argument but 2 were given"
     ]
    }
   ],
   "source": [
    "import os\n",
    "import librosa\n",
    "import soundfile as sf\n",
    "\n",
    "def speed_up_audio_files(input_folder, output_folder, rate=1.1):\n",
    "    os.makedirs(output_folder, exist_ok=True)\n",
    "    for file_name in os.listdir(input_folder):\n",
    "        if file_name.lower().endswith('.wav'):\n",
    "            input_path = os.path.join(input_folder, file_name)\n",
    "            # Load audio using soundfile to avoid soxr_ext issues\n",
    "            y, sr = sf.read(input_path)\n",
    "            # If audio has more than one channel, convert to mono by averaging channels\n",
    "            if len(y.shape) > 1:\n",
    "                y = np.mean(y, axis=1)\n",
    "            # Time-stretch the audio using librosa (this operates on the numpy array)\n",
    "            y_sped = librosa.effects.time_stretch(y, rate)\n",
    "            base_name = os.path.splitext(file_name)[0]\n",
    "            output_path = os.path.join(output_folder, base_name + \".spedup.wav\")\n",
    "            sf.write(output_path, y_sped, sr)\n",
    "            print(f\"Processed {file_name} -> {output_path}\")\n",
    "\n",
    "\n",
    "# Example usage:\n",
    "input_folder = \"D:\\\\Speed_files_HS\"\n",
    "output_folder_speedup = \"D:\\\\Speed_HC\"\n",
    "speed_up_audio_files(input_folder, output_folder_speedup, rate=1.1)\n"
   ]
  },
  {
   "cell_type": "code",
   "execution_count": 1,
   "metadata": {},
   "outputs": [
    {
     "ename": "ImportError",
     "evalue": "DLL load failed while importing _cext: The specified module could not be found.",
     "output_type": "error",
     "traceback": [
      "\u001b[1;31m---------------------------------------------------------------------------\u001b[0m",
      "\u001b[1;31mImportError\u001b[0m                               Traceback (most recent call last)",
      "Cell \u001b[1;32mIn[1], line 4\u001b[0m\n\u001b[0;32m      2\u001b[0m \u001b[38;5;28;01mimport\u001b[39;00m \u001b[38;5;21;01mlibrosa\u001b[39;00m\n\u001b[0;32m      3\u001b[0m \u001b[38;5;28;01mimport\u001b[39;00m \u001b[38;5;21;01mnumpy\u001b[39;00m \u001b[38;5;28;01mas\u001b[39;00m \u001b[38;5;21;01mnp\u001b[39;00m\n\u001b[1;32m----> 4\u001b[0m \u001b[38;5;28;01mimport\u001b[39;00m \u001b[38;5;21;01mseaborn\u001b[39;00m \u001b[38;5;28;01mas\u001b[39;00m \u001b[38;5;21;01msns\u001b[39;00m\n\u001b[0;32m      5\u001b[0m \u001b[38;5;28;01mimport\u001b[39;00m \u001b[38;5;21;01mmatplotlib\u001b[39;00m\u001b[38;5;21;01m.\u001b[39;00m\u001b[38;5;21;01mpyplot\u001b[39;00m \u001b[38;5;28;01mas\u001b[39;00m \u001b[38;5;21;01mplt\u001b[39;00m\n\u001b[0;32m      6\u001b[0m \u001b[38;5;28;01mfrom\u001b[39;00m \u001b[38;5;21;01msklearn\u001b[39;00m\u001b[38;5;21;01m.\u001b[39;00m\u001b[38;5;21;01mmetrics\u001b[39;00m \u001b[38;5;28;01mimport\u001b[39;00m pairwise_distances\n",
      "File \u001b[1;32m~\\AppData\\Local\\Packages\\PythonSoftwareFoundation.Python.3.11_qbz5n2kfra8p0\\LocalCache\\local-packages\\Python311\\site-packages\\seaborn\\__init__.py:2\u001b[0m\n\u001b[0;32m      1\u001b[0m \u001b[38;5;66;03m# Import seaborn objects\u001b[39;00m\n\u001b[1;32m----> 2\u001b[0m \u001b[38;5;28;01mfrom\u001b[39;00m \u001b[38;5;21;01m.\u001b[39;00m\u001b[38;5;21;01mrcmod\u001b[39;00m \u001b[38;5;28;01mimport\u001b[39;00m \u001b[38;5;241m*\u001b[39m  \u001b[38;5;66;03m# noqa: F401,F403\u001b[39;00m\n\u001b[0;32m      3\u001b[0m \u001b[38;5;28;01mfrom\u001b[39;00m \u001b[38;5;21;01m.\u001b[39;00m\u001b[38;5;21;01mutils\u001b[39;00m \u001b[38;5;28;01mimport\u001b[39;00m \u001b[38;5;241m*\u001b[39m  \u001b[38;5;66;03m# noqa: F401,F403\u001b[39;00m\n\u001b[0;32m      4\u001b[0m \u001b[38;5;28;01mfrom\u001b[39;00m \u001b[38;5;21;01m.\u001b[39;00m\u001b[38;5;21;01mpalettes\u001b[39;00m \u001b[38;5;28;01mimport\u001b[39;00m \u001b[38;5;241m*\u001b[39m  \u001b[38;5;66;03m# noqa: F401,F403\u001b[39;00m\n",
      "File \u001b[1;32m~\\AppData\\Local\\Packages\\PythonSoftwareFoundation.Python.3.11_qbz5n2kfra8p0\\LocalCache\\local-packages\\Python311\\site-packages\\seaborn\\rcmod.py:3\u001b[0m\n\u001b[0;32m      1\u001b[0m \u001b[38;5;124;03m\"\"\"Control plot style and scaling using the matplotlib rcParams interface.\"\"\"\u001b[39;00m\n\u001b[0;32m      2\u001b[0m \u001b[38;5;28;01mimport\u001b[39;00m \u001b[38;5;21;01mfunctools\u001b[39;00m\n\u001b[1;32m----> 3\u001b[0m \u001b[38;5;28;01mimport\u001b[39;00m \u001b[38;5;21;01mmatplotlib\u001b[39;00m \u001b[38;5;28;01mas\u001b[39;00m \u001b[38;5;21;01mmpl\u001b[39;00m\n\u001b[0;32m      4\u001b[0m \u001b[38;5;28;01mfrom\u001b[39;00m \u001b[38;5;21;01mcycler\u001b[39;00m \u001b[38;5;28;01mimport\u001b[39;00m cycler\n\u001b[0;32m      5\u001b[0m \u001b[38;5;28;01mfrom\u001b[39;00m \u001b[38;5;21;01m.\u001b[39;00m \u001b[38;5;28;01mimport\u001b[39;00m palettes\n",
      "File \u001b[1;32m~\\AppData\\Local\\Packages\\PythonSoftwareFoundation.Python.3.11_qbz5n2kfra8p0\\LocalCache\\local-packages\\Python311\\site-packages\\matplotlib\\__init__.py:263\u001b[0m\n\u001b[0;32m    258\u001b[0m         \u001b[38;5;28;01mif\u001b[39;00m parse_version(module\u001b[38;5;241m.\u001b[39m__version__) \u001b[38;5;241m<\u001b[39m parse_version(minver):\n\u001b[0;32m    259\u001b[0m             \u001b[38;5;28;01mraise\u001b[39;00m \u001b[38;5;167;01mImportError\u001b[39;00m(\u001b[38;5;124mf\u001b[39m\u001b[38;5;124m\"\u001b[39m\u001b[38;5;124mMatplotlib requires \u001b[39m\u001b[38;5;132;01m{\u001b[39;00mmodname\u001b[38;5;132;01m}\u001b[39;00m\u001b[38;5;124m>=\u001b[39m\u001b[38;5;132;01m{\u001b[39;00mminver\u001b[38;5;132;01m}\u001b[39;00m\u001b[38;5;124m; \u001b[39m\u001b[38;5;124m\"\u001b[39m\n\u001b[0;32m    260\u001b[0m                               \u001b[38;5;124mf\u001b[39m\u001b[38;5;124m\"\u001b[39m\u001b[38;5;124myou have \u001b[39m\u001b[38;5;132;01m{\u001b[39;00mmodule\u001b[38;5;241m.\u001b[39m__version__\u001b[38;5;132;01m}\u001b[39;00m\u001b[38;5;124m\"\u001b[39m)\n\u001b[1;32m--> 263\u001b[0m \u001b[43m_check_versions\u001b[49m\u001b[43m(\u001b[49m\u001b[43m)\u001b[49m\n\u001b[0;32m    266\u001b[0m \u001b[38;5;66;03m# The decorator ensures this always returns the same handler (and it is only\u001b[39;00m\n\u001b[0;32m    267\u001b[0m \u001b[38;5;66;03m# attached once).\u001b[39;00m\n\u001b[0;32m    268\u001b[0m \u001b[38;5;129m@functools\u001b[39m\u001b[38;5;241m.\u001b[39mcache\n\u001b[0;32m    269\u001b[0m \u001b[38;5;28;01mdef\u001b[39;00m \u001b[38;5;21m_ensure_handler\u001b[39m():\n",
      "File \u001b[1;32m~\\AppData\\Local\\Packages\\PythonSoftwareFoundation.Python.3.11_qbz5n2kfra8p0\\LocalCache\\local-packages\\Python311\\site-packages\\matplotlib\\__init__.py:257\u001b[0m, in \u001b[0;36m_check_versions\u001b[1;34m()\u001b[0m\n\u001b[0;32m    248\u001b[0m \u001b[38;5;28;01mfrom\u001b[39;00m \u001b[38;5;21;01m.\u001b[39;00m \u001b[38;5;28;01mimport\u001b[39;00m ft2font  \u001b[38;5;66;03m# noqa: F401\u001b[39;00m\n\u001b[0;32m    250\u001b[0m \u001b[38;5;28;01mfor\u001b[39;00m modname, minver \u001b[38;5;129;01min\u001b[39;00m [\n\u001b[0;32m    251\u001b[0m         (\u001b[38;5;124m\"\u001b[39m\u001b[38;5;124mcycler\u001b[39m\u001b[38;5;124m\"\u001b[39m, \u001b[38;5;124m\"\u001b[39m\u001b[38;5;124m0.10\u001b[39m\u001b[38;5;124m\"\u001b[39m),\n\u001b[0;32m    252\u001b[0m         (\u001b[38;5;124m\"\u001b[39m\u001b[38;5;124mdateutil\u001b[39m\u001b[38;5;124m\"\u001b[39m, \u001b[38;5;124m\"\u001b[39m\u001b[38;5;124m2.7\u001b[39m\u001b[38;5;124m\"\u001b[39m),\n\u001b[1;32m   (...)\u001b[0m\n\u001b[0;32m    255\u001b[0m         (\u001b[38;5;124m\"\u001b[39m\u001b[38;5;124mpyparsing\u001b[39m\u001b[38;5;124m\"\u001b[39m, \u001b[38;5;124m\"\u001b[39m\u001b[38;5;124m2.3.1\u001b[39m\u001b[38;5;124m\"\u001b[39m),\n\u001b[0;32m    256\u001b[0m ]:\n\u001b[1;32m--> 257\u001b[0m     module \u001b[38;5;241m=\u001b[39m \u001b[43mimportlib\u001b[49m\u001b[38;5;241;43m.\u001b[39;49m\u001b[43mimport_module\u001b[49m\u001b[43m(\u001b[49m\u001b[43mmodname\u001b[49m\u001b[43m)\u001b[49m\n\u001b[0;32m    258\u001b[0m     \u001b[38;5;28;01mif\u001b[39;00m parse_version(module\u001b[38;5;241m.\u001b[39m__version__) \u001b[38;5;241m<\u001b[39m parse_version(minver):\n\u001b[0;32m    259\u001b[0m         \u001b[38;5;28;01mraise\u001b[39;00m \u001b[38;5;167;01mImportError\u001b[39;00m(\u001b[38;5;124mf\u001b[39m\u001b[38;5;124m\"\u001b[39m\u001b[38;5;124mMatplotlib requires \u001b[39m\u001b[38;5;132;01m{\u001b[39;00mmodname\u001b[38;5;132;01m}\u001b[39;00m\u001b[38;5;124m>=\u001b[39m\u001b[38;5;132;01m{\u001b[39;00mminver\u001b[38;5;132;01m}\u001b[39;00m\u001b[38;5;124m; \u001b[39m\u001b[38;5;124m\"\u001b[39m\n\u001b[0;32m    260\u001b[0m                           \u001b[38;5;124mf\u001b[39m\u001b[38;5;124m\"\u001b[39m\u001b[38;5;124myou have \u001b[39m\u001b[38;5;132;01m{\u001b[39;00mmodule\u001b[38;5;241m.\u001b[39m__version__\u001b[38;5;132;01m}\u001b[39;00m\u001b[38;5;124m\"\u001b[39m)\n",
      "File \u001b[1;32mC:\\Program Files\\WindowsApps\\PythonSoftwareFoundation.Python.3.11_3.11.2544.0_x64__qbz5n2kfra8p0\\Lib\\importlib\\__init__.py:126\u001b[0m, in \u001b[0;36mimport_module\u001b[1;34m(name, package)\u001b[0m\n\u001b[0;32m    124\u001b[0m             \u001b[38;5;28;01mbreak\u001b[39;00m\n\u001b[0;32m    125\u001b[0m         level \u001b[38;5;241m+\u001b[39m\u001b[38;5;241m=\u001b[39m \u001b[38;5;241m1\u001b[39m\n\u001b[1;32m--> 126\u001b[0m \u001b[38;5;28;01mreturn\u001b[39;00m \u001b[43m_bootstrap\u001b[49m\u001b[38;5;241;43m.\u001b[39;49m\u001b[43m_gcd_import\u001b[49m\u001b[43m(\u001b[49m\u001b[43mname\u001b[49m\u001b[43m[\u001b[49m\u001b[43mlevel\u001b[49m\u001b[43m:\u001b[49m\u001b[43m]\u001b[49m\u001b[43m,\u001b[49m\u001b[43m \u001b[49m\u001b[43mpackage\u001b[49m\u001b[43m,\u001b[49m\u001b[43m \u001b[49m\u001b[43mlevel\u001b[49m\u001b[43m)\u001b[49m\n",
      "File \u001b[1;32m~\\AppData\\Local\\Packages\\PythonSoftwareFoundation.Python.3.11_qbz5n2kfra8p0\\LocalCache\\local-packages\\Python311\\site-packages\\kiwisolver\\__init__.py:8\u001b[0m\n\u001b[0;32m      1\u001b[0m \u001b[38;5;66;03m# --------------------------------------------------------------------------------------\u001b[39;00m\n\u001b[0;32m      2\u001b[0m \u001b[38;5;66;03m# Copyright (c) 2013-2024, Nucleic Development Team.\u001b[39;00m\n\u001b[0;32m      3\u001b[0m \u001b[38;5;66;03m#\u001b[39;00m\n\u001b[1;32m   (...)\u001b[0m\n\u001b[0;32m      6\u001b[0m \u001b[38;5;66;03m# The full license is in the file LICENSE, distributed with this software.\u001b[39;00m\n\u001b[0;32m      7\u001b[0m \u001b[38;5;66;03m# --------------------------------------------------------------------------------------\u001b[39;00m\n\u001b[1;32m----> 8\u001b[0m \u001b[38;5;28;01mfrom\u001b[39;00m \u001b[38;5;21;01m.\u001b[39;00m\u001b[38;5;21;01m_cext\u001b[39;00m \u001b[38;5;28;01mimport\u001b[39;00m (\n\u001b[0;32m      9\u001b[0m     Constraint,\n\u001b[0;32m     10\u001b[0m     Expression,\n\u001b[0;32m     11\u001b[0m     Solver,\n\u001b[0;32m     12\u001b[0m     Term,\n\u001b[0;32m     13\u001b[0m     Variable,\n\u001b[0;32m     14\u001b[0m     __kiwi_version__,\n\u001b[0;32m     15\u001b[0m     __version__,\n\u001b[0;32m     16\u001b[0m     strength,\n\u001b[0;32m     17\u001b[0m )\n\u001b[0;32m     18\u001b[0m \u001b[38;5;28;01mfrom\u001b[39;00m \u001b[38;5;21;01m.\u001b[39;00m\u001b[38;5;21;01mexceptions\u001b[39;00m \u001b[38;5;28;01mimport\u001b[39;00m (\n\u001b[0;32m     19\u001b[0m     BadRequiredStrength,\n\u001b[0;32m     20\u001b[0m     DuplicateConstraint,\n\u001b[1;32m   (...)\u001b[0m\n\u001b[0;32m     24\u001b[0m     UnsatisfiableConstraint,\n\u001b[0;32m     25\u001b[0m )\n\u001b[0;32m     27\u001b[0m __all__ \u001b[38;5;241m=\u001b[39m [\n\u001b[0;32m     28\u001b[0m     \u001b[38;5;124m\"\u001b[39m\u001b[38;5;124mBadRequiredStrength\u001b[39m\u001b[38;5;124m\"\u001b[39m,\n\u001b[0;32m     29\u001b[0m     \u001b[38;5;124m\"\u001b[39m\u001b[38;5;124mDuplicateConstraint\u001b[39m\u001b[38;5;124m\"\u001b[39m,\n\u001b[1;32m   (...)\u001b[0m\n\u001b[0;32m     41\u001b[0m     \u001b[38;5;124m\"\u001b[39m\u001b[38;5;124m__kiwi_version__\u001b[39m\u001b[38;5;124m\"\u001b[39m,\n\u001b[0;32m     42\u001b[0m ]\n",
      "\u001b[1;31mImportError\u001b[0m: DLL load failed while importing _cext: The specified module could not be found."
     ]
    }
   ],
   "source": [
    "import os\n",
    "import librosa\n",
    "import numpy as np\n",
    "import seaborn as sns\n",
    "import matplotlib.pyplot as plt\n",
    "from sklearn.metrics import pairwise_distances"
   ]
  }
 ],
 "metadata": {
  "kernelspec": {
   "display_name": "Python 3",
   "language": "python",
   "name": "python3"
  },
  "language_info": {
   "codemirror_mode": {
    "name": "ipython",
    "version": 3
   },
   "file_extension": ".py",
   "mimetype": "text/x-python",
   "name": "python",
   "nbconvert_exporter": "python",
   "pygments_lexer": "ipython3",
   "version": "3.11.9"
  }
 },
 "nbformat": 4,
 "nbformat_minor": 2
}
