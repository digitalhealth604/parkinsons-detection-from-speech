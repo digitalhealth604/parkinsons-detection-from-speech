{
  "cells": [
    {
      "cell_type": "code",
      "execution_count": null,
      "metadata": {
        "id": "jByblJzH8f5B"
      },
      "outputs": [
        {
          "name": "stdout",
          "output_type": "stream",
          "text": [
            "Processed audio saved as C:\\Users\\Hp\\Desktop\\Lecture Files\\DH604\\Voice Samples\\Cleaned - Telephone_Dataset 'a'\\PD\\AH_545616858-3A749CBC-3FEB-4D35-820E-E45C3E5B9B6A.wav\n",
            "Processed audio saved as C:\\Users\\Hp\\Desktop\\Lecture Files\\DH604\\Voice Samples\\Cleaned - Telephone_Dataset 'a'\\PD\\AH_545622717-461DFFFE-54AF-42AF-BA78-528BD505D624.wav\n",
            "Processed audio saved as C:\\Users\\Hp\\Desktop\\Lecture Files\\DH604\\Voice Samples\\Cleaned - Telephone_Dataset 'a'\\PD\\AH_545622718-C052AD58-5E6B-4ADC-855C-F76B66BAFA6E.wav\n",
            "Processed audio saved as C:\\Users\\Hp\\Desktop\\Lecture Files\\DH604\\Voice Samples\\Cleaned - Telephone_Dataset 'a'\\PD\\AH_545622719-52C23861-6E0D-41E0-A3D8-9358C28C019B.wav\n",
            "Processed audio saved as C:\\Users\\Hp\\Desktop\\Lecture Files\\DH604\\Voice Samples\\Cleaned - Telephone_Dataset 'a'\\PD\\AH_545622720-E1486AF6-8C95-47EB-829B-4D62698C987A.wav\n",
            "Processed audio saved as C:\\Users\\Hp\\Desktop\\Lecture Files\\DH604\\Voice Samples\\Cleaned - Telephone_Dataset 'a'\\PD\\AH_545622722-3C79DA68-36BB-43A2-B29C-61AEF480E07E.wav\n",
            "Processed audio saved as C:\\Users\\Hp\\Desktop\\Lecture Files\\DH604\\Voice Samples\\Cleaned - Telephone_Dataset 'a'\\PD\\AH_545629296-C2C009C6-8C17-42EA-B6BE-362942FC4692.wav\n",
            "Processed audio saved as C:\\Users\\Hp\\Desktop\\Lecture Files\\DH604\\Voice Samples\\Cleaned - Telephone_Dataset 'a'\\PD\\AH_545643618-82A143AC-B643-4273-A923-C42A83AEEC5F.wav\n",
            "Processed audio saved as C:\\Users\\Hp\\Desktop\\Lecture Files\\DH604\\Voice Samples\\Cleaned - Telephone_Dataset 'a'\\PD\\AH_545648867-CB17D873-1CEA-492A-B5B0-93C7463F516C.wav\n",
            "Processed audio saved as C:\\Users\\Hp\\Desktop\\Lecture Files\\DH604\\Voice Samples\\Cleaned - Telephone_Dataset 'a'\\PD\\AH_545692309-EA8C4DC0-9B2A-4CC7-A490-851A2129A733.wav\n",
            "Processed audio saved as C:\\Users\\Hp\\Desktop\\Lecture Files\\DH604\\Voice Samples\\Cleaned - Telephone_Dataset 'a'\\PD\\AH_545692315-C2972597-9AEC-4060-A186-F1F59340640C.wav\n",
            "Processed audio saved as C:\\Users\\Hp\\Desktop\\Lecture Files\\DH604\\Voice Samples\\Cleaned - Telephone_Dataset 'a'\\PD\\AH_545713221-1E77C030-4558-4A88-B1A2-6AB777ACAE61.wav\n",
            "Processed audio saved as C:\\Users\\Hp\\Desktop\\Lecture Files\\DH604\\Voice Samples\\Cleaned - Telephone_Dataset 'a'\\PD\\AH_545713222-DA13DC3A-F24B-454E-984F-19DF19328D39.wav\n",
            "Processed audio saved as C:\\Users\\Hp\\Desktop\\Lecture Files\\DH604\\Voice Samples\\Cleaned - Telephone_Dataset 'a'\\PD\\AH_545713223-E6D59EE5-4C3F-4B40-AE8F-0657EF94DB66.wav\n",
            "Processed audio saved as C:\\Users\\Hp\\Desktop\\Lecture Files\\DH604\\Voice Samples\\Cleaned - Telephone_Dataset 'a'\\PD\\AH_545713224-1B3708B0-8792-4FEE-B03B-C7CB9CB03D58.wav\n",
            "Processed audio saved as C:\\Users\\Hp\\Desktop\\Lecture Files\\DH604\\Voice Samples\\Cleaned - Telephone_Dataset 'a'\\PD\\AH_545743929-E2EAE1A3-7E46-4DCF-8DB7-37A5CA47DB9D.wav\n",
            "Processed audio saved as C:\\Users\\Hp\\Desktop\\Lecture Files\\DH604\\Voice Samples\\Cleaned - Telephone_Dataset 'a'\\PD\\AH_545753013-FCFF8F46-08FF-4C87-B443-D2039E5DA945.wav\n",
            "Processed audio saved as C:\\Users\\Hp\\Desktop\\Lecture Files\\DH604\\Voice Samples\\Cleaned - Telephone_Dataset 'a'\\PD\\AH_545753014-C68926CC-AB91-49AF-90A6-BB5C434283DB.wav\n",
            "Processed audio saved as C:\\Users\\Hp\\Desktop\\Lecture Files\\DH604\\Voice Samples\\Cleaned - Telephone_Dataset 'a'\\PD\\AH_545753015-58CAA743-BA9A-47E0-B9EF-CC35E9EFB839.wav\n",
            "Processed audio saved as C:\\Users\\Hp\\Desktop\\Lecture Files\\DH604\\Voice Samples\\Cleaned - Telephone_Dataset 'a'\\PD\\AH_545789668-A4F6069C-5E1A-49F5-9EDC-59C6EB833E42.wav\n",
            "Processed audio saved as C:\\Users\\Hp\\Desktop\\Lecture Files\\DH604\\Voice Samples\\Cleaned - Telephone_Dataset 'a'\\PD\\AH_545789670-C297FD53-BF71-4183-86A0-58E5E1EB0DF8.wav\n",
            "Processed audio saved as C:\\Users\\Hp\\Desktop\\Lecture Files\\DH604\\Voice Samples\\Cleaned - Telephone_Dataset 'a'\\PD\\AH_545789671-794D2256-DDFF-4009-8BA8-8A306C8FA14F.wav\n",
            "Processed audio saved as C:\\Users\\Hp\\Desktop\\Lecture Files\\DH604\\Voice Samples\\Cleaned - Telephone_Dataset 'a'\\PD\\AH_545789674-53885025-35F1-48C1-9826-BAAEB8BEAF58.wav\n",
            "Processed audio saved as C:\\Users\\Hp\\Desktop\\Lecture Files\\DH604\\Voice Samples\\Cleaned - Telephone_Dataset 'a'\\PD\\AH_545789675-243F18DB-4432-4C87-B12C-6EEC2D2D30D6.wav\n",
            "Processed audio saved as C:\\Users\\Hp\\Desktop\\Lecture Files\\DH604\\Voice Samples\\Cleaned - Telephone_Dataset 'a'\\PD\\AH_545789677-D381D801-B073-4945-BE0D-E250126EA6B1.wav\n",
            "Processed audio saved as C:\\Users\\Hp\\Desktop\\Lecture Files\\DH604\\Voice Samples\\Cleaned - Telephone_Dataset 'a'\\PD\\AH_545789680-7FF9D4F1-DDCC-4CB6-8668-76530D670FA5.wav\n",
            "Processed audio saved as C:\\Users\\Hp\\Desktop\\Lecture Files\\DH604\\Voice Samples\\Cleaned - Telephone_Dataset 'a'\\PD\\AH_545789682-7554E0C7-4E25-49C3-9E6C-04D525455E28.wav\n",
            "Processed audio saved as C:\\Users\\Hp\\Desktop\\Lecture Files\\DH604\\Voice Samples\\Cleaned - Telephone_Dataset 'a'\\PD\\AH_545789690-DA26461A-AF40-4A43-9662-3A93EE872359.wav\n",
            "Processed audio saved as C:\\Users\\Hp\\Desktop\\Lecture Files\\DH604\\Voice Samples\\Cleaned - Telephone_Dataset 'a'\\PD\\AH_545806325-8A17002B-CFD3-4DCF-8854-04F0F2BFF21B.wav\n",
            "Processed audio saved as C:\\Users\\Hp\\Desktop\\Lecture Files\\DH604\\Voice Samples\\Cleaned - Telephone_Dataset 'a'\\PD\\AH_545806326-BD0FE665-1AD5-4F55-8342-0FAB8B15680B.wav\n",
            "Processed audio saved as C:\\Users\\Hp\\Desktop\\Lecture Files\\DH604\\Voice Samples\\Cleaned - Telephone_Dataset 'a'\\PD\\AH_545812844-DFBCDA22-CADB-444A-9623-16A39D45E9E7.wav\n",
            "Processed audio saved as C:\\Users\\Hp\\Desktop\\Lecture Files\\DH604\\Voice Samples\\Cleaned - Telephone_Dataset 'a'\\PD\\AH_545812846-0C14B32A-6C50-4B62-BC89-0A815C2DEEFA.wav\n",
            "Processed audio saved as C:\\Users\\Hp\\Desktop\\Lecture Files\\DH604\\Voice Samples\\Cleaned - Telephone_Dataset 'a'\\PD\\AH_545834603-857E007F-1CCF-4249-8160-3A0F3F5AB58D.wav\n",
            "Processed audio saved as C:\\Users\\Hp\\Desktop\\Lecture Files\\DH604\\Voice Samples\\Cleaned - Telephone_Dataset 'a'\\PD\\AH_545841221-6FC57E6E-65B6-4859-A15A-55856D7E75C0.wav\n",
            "Processed audio saved as C:\\Users\\Hp\\Desktop\\Lecture Files\\DH604\\Voice Samples\\Cleaned - Telephone_Dataset 'a'\\PD\\AH_545841222-DE5AEF27-7F4E-45A4-BF7D-9E87E7A786AE.wav\n",
            "Processed audio saved as C:\\Users\\Hp\\Desktop\\Lecture Files\\DH604\\Voice Samples\\Cleaned - Telephone_Dataset 'a'\\PD\\AH_545841223-24FB0419-5BAE-4F9C-8EBC-CD62DA6590D2.wav\n",
            "Processed audio saved as C:\\Users\\Hp\\Desktop\\Lecture Files\\DH604\\Voice Samples\\Cleaned - Telephone_Dataset 'a'\\PD\\AH_545841226-C699FC9E-1E0C-474D-A12A-936DD92B8980.wav\n",
            "Processed audio saved as C:\\Users\\Hp\\Desktop\\Lecture Files\\DH604\\Voice Samples\\Cleaned - Telephone_Dataset 'a'\\PD\\AH_545841227-5C77713A-66F1-49D0-BC8A-702C152E668D.wav\n",
            "Processed audio saved as C:\\Users\\Hp\\Desktop\\Lecture Files\\DH604\\Voice Samples\\Cleaned - Telephone_Dataset 'a'\\PD\\AH_545847410-D1BA3BB4-1F61-44CA-ACDE-455A8E97E04B.wav\n",
            "Processed audio saved as C:\\Users\\Hp\\Desktop\\Lecture Files\\DH604\\Voice Samples\\Cleaned - Telephone_Dataset 'a'\\PD\\AH_545880204-EE87D3E2-0D4C-4EAA-ACD7-C3F177AFF62F.wav\n",
            "\n",
            "All processed files saved in: C:\\Users\\Hp\\Desktop\\Lecture Files\\DH604\\Voice Samples\\Cleaned - Telephone_Dataset 'a'\\PD\n"
          ]
        }
      ],
      "source": [
        "import os\n",
        "from pydub import AudioSegment\n",
        "from pydub.silence import detect_nonsilent\n",
        "\n",
        "\n",
        "def remove_silence_from_folder(input_folder, output_folder, silence_thresh=-20, min_silence_len=500):\n",
        "    \"\"\"\n",
        "    Removes silence from all WAV files in a folder and saves the processed files\n",
        "    in a new folder with the same name but inside the 'processed_audio' directory.\n",
        "\n",
        "    :param input_folder: Path to the folder containing .wav files\n",
        "    :param silence_thresh: Silence threshold in dBFS (default -40 dB)\n",
        "    :param min_silence_len: Minimum silence duration in milliseconds to be removed (default 500ms)\n",
        "    \"\"\"\n",
        "\n",
        "    os.makedirs(output_folder, exist_ok=True)\n",
        "    audio_files = [f for f in os.listdir(input_folder) if f.endswith(\".wav\")]\n",
        "\n",
        "    for file in audio_files:\n",
        "        input_file = os.path.join(input_folder, file)\n",
        "        output_file = os.path.join(output_folder, file)\n",
        "\n",
        "        audio = AudioSegment.from_wav(input_file)\n",
        "        nonsilent_chunks = detect_nonsilent(audio, min_silence_len=min_silence_len, silence_thresh=silence_thresh)\n",
        "\n",
        "        processed_audio = AudioSegment.empty()\n",
        "        for start, end in nonsilent_chunks:\n",
        "            processed_audio += audio[start:end]\n",
        "\n",
        "        processed_audio.export(output_file, format=\"wav\")\n",
        "        print(f\"Processed audio saved as {output_file}\")\n",
        "\n",
        "    print(f\"\\nAll processed files saved in: {output_folder}\")\n",
        "\n",
        "input_folder = r\"C:\\Users\\Hp\\Desktop\\Lecture Files\\DH604\\Voice Samples\\Telephone_Dataset 'a'\\PD_AH\"\n",
        "output_folder = r\"C:\\Users\\Hp\\Desktop\\Lecture Files\\DH604\\Voice Samples\\Cleaned - Telephone_Dataset 'a'\\PD\"\n",
        "remove_silence_from_folder(input_folder, output_folder, silence_thresh=-40, min_silence_len=500)"
      ]
    }
  ],
  "metadata": {
    "colab": {
      "provenance": []
    },
    "kernelspec": {
      "display_name": "Python 3",
      "name": "python3"
    },
    "language_info": {
      "codemirror_mode": {
        "name": "ipython",
        "version": 3
      },
      "file_extension": ".py",
      "mimetype": "text/x-python",
      "name": "python",
      "nbconvert_exporter": "python",
      "pygments_lexer": "ipython3",
      "version": "3.8.0"
    }
  },
  "nbformat": 4,
  "nbformat_minor": 0
}
