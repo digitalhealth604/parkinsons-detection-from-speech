{
  "cells": [
    {
      "cell_type": "code",
      "execution_count": null,
      "metadata": {
        "id": "jF_RtlBGScFe"
      },
      "outputs": [],
      "source": [
        "# !rm -rf /content/hop_length"
      ]
    },
    {
      "cell_type": "markdown",
      "metadata": {
        "id": "RV6IKFo6hNji"
      },
      "source": [
        "# **Installation**"
      ]
    },
    {
      "cell_type": "code",
      "execution_count": 1,
      "metadata": {
        "colab": {
          "base_uri": "https://localhost:8080/"
        },
        "id": "BeaipEtyWUHs",
        "outputId": "753abc33-f44b-438e-b7a9-fc3de7bc8ad0"
      },
      "outputs": [
        {
          "output_type": "stream",
          "name": "stdout",
          "text": [
            "Collecting audb\n",
            "  Downloading audb-1.11.3-py3-none-any.whl.metadata (5.1 kB)\n",
            "Collecting audbackend>=2.2.2 (from audbackend[all]>=2.2.2->audb)\n",
            "  Downloading audbackend-2.2.2-py3-none-any.whl.metadata (4.9 kB)\n",
            "Collecting audeer>=2.2.0 (from audb)\n",
            "  Downloading audeer-2.2.1-py3-none-any.whl.metadata (4.1 kB)\n",
            "Collecting audformat>=1.2.0 (from audb)\n",
            "  Downloading audformat-1.3.1-py3-none-any.whl.metadata (4.6 kB)\n",
            "Collecting audiofile>=1.0.0 (from audb)\n",
            "  Downloading audiofile-1.5.1-py3-none-any.whl.metadata (4.9 kB)\n",
            "Collecting audobject>=0.5.0 (from audb)\n",
            "  Downloading audobject-0.7.11-py3-none-any.whl.metadata (2.6 kB)\n",
            "Collecting audresample>=0.1.6 (from audb)\n",
            "  Downloading audresample-1.3.3-py3-none-manylinux_2_17_x86_64.whl.metadata (4.4 kB)\n",
            "Requirement already satisfied: filelock in /usr/local/lib/python3.11/dist-packages (from audb) (3.17.0)\n",
            "Collecting oyaml (from audb)\n",
            "  Downloading oyaml-1.0-py2.py3-none-any.whl.metadata (1.2 kB)\n",
            "Requirement already satisfied: pandas>=2.1.0 in /usr/local/lib/python3.11/dist-packages (from audb) (2.2.2)\n",
            "Requirement already satisfied: pyarrow in /usr/local/lib/python3.11/dist-packages (from audb) (18.1.0)\n",
            "Collecting dohq-artifactory>=1.0.0 (from audbackend[all]>=2.2.2->audb)\n",
            "  Downloading dohq_artifactory-1.0.0-py3-none-any.whl.metadata (1.3 kB)\n",
            "Collecting minio (from audbackend[all]>=2.2.2->audb)\n",
            "  Downloading minio-7.2.15-py3-none-any.whl.metadata (6.7 kB)\n",
            "Requirement already satisfied: tqdm in /usr/local/lib/python3.11/dist-packages (from audeer>=2.2.0->audb) (4.67.1)\n",
            "Collecting iso639-lang (from audformat>=1.2.0->audb)\n",
            "  Downloading iso639_lang-2.6.0-py3-none-any.whl.metadata (8.8 kB)\n",
            "Collecting iso3166 (from audformat>=1.2.0->audb)\n",
            "  Downloading iso3166-2.1.1-py3-none-any.whl.metadata (6.6 kB)\n",
            "Requirement already satisfied: pyyaml>=5.4.1 in /usr/local/lib/python3.11/dist-packages (from audformat>=1.2.0->audb) (6.0.2)\n",
            "Collecting audmath>=1.3.0 (from audiofile>=1.0.0->audb)\n",
            "  Downloading audmath-1.4.1-py3-none-any.whl.metadata (3.6 kB)\n",
            "Requirement already satisfied: numpy in /usr/local/lib/python3.11/dist-packages (from audiofile>=1.0.0->audb) (2.0.2)\n",
            "Requirement already satisfied: soundfile>=0.12.1 in /usr/local/lib/python3.11/dist-packages (from audiofile>=1.0.0->audb) (0.13.1)\n",
            "Requirement already satisfied: importlib-metadata>=4.8.0 in /usr/local/lib/python3.11/dist-packages (from audobject>=0.5.0->audb) (8.6.1)\n",
            "Requirement already satisfied: packaging in /usr/local/lib/python3.11/dist-packages (from audobject>=0.5.0->audb) (24.2)\n",
            "Requirement already satisfied: python-dateutil>=2.8.2 in /usr/local/lib/python3.11/dist-packages (from pandas>=2.1.0->audb) (2.8.2)\n",
            "Requirement already satisfied: pytz>=2020.1 in /usr/local/lib/python3.11/dist-packages (from pandas>=2.1.0->audb) (2025.1)\n",
            "Requirement already satisfied: tzdata>=2022.7 in /usr/local/lib/python3.11/dist-packages (from pandas>=2.1.0->audb) (2025.1)\n",
            "Requirement already satisfied: requests>=2.30.0 in /usr/local/lib/python3.11/dist-packages (from dohq-artifactory>=1.0.0->audbackend[all]>=2.2.2->audb) (2.32.3)\n",
            "Requirement already satisfied: PyJWT~=2.0 in /usr/local/lib/python3.11/dist-packages (from dohq-artifactory>=1.0.0->audbackend[all]>=2.2.2->audb) (2.10.1)\n",
            "Requirement already satisfied: zipp>=3.20 in /usr/local/lib/python3.11/dist-packages (from importlib-metadata>=4.8.0->audobject>=0.5.0->audb) (3.21.0)\n",
            "Requirement already satisfied: six>=1.5 in /usr/local/lib/python3.11/dist-packages (from python-dateutil>=2.8.2->pandas>=2.1.0->audb) (1.17.0)\n",
            "Requirement already satisfied: cffi>=1.0 in /usr/local/lib/python3.11/dist-packages (from soundfile>=0.12.1->audiofile>=1.0.0->audb) (1.17.1)\n",
            "Requirement already satisfied: certifi in /usr/local/lib/python3.11/dist-packages (from minio->audbackend[all]>=2.2.2->audb) (2025.1.31)\n",
            "Requirement already satisfied: urllib3 in /usr/local/lib/python3.11/dist-packages (from minio->audbackend[all]>=2.2.2->audb) (2.3.0)\n",
            "Requirement already satisfied: argon2-cffi in /usr/local/lib/python3.11/dist-packages (from minio->audbackend[all]>=2.2.2->audb) (23.1.0)\n",
            "Collecting pycryptodome (from minio->audbackend[all]>=2.2.2->audb)\n",
            "  Downloading pycryptodome-3.22.0-cp37-abi3-manylinux_2_17_x86_64.manylinux2014_x86_64.whl.metadata (3.4 kB)\n",
            "Requirement already satisfied: typing-extensions in /usr/local/lib/python3.11/dist-packages (from minio->audbackend[all]>=2.2.2->audb) (4.12.2)\n",
            "Requirement already satisfied: pycparser in /usr/local/lib/python3.11/dist-packages (from cffi>=1.0->soundfile>=0.12.1->audiofile>=1.0.0->audb) (2.22)\n",
            "Requirement already satisfied: charset-normalizer<4,>=2 in /usr/local/lib/python3.11/dist-packages (from requests>=2.30.0->dohq-artifactory>=1.0.0->audbackend[all]>=2.2.2->audb) (3.4.1)\n",
            "Requirement already satisfied: idna<4,>=2.5 in /usr/local/lib/python3.11/dist-packages (from requests>=2.30.0->dohq-artifactory>=1.0.0->audbackend[all]>=2.2.2->audb) (3.10)\n",
            "Requirement already satisfied: argon2-cffi-bindings in /usr/local/lib/python3.11/dist-packages (from argon2-cffi->minio->audbackend[all]>=2.2.2->audb) (21.2.0)\n",
            "Downloading audb-1.11.3-py3-none-any.whl (241 kB)\n",
            "\u001b[2K   \u001b[90m━━━━━━━━━━━━━━━━━━━━━━━━━━━━━━━━━━━━━━━━\u001b[0m \u001b[32m241.1/241.1 kB\u001b[0m \u001b[31m7.3 MB/s\u001b[0m eta \u001b[36m0:00:00\u001b[0m\n",
            "\u001b[?25hDownloading audbackend-2.2.2-py3-none-any.whl (67 kB)\n",
            "\u001b[2K   \u001b[90m━━━━━━━━━━━━━━━━━━━━━━━━━━━━━━━━━━━━━━━━\u001b[0m \u001b[32m67.6/67.6 kB\u001b[0m \u001b[31m4.2 MB/s\u001b[0m eta \u001b[36m0:00:00\u001b[0m\n",
            "\u001b[?25hDownloading audeer-2.2.1-py3-none-any.whl (41 kB)\n",
            "\u001b[2K   \u001b[90m━━━━━━━━━━━━━━━━━━━━━━━━━━━━━━━━━━━━━━━━\u001b[0m \u001b[32m41.9/41.9 kB\u001b[0m \u001b[31m2.5 MB/s\u001b[0m eta \u001b[36m0:00:00\u001b[0m\n",
            "\u001b[?25hDownloading audformat-1.3.1-py3-none-any.whl (150 kB)\n",
            "\u001b[2K   \u001b[90m━━━━━━━━━━━━━━━━━━━━━━━━━━━━━━━━━━━━━━━━\u001b[0m \u001b[32m150.9/150.9 kB\u001b[0m \u001b[31m10.3 MB/s\u001b[0m eta \u001b[36m0:00:00\u001b[0m\n",
            "\u001b[?25hDownloading audiofile-1.5.1-py3-none-any.whl (1.1 MB)\n",
            "\u001b[2K   \u001b[90m━━━━━━━━━━━━━━━━━━━━━━━━━━━━━━━━━━━━━━━━\u001b[0m \u001b[32m1.1/1.1 MB\u001b[0m \u001b[31m25.7 MB/s\u001b[0m eta \u001b[36m0:00:00\u001b[0m\n",
            "\u001b[?25hDownloading audobject-0.7.11-py3-none-any.whl (43 kB)\n",
            "\u001b[2K   \u001b[90m━━━━━━━━━━━━━━━━━━━━━━━━━━━━━━━━━━━━━━━━\u001b[0m \u001b[32m44.0/44.0 kB\u001b[0m \u001b[31m3.2 MB/s\u001b[0m eta \u001b[36m0:00:00\u001b[0m\n",
            "\u001b[?25hDownloading audresample-1.3.3-py3-none-manylinux_2_17_x86_64.whl (138 kB)\n",
            "\u001b[2K   \u001b[90m━━━━━━━━━━━━━━━━━━━━━━━━━━━━━━━━━━━━━━━━\u001b[0m \u001b[32m138.4/138.4 kB\u001b[0m \u001b[31m11.1 MB/s\u001b[0m eta \u001b[36m0:00:00\u001b[0m\n",
            "\u001b[?25hDownloading oyaml-1.0-py2.py3-none-any.whl (3.0 kB)\n",
            "Downloading audmath-1.4.1-py3-none-any.whl (23 kB)\n",
            "Downloading dohq_artifactory-1.0.0-py3-none-any.whl (34 kB)\n",
            "Downloading iso3166-2.1.1-py3-none-any.whl (9.8 kB)\n",
            "Downloading iso639_lang-2.6.0-py3-none-any.whl (324 kB)\n",
            "\u001b[2K   \u001b[90m━━━━━━━━━━━━━━━━━━━━━━━━━━━━━━━━━━━━━━━━\u001b[0m \u001b[32m324.8/324.8 kB\u001b[0m \u001b[31m20.8 MB/s\u001b[0m eta \u001b[36m0:00:00\u001b[0m\n",
            "\u001b[?25hDownloading minio-7.2.15-py3-none-any.whl (95 kB)\n",
            "\u001b[2K   \u001b[90m━━━━━━━━━━━━━━━━━━━━━━━━━━━━━━━━━━━━━━━━\u001b[0m \u001b[32m95.1/95.1 kB\u001b[0m \u001b[31m6.8 MB/s\u001b[0m eta \u001b[36m0:00:00\u001b[0m\n",
            "\u001b[?25hDownloading pycryptodome-3.22.0-cp37-abi3-manylinux_2_17_x86_64.manylinux2014_x86_64.whl (2.3 MB)\n",
            "\u001b[2K   \u001b[90m━━━━━━━━━━━━━━━━━━━━━━━━━━━━━━━━━━━━━━━━\u001b[0m \u001b[32m2.3/2.3 MB\u001b[0m \u001b[31m59.5 MB/s\u001b[0m eta \u001b[36m0:00:00\u001b[0m\n",
            "\u001b[?25hInstalling collected packages: pycryptodome, oyaml, iso639-lang, iso3166, audresample, audmath, audeer, dohq-artifactory, audobject, audbackend, audiofile, minio, audformat, audb\n",
            "Successfully installed audb-1.11.3 audbackend-2.2.2 audeer-2.2.1 audformat-1.3.1 audiofile-1.5.1 audmath-1.4.1 audobject-0.7.11 audresample-1.3.3 dohq-artifactory-1.0.0 iso3166-2.1.1 iso639-lang-2.6.0 minio-7.2.15 oyaml-1.0 pycryptodome-3.22.0\n"
          ]
        }
      ],
      "source": [
        "!pip install audb"
      ]
    },
    {
      "cell_type": "code",
      "source": [
        "!pip install pydub"
      ],
      "metadata": {
        "colab": {
          "base_uri": "https://localhost:8080/"
        },
        "id": "pKk7QDGsslyn",
        "outputId": "89a34bee-5e1c-4607-ea96-66d9bc3f21c5"
      },
      "execution_count": 2,
      "outputs": [
        {
          "output_type": "stream",
          "name": "stdout",
          "text": [
            "Collecting pydub\n",
            "  Downloading pydub-0.25.1-py2.py3-none-any.whl.metadata (1.4 kB)\n",
            "Downloading pydub-0.25.1-py2.py3-none-any.whl (32 kB)\n",
            "Installing collected packages: pydub\n",
            "Successfully installed pydub-0.25.1\n"
          ]
        }
      ]
    },
    {
      "cell_type": "code",
      "execution_count": 3,
      "metadata": {
        "colab": {
          "base_uri": "https://localhost:8080/"
        },
        "id": "uG48OXkATdTp",
        "outputId": "cd2a89a2-78bd-4cba-8513-11fb79556400"
      },
      "outputs": [
        {
          "output_type": "stream",
          "name": "stdout",
          "text": [
            "Requirement already satisfied: shap in /usr/local/lib/python3.11/dist-packages (0.46.0)\n",
            "Requirement already satisfied: numpy in /usr/local/lib/python3.11/dist-packages (from shap) (2.0.2)\n",
            "Requirement already satisfied: scipy in /usr/local/lib/python3.11/dist-packages (from shap) (1.14.1)\n",
            "Requirement already satisfied: scikit-learn in /usr/local/lib/python3.11/dist-packages (from shap) (1.6.1)\n",
            "Requirement already satisfied: pandas in /usr/local/lib/python3.11/dist-packages (from shap) (2.2.2)\n",
            "Requirement already satisfied: tqdm>=4.27.0 in /usr/local/lib/python3.11/dist-packages (from shap) (4.67.1)\n",
            "Requirement already satisfied: packaging>20.9 in /usr/local/lib/python3.11/dist-packages (from shap) (24.2)\n",
            "Requirement already satisfied: slicer==0.0.8 in /usr/local/lib/python3.11/dist-packages (from shap) (0.0.8)\n",
            "Requirement already satisfied: numba in /usr/local/lib/python3.11/dist-packages (from shap) (0.60.0)\n",
            "Requirement already satisfied: cloudpickle in /usr/local/lib/python3.11/dist-packages (from shap) (3.1.1)\n",
            "Requirement already satisfied: llvmlite<0.44,>=0.43.0dev0 in /usr/local/lib/python3.11/dist-packages (from numba->shap) (0.43.0)\n",
            "Requirement already satisfied: python-dateutil>=2.8.2 in /usr/local/lib/python3.11/dist-packages (from pandas->shap) (2.8.2)\n",
            "Requirement already satisfied: pytz>=2020.1 in /usr/local/lib/python3.11/dist-packages (from pandas->shap) (2025.1)\n",
            "Requirement already satisfied: tzdata>=2022.7 in /usr/local/lib/python3.11/dist-packages (from pandas->shap) (2025.1)\n",
            "Requirement already satisfied: joblib>=1.2.0 in /usr/local/lib/python3.11/dist-packages (from scikit-learn->shap) (1.4.2)\n",
            "Requirement already satisfied: threadpoolctl>=3.1.0 in /usr/local/lib/python3.11/dist-packages (from scikit-learn->shap) (3.6.0)\n",
            "Requirement already satisfied: six>=1.5 in /usr/local/lib/python3.11/dist-packages (from python-dateutil>=2.8.2->pandas->shap) (1.17.0)\n"
          ]
        }
      ],
      "source": [
        "!pip install shap"
      ]
    },
    {
      "cell_type": "code",
      "execution_count": 4,
      "metadata": {
        "colab": {
          "base_uri": "https://localhost:8080/"
        },
        "id": "p4NssT2PWr8P",
        "outputId": "03c4d492-80d9-477b-980e-1ab0fda5803e"
      },
      "outputs": [
        {
          "output_type": "stream",
          "name": "stdout",
          "text": [
            "Collecting opensmile\n",
            "  Downloading opensmile-2.5.1-py3-none-manylinux_2_17_x86_64.whl.metadata (15 kB)\n",
            "Requirement already satisfied: audobject>=0.6.1 in /usr/local/lib/python3.11/dist-packages (from opensmile) (0.7.11)\n",
            "Collecting audinterface>=0.7.0 (from opensmile)\n",
            "  Downloading audinterface-1.2.3-py3-none-any.whl.metadata (4.2 kB)\n",
            "Requirement already satisfied: audeer>=2.1.1 in /usr/local/lib/python3.11/dist-packages (from audinterface>=0.7.0->opensmile) (2.2.1)\n",
            "Requirement already satisfied: audformat<2.0.0,>=1.0.1 in /usr/local/lib/python3.11/dist-packages (from audinterface>=0.7.0->opensmile) (1.3.1)\n",
            "Requirement already satisfied: audiofile>=1.3.0 in /usr/local/lib/python3.11/dist-packages (from audinterface>=0.7.0->opensmile) (1.5.1)\n",
            "Requirement already satisfied: audmath>=1.4.1 in /usr/local/lib/python3.11/dist-packages (from audinterface>=0.7.0->opensmile) (1.4.1)\n",
            "Requirement already satisfied: audresample<2.0.0,>=1.1.0 in /usr/local/lib/python3.11/dist-packages (from audinterface>=0.7.0->opensmile) (1.3.3)\n",
            "Requirement already satisfied: importlib-metadata>=4.8.0 in /usr/local/lib/python3.11/dist-packages (from audobject>=0.6.1->opensmile) (8.6.1)\n",
            "Requirement already satisfied: oyaml in /usr/local/lib/python3.11/dist-packages (from audobject>=0.6.1->opensmile) (1.0)\n",
            "Requirement already satisfied: packaging in /usr/local/lib/python3.11/dist-packages (from audobject>=0.6.1->opensmile) (24.2)\n",
            "Requirement already satisfied: tqdm in /usr/local/lib/python3.11/dist-packages (from audeer>=2.1.1->audinterface>=0.7.0->opensmile) (4.67.1)\n",
            "Requirement already satisfied: iso639-lang in /usr/local/lib/python3.11/dist-packages (from audformat<2.0.0,>=1.0.1->audinterface>=0.7.0->opensmile) (2.6.0)\n",
            "Requirement already satisfied: iso3166 in /usr/local/lib/python3.11/dist-packages (from audformat<2.0.0,>=1.0.1->audinterface>=0.7.0->opensmile) (2.1.1)\n",
            "Requirement already satisfied: pandas>=2.1.0 in /usr/local/lib/python3.11/dist-packages (from audformat<2.0.0,>=1.0.1->audinterface>=0.7.0->opensmile) (2.2.2)\n",
            "Requirement already satisfied: pyarrow>=10.0.1 in /usr/local/lib/python3.11/dist-packages (from audformat<2.0.0,>=1.0.1->audinterface>=0.7.0->opensmile) (18.1.0)\n",
            "Requirement already satisfied: pyyaml>=5.4.1 in /usr/local/lib/python3.11/dist-packages (from audformat<2.0.0,>=1.0.1->audinterface>=0.7.0->opensmile) (6.0.2)\n",
            "Requirement already satisfied: numpy in /usr/local/lib/python3.11/dist-packages (from audiofile>=1.3.0->audinterface>=0.7.0->opensmile) (2.0.2)\n",
            "Requirement already satisfied: soundfile>=0.12.1 in /usr/local/lib/python3.11/dist-packages (from audiofile>=1.3.0->audinterface>=0.7.0->opensmile) (0.13.1)\n",
            "Requirement already satisfied: zipp>=3.20 in /usr/local/lib/python3.11/dist-packages (from importlib-metadata>=4.8.0->audobject>=0.6.1->opensmile) (3.21.0)\n",
            "Requirement already satisfied: python-dateutil>=2.8.2 in /usr/local/lib/python3.11/dist-packages (from pandas>=2.1.0->audformat<2.0.0,>=1.0.1->audinterface>=0.7.0->opensmile) (2.8.2)\n",
            "Requirement already satisfied: pytz>=2020.1 in /usr/local/lib/python3.11/dist-packages (from pandas>=2.1.0->audformat<2.0.0,>=1.0.1->audinterface>=0.7.0->opensmile) (2025.1)\n",
            "Requirement already satisfied: tzdata>=2022.7 in /usr/local/lib/python3.11/dist-packages (from pandas>=2.1.0->audformat<2.0.0,>=1.0.1->audinterface>=0.7.0->opensmile) (2025.1)\n",
            "Requirement already satisfied: cffi>=1.0 in /usr/local/lib/python3.11/dist-packages (from soundfile>=0.12.1->audiofile>=1.3.0->audinterface>=0.7.0->opensmile) (1.17.1)\n",
            "Requirement already satisfied: pycparser in /usr/local/lib/python3.11/dist-packages (from cffi>=1.0->soundfile>=0.12.1->audiofile>=1.3.0->audinterface>=0.7.0->opensmile) (2.22)\n",
            "Requirement already satisfied: six>=1.5 in /usr/local/lib/python3.11/dist-packages (from python-dateutil>=2.8.2->pandas>=2.1.0->audformat<2.0.0,>=1.0.1->audinterface>=0.7.0->opensmile) (1.17.0)\n",
            "Downloading opensmile-2.5.1-py3-none-manylinux_2_17_x86_64.whl (996 kB)\n",
            "\u001b[2K   \u001b[90m━━━━━━━━━━━━━━━━━━━━━━━━━━━━━━━━━━━━━━━━\u001b[0m \u001b[32m996.0/996.0 kB\u001b[0m \u001b[31m11.5 MB/s\u001b[0m eta \u001b[36m0:00:00\u001b[0m\n",
            "\u001b[?25hDownloading audinterface-1.2.3-py3-none-any.whl (70 kB)\n",
            "\u001b[2K   \u001b[90m━━━━━━━━━━━━━━━━━━━━━━━━━━━━━━━━━━━━━━━━\u001b[0m \u001b[32m70.3/70.3 kB\u001b[0m \u001b[31m5.2 MB/s\u001b[0m eta \u001b[36m0:00:00\u001b[0m\n",
            "\u001b[?25hInstalling collected packages: audinterface, opensmile\n",
            "Successfully installed audinterface-1.2.3 opensmile-2.5.1\n"
          ]
        }
      ],
      "source": [
        "!pip install opensmile"
      ]
    },
    {
      "cell_type": "code",
      "execution_count": 5,
      "metadata": {
        "id": "W5haHIthfmKL"
      },
      "outputs": [],
      "source": [
        "# !pip install alibi"
      ]
    },
    {
      "cell_type": "code",
      "execution_count": 6,
      "metadata": {
        "id": "mCbrBmgvWgVB"
      },
      "outputs": [],
      "source": [
        "import os\n",
        "import time\n",
        "import datetime\n",
        "import errno\n",
        "import random\n",
        "import copy\n",
        "import pickle\n",
        "from tensorflow.keras.optimizers import Adam\n",
        "import joblib\n",
        "import collections\n",
        "from datetime import timedelta, date\n",
        "from collections import Counter\n",
        "from tensorflow.keras.models import load_model\n",
        "import numpy as np\n",
        "import pandas as pd\n",
        "import seaborn as sns\n",
        "import matplotlib.pyplot as plt\n",
        "from matplotlib import pyplot\n",
        "import joblib\n",
        "import audb\n",
        "import audiofile\n",
        "import opensmile\n",
        "import shap\n",
        "import sklearn\n",
        "from sklearn.utils import shuffle\n",
        "from sklearn.datasets import make_classification\n",
        "from sklearn.model_selection import (\n",
        "    train_test_split, KFold, StratifiedKFold, ParameterGrid\n",
        ")\n",
        "from sklearn.preprocessing import StandardScaler, MinMaxScaler\n",
        "from sklearn.svm import SVC\n",
        "from sklearn.linear_model import LogisticRegression\n",
        "from sklearn.ensemble import RandomForestClassifier\n",
        "from sklearn.metrics import (\n",
        "    accuracy_score, precision_score, recall_score, f1_score,\n",
        "    roc_auc_score, roc_curve, auc, log_loss, confusion_matrix,\n",
        "    classification_report, precision_recall_curve\n",
        ")\n",
        "from tensorflow.keras.regularizers import l2\n",
        "from imblearn.over_sampling import SMOTE\n",
        "import imblearn\n",
        "\n",
        "from xgboost import XGBClassifier\n",
        "\n",
        "import tensorflow as tf\n",
        "from tensorflow.keras.utils import to_categorical\n",
        "from keras.models import Sequential, load_model\n",
        "from keras.layers import (\n",
        "    Dense, Activation, LSTM, Bidirectional, RepeatVector, Dropout,\n",
        "    TimeDistributed, Conv1D, MaxPooling1D, Flatten, ConvLSTM2D\n",
        ")\n",
        "from pydub import AudioSegment\n",
        "from pydub.silence import detect_nonsilent\n",
        "\n",
        "# Seaborn theme setup\n",
        "sns.set_theme()\n",
        "\n",
        "# Inline plotting for Jupyter Notebook\n",
        "%matplotlib inline\n"
      ]
    },
    {
      "cell_type": "markdown",
      "metadata": {
        "id": "Yoekf9XHhl_s"
      },
      "source": [
        "# **Documentation**"
      ]
    },
    {
      "cell_type": "markdown",
      "metadata": {
        "id": "L6sFBBvx7pHt"
      },
      "source": [
        "\n",
        "Documentation opensmile : https://audeering.github.io/opensmile-python/install.html"
      ]
    },
    {
      "cell_type": "markdown",
      "metadata": {
        "id": "upFMmhTb7wQm"
      },
      "source": [
        "Github : https://audeering.github.io/opensmile-python/install.html"
      ]
    },
    {
      "cell_type": "markdown",
      "metadata": {
        "id": "PnMumXvV7zy7"
      },
      "source": [
        "Audiofile : https://audeering.github.io/audiofile/installation.html"
      ]
    },
    {
      "cell_type": "markdown",
      "metadata": {
        "id": "DvUh2vKsAWTd"
      },
      "source": [
        "# **LowLevelDescriptors**"
      ]
    },
    {
      "cell_type": "code",
      "execution_count": 7,
      "metadata": {
        "colab": {
          "base_uri": "https://localhost:8080/"
        },
        "id": "PtJBpVNTj2zw",
        "outputId": "1853823e-ba66-48b6-a7e8-f0f7dddb5c26"
      },
      "outputs": [
        {
          "output_type": "stream",
          "name": "stdout",
          "text": [
            "Univariate: False\n",
            "Number of Input Time Steps: 10\n",
            "Number of Input Sequences: 2\n",
            "Number of Output Time Steps: 2\n",
            "Number of Input Features: 65\n",
            "Number of Output Features: 2\n",
            "Number of Hidden Layers: 50\n",
            "Epochs: 1000\n",
            "Number of Experiments: 1\n",
            "Batch size: 128\n"
          ]
        }
      ],
      "source": [
        "# Hyper Paramaters\n",
        "\n",
        "#LSTM\n",
        "univariate = False\n",
        "n_steps_in = 10\n",
        "n_seq = 2\n",
        "n_steps_out = 2\n",
        "n_features_in = 65\n",
        "n_features_out = 2\n",
        "hidden_layers = 50\n",
        "Epochs = 1000\n",
        "No_exp = 1\n",
        "batch_size = 128\n",
        "\n",
        "print(f\"Univariate: {univariate}\")\n",
        "print(f\"Number of Input Time Steps: {n_steps_in}\")\n",
        "print(f\"Number of Input Sequences: {n_seq}\")\n",
        "print(f\"Number of Output Time Steps: {n_steps_out}\")\n",
        "print(f\"Number of Input Features: {n_features_in}\")\n",
        "print(f\"Number of Output Features: {n_features_out}\")\n",
        "print(f\"Number of Hidden Layers: {hidden_layers}\")\n",
        "print(f\"Epochs: {Epochs}\")\n",
        "print(f\"Number of Experiments: {No_exp}\")\n",
        "print(f\"Batch size: {batch_size}\")\n",
        "\n",
        "#Optimiser\n",
        "lr_adam = 0.0001\n",
        "\n",
        "#Loss Function\n",
        "label_smoothing = 0.05\n",
        "\n",
        "#Activation\n",
        "negative_slope = 0.01\n",
        "\n",
        "#Optimizer and Loss Function\n",
        "optimizer = Adam(learning_rate = lr_adam)\n",
        "loss = tf.keras.losses.CategoricalCrossentropy(label_smoothing = label_smoothing)\n",
        "activation_lstm = tf.keras.layers.LeakyReLU(negative_slope = negative_slope)\n",
        "# activation_lstm = tf.keras.activations.swish\n",
        "# activation_lstm = 'relu'\n",
        "activation_dense = 'softmax'\n",
        "\n",
        "feature_list = ['F0final_sma',\n",
        " 'voicingFinalUnclipped_sma',\n",
        " 'jitterLocal_sma',\n",
        " 'jitterDDP_sma',\n",
        " 'shimmerLocal_sma',\n",
        " 'logHNR_sma',\n",
        " 'audspec_lengthL1norm_sma',\n",
        " 'audspecRasta_lengthL1norm_sma',\n",
        " 'pcm_RMSenergy_sma',\n",
        " 'pcm_zcr_sma',\n",
        " 'audSpec_Rfilt_sma[0]',\n",
        " 'audSpec_Rfilt_sma[1]',\n",
        " 'audSpec_Rfilt_sma[2]',\n",
        " 'audSpec_Rfilt_sma[3]',\n",
        " 'audSpec_Rfilt_sma[4]',\n",
        " 'audSpec_Rfilt_sma[5]',\n",
        " 'audSpec_Rfilt_sma[6]',\n",
        " 'audSpec_Rfilt_sma[7]',\n",
        " 'audSpec_Rfilt_sma[8]',\n",
        " 'audSpec_Rfilt_sma[9]',\n",
        " 'audSpec_Rfilt_sma[10]',\n",
        " 'audSpec_Rfilt_sma[11]',\n",
        " 'audSpec_Rfilt_sma[12]',\n",
        " 'audSpec_Rfilt_sma[13]',\n",
        " 'audSpec_Rfilt_sma[14]',\n",
        " 'audSpec_Rfilt_sma[15]',\n",
        " 'audSpec_Rfilt_sma[16]',\n",
        " 'audSpec_Rfilt_sma[17]',\n",
        " 'audSpec_Rfilt_sma[18]',\n",
        " 'audSpec_Rfilt_sma[19]',\n",
        " 'audSpec_Rfilt_sma[20]',\n",
        " 'audSpec_Rfilt_sma[21]',\n",
        " 'audSpec_Rfilt_sma[22]',\n",
        " 'audSpec_Rfilt_sma[23]',\n",
        " 'audSpec_Rfilt_sma[24]',\n",
        " 'audSpec_Rfilt_sma[25]',\n",
        " 'pcm_fftMag_fband250-650_sma',\n",
        " 'pcm_fftMag_fband1000-4000_sma',\n",
        " 'pcm_fftMag_spectralRollOff25.0_sma',\n",
        " 'pcm_fftMag_spectralRollOff50.0_sma',\n",
        " 'pcm_fftMag_spectralRollOff75.0_sma',\n",
        " 'pcm_fftMag_spectralRollOff90.0_sma',\n",
        " 'pcm_fftMag_spectralFlux_sma',\n",
        " 'pcm_fftMag_spectralCentroid_sma',\n",
        " 'pcm_fftMag_spectralEntropy_sma',\n",
        " 'pcm_fftMag_spectralVariance_sma',\n",
        " 'pcm_fftMag_spectralSkewness_sma',\n",
        " 'pcm_fftMag_spectralKurtosis_sma',\n",
        " 'pcm_fftMag_spectralSlope_sma',\n",
        " 'pcm_fftMag_psySharpness_sma',\n",
        " 'pcm_fftMag_spectralHarmonicity_sma',\n",
        " 'mfcc_sma[1]',\n",
        " 'mfcc_sma[2]',\n",
        " 'mfcc_sma[3]',\n",
        " 'mfcc_sma[4]',\n",
        " 'mfcc_sma[5]',\n",
        " 'mfcc_sma[6]',\n",
        " 'mfcc_sma[7]',\n",
        " 'mfcc_sma[8]',\n",
        " 'mfcc_sma[9]',\n",
        " 'mfcc_sma[10]',\n",
        " 'mfcc_sma[11]',\n",
        " 'mfcc_sma[12]',\n",
        " 'mfcc_sma[13]',\n",
        " 'mfcc_sma[14]']"
      ]
    },
    {
      "cell_type": "code",
      "source": [
        "def preprocess_(folder_path, label, smile, n=10):\n",
        "    X, y = [], []\n",
        "\n",
        "    for file_name in os.listdir(folder_path):\n",
        "        file_path = os.path.join(folder_path, file_name)\n",
        "\n",
        "        if not file_path.lower().endswith(('.wav', '.mp3', '.flac')):\n",
        "            continue\n",
        "\n",
        "        try:\n",
        "            signal, sampling_rate = audiofile.read(file_path, always_2d=True)\n",
        "            features = smile.process_signal(signal, sampling_rate).to_numpy()\n",
        "\n",
        "            segments = [features[i:i+n] for i in range(0, len(features) - n + 1, n)]\n",
        "            segments = [segment for segment in segments if segment.shape == (n, features.shape[1])]\n",
        "\n",
        "            if not segments:\n",
        "                continue\n",
        "\n",
        "            X.extend(segments)\n",
        "            y.extend([label] * len(segments))\n",
        "\n",
        "        except Exception as e:\n",
        "            print(f\"Error processing {file_name}: {e}\")\n",
        "\n",
        "    return np.array(X, dtype=np.float32), np.array(y, dtype=np.int32)"
      ],
      "metadata": {
        "id": "u0fQ7sE8Hj1M"
      },
      "execution_count": 8,
      "outputs": []
    },
    {
      "cell_type": "code",
      "source": [
        "def evaluate_model_(parkinson_path, healthy_path, model_path, n=10, scaler_path=None, scale_option=None, save=True):\n",
        "    smile = opensmile.Smile(\n",
        "        feature_set=opensmile.FeatureSet.ComParE_2016,\n",
        "        feature_level=opensmile.FeatureLevel.LowLevelDescriptors,\n",
        "    )\n",
        "\n",
        "    model = load_model(model_path, custom_objects={'LeakyReLU': activation_lstm})\n",
        "    model.summary()\n",
        "\n",
        "    X_parkinson, y_parkinson = preprocess_(parkinson_path, 1, smile, n)\n",
        "    X_healthy, y_healthy = preprocess_(healthy_path, 0, smile, n)\n",
        "\n",
        "    min_size = min(len(y_parkinson), len(y_healthy))\n",
        "\n",
        "    indices_parkinson = np.random.choice(len(y_parkinson), min_size, replace=False)\n",
        "    indices_healthy = np.random.choice(len(y_healthy), min_size, replace=False)\n",
        "\n",
        "    X_parkinson, y_parkinson = X_parkinson[indices_parkinson], y_parkinson[indices_parkinson]\n",
        "    X_healthy, y_healthy = X_healthy[indices_healthy], y_healthy[indices_healthy]\n",
        "\n",
        "    X = np.vstack((X_parkinson, X_healthy))\n",
        "    y = np.hstack((y_parkinson, y_healthy))\n",
        "    indices = np.random.permutation(len(y))\n",
        "    X, y = X[indices], y[indices]\n",
        "\n",
        "    X_reshaped = X.reshape(-1, X.shape[-1])\n",
        "\n",
        "    if scale_option == 'preloaded':\n",
        "        scaler = joblib.load(scaler_path)\n",
        "    else:\n",
        "        scaler = MinMaxScaler()\n",
        "        scaler.fit(X_reshaped)\n",
        "\n",
        "    X_scaled = scaler.transform(X_reshaped)\n",
        "    X_normalized = X_scaled.reshape(X.shape)\n",
        "\n",
        "\n",
        "    # ----- cnn-lstm\n",
        "    # X_normalized = np.asarray(X_normalized)\n",
        "    # X_normalized = X_normalized.reshape((X_normalized.shape[0], n_seq, int(n_steps_in/n_seq), n_features_in))\n",
        "\n",
        "    #----- conv-lstm\n",
        "    # X_normalized = np.asarray(X_normalized)\n",
        "    # X_normalized = X_normalized.reshape((X_normalized.shape[0], n_seq, 1, int(n_steps_in/n_seq), n_features_in))\n",
        "\n",
        "    x_train = X_normalized\n",
        "\n",
        "    print(\"Model Input Shape:\", model.input_shape)\n",
        "    print(\"Data Shape:\", X_normalized.shape)\n",
        "\n",
        "    explainer = shap.GradientExplainer(model, x_train)\n",
        "    shap_values = explainer.shap_values(x_train)\n",
        "    shap_feature_importance = np.mean(np.abs(shap_values), axis=(0, 1, -1))\n",
        "    df_importance = pd.DataFrame({\n",
        "      'Feature': feature_list,\n",
        "      'SHAP Importance': shap_feature_importance\n",
        "    })\n",
        "\n",
        "    df_importance = df_importance.sort_values(by=\"SHAP Importance\", ascending=False)\n",
        "\n",
        "    if save:\n",
        "      df_importance.to_csv(\"shap_feature_importance.csv\", index=False)\n",
        "\n",
        "    return df_importance"
      ],
      "metadata": {
        "id": "QFJ36-5YHmTW"
      },
      "execution_count": 9,
      "outputs": []
    },
    {
      "cell_type": "code",
      "source": [
        "parkinson_path = '/content/PwPD'\n",
        "healthy_path = '/content/HS'\n",
        "model_path = '/content/model_vanilla_italian_a.h5'\n",
        "evaluate_model_(parkinson_path, healthy_path, model_path, n=10, scaler_path=None, scale_option=None, save=True)"
      ],
      "metadata": {
        "colab": {
          "base_uri": "https://localhost:8080/",
          "height": 858
        },
        "id": "werZ_VOUJIC9",
        "outputId": "901836f3-f2c2-477b-9618-f239266e5406"
      },
      "execution_count": 11,
      "outputs": [
        {
          "output_type": "stream",
          "name": "stderr",
          "text": [
            "WARNING:absl:Compiled the loaded model, but the compiled metrics have yet to be built. `model.compile_metrics` will be empty until you train or evaluate the model.\n"
          ]
        },
        {
          "output_type": "display_data",
          "data": {
            "text/plain": [
              "\u001b[1mModel: \"sequential_3\"\u001b[0m\n"
            ],
            "text/html": [
              "<pre style=\"white-space:pre;overflow-x:auto;line-height:normal;font-family:Menlo,'DejaVu Sans Mono',consolas,'Courier New',monospace\"><span style=\"font-weight: bold\">Model: \"sequential_3\"</span>\n",
              "</pre>\n"
            ]
          },
          "metadata": {}
        },
        {
          "output_type": "display_data",
          "data": {
            "text/plain": [
              "┏━━━━━━━━━━━━━━━━━━━━━━━━━━━━━━━━━━━━━━┳━━━━━━━━━━━━━━━━━━━━━━━━━━━━━┳━━━━━━━━━━━━━━━━━┓\n",
              "┃\u001b[1m \u001b[0m\u001b[1mLayer (type)                        \u001b[0m\u001b[1m \u001b[0m┃\u001b[1m \u001b[0m\u001b[1mOutput Shape               \u001b[0m\u001b[1m \u001b[0m┃\u001b[1m \u001b[0m\u001b[1m        Param #\u001b[0m\u001b[1m \u001b[0m┃\n",
              "┡━━━━━━━━━━━━━━━━━━━━━━━━━━━━━━━━━━━━━━╇━━━━━━━━━━━━━━━━━━━━━━━━━━━━━╇━━━━━━━━━━━━━━━━━┩\n",
              "│ lstm_3 (\u001b[38;5;33mLSTM\u001b[0m)                        │ (\u001b[38;5;45mNone\u001b[0m, \u001b[38;5;34m50\u001b[0m)                  │          \u001b[38;5;34m23,200\u001b[0m │\n",
              "├──────────────────────────────────────┼─────────────────────────────┼─────────────────┤\n",
              "│ dropout_3 (\u001b[38;5;33mDropout\u001b[0m)                  │ (\u001b[38;5;45mNone\u001b[0m, \u001b[38;5;34m50\u001b[0m)                  │               \u001b[38;5;34m0\u001b[0m │\n",
              "├──────────────────────────────────────┼─────────────────────────────┼─────────────────┤\n",
              "│ dense_3 (\u001b[38;5;33mDense\u001b[0m)                      │ (\u001b[38;5;45mNone\u001b[0m, \u001b[38;5;34m2\u001b[0m)                   │             \u001b[38;5;34m102\u001b[0m │\n",
              "└──────────────────────────────────────┴─────────────────────────────┴─────────────────┘\n"
            ],
            "text/html": [
              "<pre style=\"white-space:pre;overflow-x:auto;line-height:normal;font-family:Menlo,'DejaVu Sans Mono',consolas,'Courier New',monospace\">┏━━━━━━━━━━━━━━━━━━━━━━━━━━━━━━━━━━━━━━┳━━━━━━━━━━━━━━━━━━━━━━━━━━━━━┳━━━━━━━━━━━━━━━━━┓\n",
              "┃<span style=\"font-weight: bold\"> Layer (type)                         </span>┃<span style=\"font-weight: bold\"> Output Shape                </span>┃<span style=\"font-weight: bold\">         Param # </span>┃\n",
              "┡━━━━━━━━━━━━━━━━━━━━━━━━━━━━━━━━━━━━━━╇━━━━━━━━━━━━━━━━━━━━━━━━━━━━━╇━━━━━━━━━━━━━━━━━┩\n",
              "│ lstm_3 (<span style=\"color: #0087ff; text-decoration-color: #0087ff\">LSTM</span>)                        │ (<span style=\"color: #00d7ff; text-decoration-color: #00d7ff\">None</span>, <span style=\"color: #00af00; text-decoration-color: #00af00\">50</span>)                  │          <span style=\"color: #00af00; text-decoration-color: #00af00\">23,200</span> │\n",
              "├──────────────────────────────────────┼─────────────────────────────┼─────────────────┤\n",
              "│ dropout_3 (<span style=\"color: #0087ff; text-decoration-color: #0087ff\">Dropout</span>)                  │ (<span style=\"color: #00d7ff; text-decoration-color: #00d7ff\">None</span>, <span style=\"color: #00af00; text-decoration-color: #00af00\">50</span>)                  │               <span style=\"color: #00af00; text-decoration-color: #00af00\">0</span> │\n",
              "├──────────────────────────────────────┼─────────────────────────────┼─────────────────┤\n",
              "│ dense_3 (<span style=\"color: #0087ff; text-decoration-color: #0087ff\">Dense</span>)                      │ (<span style=\"color: #00d7ff; text-decoration-color: #00d7ff\">None</span>, <span style=\"color: #00af00; text-decoration-color: #00af00\">2</span>)                   │             <span style=\"color: #00af00; text-decoration-color: #00af00\">102</span> │\n",
              "└──────────────────────────────────────┴─────────────────────────────┴─────────────────┘\n",
              "</pre>\n"
            ]
          },
          "metadata": {}
        },
        {
          "output_type": "display_data",
          "data": {
            "text/plain": [
              "\u001b[1m Total params: \u001b[0m\u001b[38;5;34m23,304\u001b[0m (91.04 KB)\n"
            ],
            "text/html": [
              "<pre style=\"white-space:pre;overflow-x:auto;line-height:normal;font-family:Menlo,'DejaVu Sans Mono',consolas,'Courier New',monospace\"><span style=\"font-weight: bold\"> Total params: </span><span style=\"color: #00af00; text-decoration-color: #00af00\">23,304</span> (91.04 KB)\n",
              "</pre>\n"
            ]
          },
          "metadata": {}
        },
        {
          "output_type": "display_data",
          "data": {
            "text/plain": [
              "\u001b[1m Trainable params: \u001b[0m\u001b[38;5;34m23,302\u001b[0m (91.02 KB)\n"
            ],
            "text/html": [
              "<pre style=\"white-space:pre;overflow-x:auto;line-height:normal;font-family:Menlo,'DejaVu Sans Mono',consolas,'Courier New',monospace\"><span style=\"font-weight: bold\"> Trainable params: </span><span style=\"color: #00af00; text-decoration-color: #00af00\">23,302</span> (91.02 KB)\n",
              "</pre>\n"
            ]
          },
          "metadata": {}
        },
        {
          "output_type": "display_data",
          "data": {
            "text/plain": [
              "\u001b[1m Non-trainable params: \u001b[0m\u001b[38;5;34m0\u001b[0m (0.00 B)\n"
            ],
            "text/html": [
              "<pre style=\"white-space:pre;overflow-x:auto;line-height:normal;font-family:Menlo,'DejaVu Sans Mono',consolas,'Courier New',monospace\"><span style=\"font-weight: bold\"> Non-trainable params: </span><span style=\"color: #00af00; text-decoration-color: #00af00\">0</span> (0.00 B)\n",
              "</pre>\n"
            ]
          },
          "metadata": {}
        },
        {
          "output_type": "display_data",
          "data": {
            "text/plain": [
              "\u001b[1m Optimizer params: \u001b[0m\u001b[38;5;34m2\u001b[0m (12.00 B)\n"
            ],
            "text/html": [
              "<pre style=\"white-space:pre;overflow-x:auto;line-height:normal;font-family:Menlo,'DejaVu Sans Mono',consolas,'Courier New',monospace\"><span style=\"font-weight: bold\"> Optimizer params: </span><span style=\"color: #00af00; text-decoration-color: #00af00\">2</span> (12.00 B)\n",
              "</pre>\n"
            ]
          },
          "metadata": {}
        },
        {
          "output_type": "stream",
          "name": "stdout",
          "text": [
            "Model Input Shape: (None, 10, 65)\n",
            "Data Shape: (506, 10, 65)\n"
          ]
        },
        {
          "output_type": "stream",
          "name": "stderr",
          "text": [
            "/usr/local/lib/python3.11/dist-packages/keras/src/models/functional.py:237: UserWarning: The structure of `inputs` doesn't match the expected structure.\n",
            "Expected: input_layer_3\n",
            "Received: inputs=['Tensor(shape=(506, 10, 65))']\n",
            "  warnings.warn(msg)\n",
            "/usr/local/lib/python3.11/dist-packages/keras/src/models/functional.py:237: UserWarning: The structure of `inputs` doesn't match the expected structure.\n",
            "Expected: input_layer_3\n",
            "Received: inputs=['Tensor(shape=(50, 10, 65))']\n",
            "  warnings.warn(msg)\n"
          ]
        },
        {
          "output_type": "execute_result",
          "data": {
            "text/plain": [
              "                               Feature  SHAP Importance\n",
              "9                          pcm_zcr_sma         0.020453\n",
              "38  pcm_fftMag_spectralRollOff25.0_sma         0.006890\n",
              "6             audspec_lengthL1norm_sma         0.006720\n",
              "57                         mfcc_sma[7]         0.005979\n",
              "52                         mfcc_sma[2]         0.005628\n",
              "..                                 ...              ...\n",
              "29               audSpec_Rfilt_sma[19]         0.000031\n",
              "12                audSpec_Rfilt_sma[2]         0.000024\n",
              "15                audSpec_Rfilt_sma[5]         0.000020\n",
              "13                audSpec_Rfilt_sma[3]         0.000019\n",
              "11                audSpec_Rfilt_sma[1]         0.000012\n",
              "\n",
              "[65 rows x 2 columns]"
            ],
            "text/html": [
              "\n",
              "  <div id=\"df-4b2f18e0-23c5-455c-9959-82533bfc4681\" class=\"colab-df-container\">\n",
              "    <div>\n",
              "<style scoped>\n",
              "    .dataframe tbody tr th:only-of-type {\n",
              "        vertical-align: middle;\n",
              "    }\n",
              "\n",
              "    .dataframe tbody tr th {\n",
              "        vertical-align: top;\n",
              "    }\n",
              "\n",
              "    .dataframe thead th {\n",
              "        text-align: right;\n",
              "    }\n",
              "</style>\n",
              "<table border=\"1\" class=\"dataframe\">\n",
              "  <thead>\n",
              "    <tr style=\"text-align: right;\">\n",
              "      <th></th>\n",
              "      <th>Feature</th>\n",
              "      <th>SHAP Importance</th>\n",
              "    </tr>\n",
              "  </thead>\n",
              "  <tbody>\n",
              "    <tr>\n",
              "      <th>9</th>\n",
              "      <td>pcm_zcr_sma</td>\n",
              "      <td>0.020453</td>\n",
              "    </tr>\n",
              "    <tr>\n",
              "      <th>38</th>\n",
              "      <td>pcm_fftMag_spectralRollOff25.0_sma</td>\n",
              "      <td>0.006890</td>\n",
              "    </tr>\n",
              "    <tr>\n",
              "      <th>6</th>\n",
              "      <td>audspec_lengthL1norm_sma</td>\n",
              "      <td>0.006720</td>\n",
              "    </tr>\n",
              "    <tr>\n",
              "      <th>57</th>\n",
              "      <td>mfcc_sma[7]</td>\n",
              "      <td>0.005979</td>\n",
              "    </tr>\n",
              "    <tr>\n",
              "      <th>52</th>\n",
              "      <td>mfcc_sma[2]</td>\n",
              "      <td>0.005628</td>\n",
              "    </tr>\n",
              "    <tr>\n",
              "      <th>...</th>\n",
              "      <td>...</td>\n",
              "      <td>...</td>\n",
              "    </tr>\n",
              "    <tr>\n",
              "      <th>29</th>\n",
              "      <td>audSpec_Rfilt_sma[19]</td>\n",
              "      <td>0.000031</td>\n",
              "    </tr>\n",
              "    <tr>\n",
              "      <th>12</th>\n",
              "      <td>audSpec_Rfilt_sma[2]</td>\n",
              "      <td>0.000024</td>\n",
              "    </tr>\n",
              "    <tr>\n",
              "      <th>15</th>\n",
              "      <td>audSpec_Rfilt_sma[5]</td>\n",
              "      <td>0.000020</td>\n",
              "    </tr>\n",
              "    <tr>\n",
              "      <th>13</th>\n",
              "      <td>audSpec_Rfilt_sma[3]</td>\n",
              "      <td>0.000019</td>\n",
              "    </tr>\n",
              "    <tr>\n",
              "      <th>11</th>\n",
              "      <td>audSpec_Rfilt_sma[1]</td>\n",
              "      <td>0.000012</td>\n",
              "    </tr>\n",
              "  </tbody>\n",
              "</table>\n",
              "<p>65 rows × 2 columns</p>\n",
              "</div>\n",
              "    <div class=\"colab-df-buttons\">\n",
              "\n",
              "  <div class=\"colab-df-container\">\n",
              "    <button class=\"colab-df-convert\" onclick=\"convertToInteractive('df-4b2f18e0-23c5-455c-9959-82533bfc4681')\"\n",
              "            title=\"Convert this dataframe to an interactive table.\"\n",
              "            style=\"display:none;\">\n",
              "\n",
              "  <svg xmlns=\"http://www.w3.org/2000/svg\" height=\"24px\" viewBox=\"0 -960 960 960\">\n",
              "    <path d=\"M120-120v-720h720v720H120Zm60-500h600v-160H180v160Zm220 220h160v-160H400v160Zm0 220h160v-160H400v160ZM180-400h160v-160H180v160Zm440 0h160v-160H620v160ZM180-180h160v-160H180v160Zm440 0h160v-160H620v160Z\"/>\n",
              "  </svg>\n",
              "    </button>\n",
              "\n",
              "  <style>\n",
              "    .colab-df-container {\n",
              "      display:flex;\n",
              "      gap: 12px;\n",
              "    }\n",
              "\n",
              "    .colab-df-convert {\n",
              "      background-color: #E8F0FE;\n",
              "      border: none;\n",
              "      border-radius: 50%;\n",
              "      cursor: pointer;\n",
              "      display: none;\n",
              "      fill: #1967D2;\n",
              "      height: 32px;\n",
              "      padding: 0 0 0 0;\n",
              "      width: 32px;\n",
              "    }\n",
              "\n",
              "    .colab-df-convert:hover {\n",
              "      background-color: #E2EBFA;\n",
              "      box-shadow: 0px 1px 2px rgba(60, 64, 67, 0.3), 0px 1px 3px 1px rgba(60, 64, 67, 0.15);\n",
              "      fill: #174EA6;\n",
              "    }\n",
              "\n",
              "    .colab-df-buttons div {\n",
              "      margin-bottom: 4px;\n",
              "    }\n",
              "\n",
              "    [theme=dark] .colab-df-convert {\n",
              "      background-color: #3B4455;\n",
              "      fill: #D2E3FC;\n",
              "    }\n",
              "\n",
              "    [theme=dark] .colab-df-convert:hover {\n",
              "      background-color: #434B5C;\n",
              "      box-shadow: 0px 1px 3px 1px rgba(0, 0, 0, 0.15);\n",
              "      filter: drop-shadow(0px 1px 2px rgba(0, 0, 0, 0.3));\n",
              "      fill: #FFFFFF;\n",
              "    }\n",
              "  </style>\n",
              "\n",
              "    <script>\n",
              "      const buttonEl =\n",
              "        document.querySelector('#df-4b2f18e0-23c5-455c-9959-82533bfc4681 button.colab-df-convert');\n",
              "      buttonEl.style.display =\n",
              "        google.colab.kernel.accessAllowed ? 'block' : 'none';\n",
              "\n",
              "      async function convertToInteractive(key) {\n",
              "        const element = document.querySelector('#df-4b2f18e0-23c5-455c-9959-82533bfc4681');\n",
              "        const dataTable =\n",
              "          await google.colab.kernel.invokeFunction('convertToInteractive',\n",
              "                                                    [key], {});\n",
              "        if (!dataTable) return;\n",
              "\n",
              "        const docLinkHtml = 'Like what you see? Visit the ' +\n",
              "          '<a target=\"_blank\" href=https://colab.research.google.com/notebooks/data_table.ipynb>data table notebook</a>'\n",
              "          + ' to learn more about interactive tables.';\n",
              "        element.innerHTML = '';\n",
              "        dataTable['output_type'] = 'display_data';\n",
              "        await google.colab.output.renderOutput(dataTable, element);\n",
              "        const docLink = document.createElement('div');\n",
              "        docLink.innerHTML = docLinkHtml;\n",
              "        element.appendChild(docLink);\n",
              "      }\n",
              "    </script>\n",
              "  </div>\n",
              "\n",
              "\n",
              "<div id=\"df-8926f633-9838-4c46-8f45-eb7bdefe7f6e\">\n",
              "  <button class=\"colab-df-quickchart\" onclick=\"quickchart('df-8926f633-9838-4c46-8f45-eb7bdefe7f6e')\"\n",
              "            title=\"Suggest charts\"\n",
              "            style=\"display:none;\">\n",
              "\n",
              "<svg xmlns=\"http://www.w3.org/2000/svg\" height=\"24px\"viewBox=\"0 0 24 24\"\n",
              "     width=\"24px\">\n",
              "    <g>\n",
              "        <path d=\"M19 3H5c-1.1 0-2 .9-2 2v14c0 1.1.9 2 2 2h14c1.1 0 2-.9 2-2V5c0-1.1-.9-2-2-2zM9 17H7v-7h2v7zm4 0h-2V7h2v10zm4 0h-2v-4h2v4z\"/>\n",
              "    </g>\n",
              "</svg>\n",
              "  </button>\n",
              "\n",
              "<style>\n",
              "  .colab-df-quickchart {\n",
              "      --bg-color: #E8F0FE;\n",
              "      --fill-color: #1967D2;\n",
              "      --hover-bg-color: #E2EBFA;\n",
              "      --hover-fill-color: #174EA6;\n",
              "      --disabled-fill-color: #AAA;\n",
              "      --disabled-bg-color: #DDD;\n",
              "  }\n",
              "\n",
              "  [theme=dark] .colab-df-quickchart {\n",
              "      --bg-color: #3B4455;\n",
              "      --fill-color: #D2E3FC;\n",
              "      --hover-bg-color: #434B5C;\n",
              "      --hover-fill-color: #FFFFFF;\n",
              "      --disabled-bg-color: #3B4455;\n",
              "      --disabled-fill-color: #666;\n",
              "  }\n",
              "\n",
              "  .colab-df-quickchart {\n",
              "    background-color: var(--bg-color);\n",
              "    border: none;\n",
              "    border-radius: 50%;\n",
              "    cursor: pointer;\n",
              "    display: none;\n",
              "    fill: var(--fill-color);\n",
              "    height: 32px;\n",
              "    padding: 0;\n",
              "    width: 32px;\n",
              "  }\n",
              "\n",
              "  .colab-df-quickchart:hover {\n",
              "    background-color: var(--hover-bg-color);\n",
              "    box-shadow: 0 1px 2px rgba(60, 64, 67, 0.3), 0 1px 3px 1px rgba(60, 64, 67, 0.15);\n",
              "    fill: var(--button-hover-fill-color);\n",
              "  }\n",
              "\n",
              "  .colab-df-quickchart-complete:disabled,\n",
              "  .colab-df-quickchart-complete:disabled:hover {\n",
              "    background-color: var(--disabled-bg-color);\n",
              "    fill: var(--disabled-fill-color);\n",
              "    box-shadow: none;\n",
              "  }\n",
              "\n",
              "  .colab-df-spinner {\n",
              "    border: 2px solid var(--fill-color);\n",
              "    border-color: transparent;\n",
              "    border-bottom-color: var(--fill-color);\n",
              "    animation:\n",
              "      spin 1s steps(1) infinite;\n",
              "  }\n",
              "\n",
              "  @keyframes spin {\n",
              "    0% {\n",
              "      border-color: transparent;\n",
              "      border-bottom-color: var(--fill-color);\n",
              "      border-left-color: var(--fill-color);\n",
              "    }\n",
              "    20% {\n",
              "      border-color: transparent;\n",
              "      border-left-color: var(--fill-color);\n",
              "      border-top-color: var(--fill-color);\n",
              "    }\n",
              "    30% {\n",
              "      border-color: transparent;\n",
              "      border-left-color: var(--fill-color);\n",
              "      border-top-color: var(--fill-color);\n",
              "      border-right-color: var(--fill-color);\n",
              "    }\n",
              "    40% {\n",
              "      border-color: transparent;\n",
              "      border-right-color: var(--fill-color);\n",
              "      border-top-color: var(--fill-color);\n",
              "    }\n",
              "    60% {\n",
              "      border-color: transparent;\n",
              "      border-right-color: var(--fill-color);\n",
              "    }\n",
              "    80% {\n",
              "      border-color: transparent;\n",
              "      border-right-color: var(--fill-color);\n",
              "      border-bottom-color: var(--fill-color);\n",
              "    }\n",
              "    90% {\n",
              "      border-color: transparent;\n",
              "      border-bottom-color: var(--fill-color);\n",
              "    }\n",
              "  }\n",
              "</style>\n",
              "\n",
              "  <script>\n",
              "    async function quickchart(key) {\n",
              "      const quickchartButtonEl =\n",
              "        document.querySelector('#' + key + ' button');\n",
              "      quickchartButtonEl.disabled = true;  // To prevent multiple clicks.\n",
              "      quickchartButtonEl.classList.add('colab-df-spinner');\n",
              "      try {\n",
              "        const charts = await google.colab.kernel.invokeFunction(\n",
              "            'suggestCharts', [key], {});\n",
              "      } catch (error) {\n",
              "        console.error('Error during call to suggestCharts:', error);\n",
              "      }\n",
              "      quickchartButtonEl.classList.remove('colab-df-spinner');\n",
              "      quickchartButtonEl.classList.add('colab-df-quickchart-complete');\n",
              "    }\n",
              "    (() => {\n",
              "      let quickchartButtonEl =\n",
              "        document.querySelector('#df-8926f633-9838-4c46-8f45-eb7bdefe7f6e button');\n",
              "      quickchartButtonEl.style.display =\n",
              "        google.colab.kernel.accessAllowed ? 'block' : 'none';\n",
              "    })();\n",
              "  </script>\n",
              "</div>\n",
              "\n",
              "    </div>\n",
              "  </div>\n"
            ],
            "application/vnd.google.colaboratory.intrinsic+json": {
              "type": "dataframe",
              "summary": "{\n  \"name\": \"evaluate_model_(parkinson_path, healthy_path, model_path, n=10, scaler_path=None, scale_option=None, save=True)\",\n  \"rows\": 65,\n  \"fields\": [\n    {\n      \"column\": \"Feature\",\n      \"properties\": {\n        \"dtype\": \"string\",\n        \"num_unique_values\": 65,\n        \"samples\": [\n          \"audSpec_Rfilt_sma[14]\",\n          \"audSpec_Rfilt_sma[19]\",\n          \"pcm_zcr_sma\"\n        ],\n        \"semantic_type\": \"\",\n        \"description\": \"\"\n      }\n    },\n    {\n      \"column\": \"SHAP Importance\",\n      \"properties\": {\n        \"dtype\": \"number\",\n        \"std\": 0.002934198759095092,\n        \"min\": 1.1864300757811603e-05,\n        \"max\": 0.02045323291001782,\n        \"num_unique_values\": 65,\n        \"samples\": [\n          6.640270312125675e-05,\n          3.1221099472153216e-05,\n          0.02045323291001782\n        ],\n        \"semantic_type\": \"\",\n        \"description\": \"\"\n      }\n    }\n  ]\n}"
            }
          },
          "metadata": {},
          "execution_count": 11
        }
      ]
    }
  ],
  "metadata": {
    "colab": {
      "collapsed_sections": [
        "RV6IKFo6hNji",
        "Yoekf9XHhl_s"
      ],
      "provenance": []
    },
    "kernelspec": {
      "display_name": "Python 3",
      "name": "python3"
    },
    "language_info": {
      "name": "python"
    }
  },
  "nbformat": 4,
  "nbformat_minor": 0
}