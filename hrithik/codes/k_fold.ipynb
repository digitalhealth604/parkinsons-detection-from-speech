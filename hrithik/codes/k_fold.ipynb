{
 "cells": [
  {
   "cell_type": "markdown",
   "id": "4f65bce7",
   "metadata": {},
   "source": [
    "# **Installation**"
   ]
  },
  {
   "cell_type": "code",
   "execution_count": 1,
   "id": "ed2e359b",
   "metadata": {},
   "outputs": [],
   "source": [
    "import resampy"
   ]
  },
  {
   "cell_type": "code",
   "execution_count": 2,
   "id": "efe35795",
   "metadata": {},
   "outputs": [
    {
     "name": "stdout",
     "output_type": "stream",
     "text": [
      "Requirement already satisfied: audb in c:\\users\\hp\\appdata\\local\\programs\\python\\python38\\lib\\site-packages (1.7.4)\n",
      "Requirement already satisfied: audbackend>=2.0.0 in c:\\users\\hp\\appdata\\local\\programs\\python\\python38\\lib\\site-packages (from audbackend[artifactory]>=2.0.0->audb) (2.0.1)\n",
      "Requirement already satisfied: audeer>=2.0.0 in c:\\users\\hp\\appdata\\local\\programs\\python\\python38\\lib\\site-packages (from audb) (2.2.0)\n",
      "Requirement already satisfied: audformat>=1.1.1 in c:\\users\\hp\\appdata\\local\\programs\\python\\python38\\lib\\site-packages (from audb) (1.1.4)\n",
      "Requirement already satisfied: audiofile>=1.0.0 in c:\\users\\hp\\appdata\\local\\programs\\python\\python38\\lib\\site-packages (from audb) (1.5.0)\n",
      "Requirement already satisfied: audobject>=0.5.0 in c:\\users\\hp\\appdata\\local\\programs\\python\\python38\\lib\\site-packages (from audb) (0.7.11)\n",
      "Requirement already satisfied: audresample>=0.1.6 in c:\\users\\hp\\appdata\\local\\programs\\python\\python38\\lib\\site-packages (from audb) (1.3.3)\n",
      "Requirement already satisfied: filelock in c:\\users\\hp\\appdata\\local\\programs\\python\\python38\\lib\\site-packages (from audb) (3.16.1)\n",
      "Requirement already satisfied: oyaml in c:\\users\\hp\\appdata\\local\\programs\\python\\python38\\lib\\site-packages (from audb) (1.0)\n",
      "Requirement already satisfied: pandas>=2.0.1 in c:\\users\\hp\\appdata\\local\\programs\\python\\python38\\lib\\site-packages (from audb) (2.0.3)\n",
      "Requirement already satisfied: pyarrow in c:\\users\\hp\\appdata\\local\\programs\\python\\python38\\lib\\site-packages (from audb) (17.0.0)\n",
      "Requirement already satisfied: pywin32 in c:\\users\\hp\\appdata\\local\\programs\\python\\python38\\lib\\site-packages (from audbackend>=2.0.0->audbackend[artifactory]>=2.0.0->audb) (308)\n",
      "Requirement already satisfied: dohq-artifactory>=0.10.0 in c:\\users\\hp\\appdata\\local\\programs\\python\\python38\\lib\\site-packages (from audbackend[artifactory]>=2.0.0->audb) (1.0.0)\n",
      "Requirement already satisfied: tqdm in c:\\users\\hp\\appdata\\local\\programs\\python\\python38\\lib\\site-packages (from audeer>=2.0.0->audb) (4.67.1)\n",
      "Requirement already satisfied: iso-639 in c:\\users\\hp\\appdata\\local\\programs\\python\\python38\\lib\\site-packages (from audformat>=1.1.1->audb) (0.4.5)\n",
      "Requirement already satisfied: iso3166 in c:\\users\\hp\\appdata\\local\\programs\\python\\python38\\lib\\site-packages (from audformat>=1.1.1->audb) (2.1.1)\n",
      "Requirement already satisfied: pyyaml>=5.4.1 in c:\\users\\hp\\appdata\\local\\programs\\python\\python38\\lib\\site-packages (from audformat>=1.1.1->audb) (6.0.2)\n",
      "Requirement already satisfied: audmath>=1.3.0 in c:\\users\\hp\\appdata\\local\\programs\\python\\python38\\lib\\site-packages (from audiofile>=1.0.0->audb) (1.4.1)\n",
      "Requirement already satisfied: numpy in c:\\users\\hp\\appdata\\local\\programs\\python\\python38\\lib\\site-packages (from audiofile>=1.0.0->audb) (1.24.4)\n",
      "Requirement already satisfied: soundfile>=0.12.1 in c:\\users\\hp\\appdata\\local\\programs\\python\\python38\\lib\\site-packages (from audiofile>=1.0.0->audb) (0.13.1)\n",
      "Requirement already satisfied: importlib-metadata>=4.8.0 in c:\\users\\hp\\appdata\\local\\programs\\python\\python38\\lib\\site-packages (from audobject>=0.5.0->audb) (8.5.0)\n",
      "Requirement already satisfied: packaging in c:\\users\\hp\\appdata\\local\\programs\\python\\python38\\lib\\site-packages (from audobject>=0.5.0->audb) (24.2)\n",
      "Requirement already satisfied: python-dateutil>=2.8.2 in c:\\users\\hp\\appdata\\local\\programs\\python\\python38\\lib\\site-packages (from pandas>=2.0.1->audb) (2.9.0.post0)\n",
      "Requirement already satisfied: pytz>=2020.1 in c:\\users\\hp\\appdata\\local\\programs\\python\\python38\\lib\\site-packages (from pandas>=2.0.1->audb) (2025.1)\n",
      "Requirement already satisfied: tzdata>=2022.1 in c:\\users\\hp\\appdata\\local\\programs\\python\\python38\\lib\\site-packages (from pandas>=2.0.1->audb) (2025.1)\n",
      "Requirement already satisfied: requests>=2.30.0 in c:\\users\\hp\\appdata\\local\\programs\\python\\python38\\lib\\site-packages (from dohq-artifactory>=0.10.0->audbackend[artifactory]>=2.0.0->audb) (2.32.3)\n",
      "Requirement already satisfied: PyJWT~=2.0 in c:\\users\\hp\\appdata\\local\\programs\\python\\python38\\lib\\site-packages (from dohq-artifactory>=0.10.0->audbackend[artifactory]>=2.0.0->audb) (2.9.0)\n",
      "Requirement already satisfied: zipp>=3.20 in c:\\users\\hp\\appdata\\local\\programs\\python\\python38\\lib\\site-packages (from importlib-metadata>=4.8.0->audobject>=0.5.0->audb) (3.20.2)\n",
      "Requirement already satisfied: six>=1.5 in c:\\users\\hp\\appdata\\local\\programs\\python\\python38\\lib\\site-packages (from python-dateutil>=2.8.2->pandas>=2.0.1->audb) (1.17.0)\n",
      "Requirement already satisfied: cffi>=1.0 in c:\\users\\hp\\appdata\\local\\programs\\python\\python38\\lib\\site-packages (from soundfile>=0.12.1->audiofile>=1.0.0->audb) (1.17.1)\n",
      "Requirement already satisfied: colorama in c:\\users\\hp\\appdata\\local\\programs\\python\\python38\\lib\\site-packages (from tqdm->audeer>=2.0.0->audb) (0.4.6)\n",
      "Requirement already satisfied: pycparser in c:\\users\\hp\\appdata\\local\\programs\\python\\python38\\lib\\site-packages (from cffi>=1.0->soundfile>=0.12.1->audiofile>=1.0.0->audb) (2.22)\n",
      "Requirement already satisfied: charset-normalizer<4,>=2 in c:\\users\\hp\\appdata\\local\\programs\\python\\python38\\lib\\site-packages (from requests>=2.30.0->dohq-artifactory>=0.10.0->audbackend[artifactory]>=2.0.0->audb) (3.4.1)\n",
      "Requirement already satisfied: idna<4,>=2.5 in c:\\users\\hp\\appdata\\local\\programs\\python\\python38\\lib\\site-packages (from requests>=2.30.0->dohq-artifactory>=0.10.0->audbackend[artifactory]>=2.0.0->audb) (3.10)\n",
      "Requirement already satisfied: urllib3<3,>=1.21.1 in c:\\users\\hp\\appdata\\local\\programs\\python\\python38\\lib\\site-packages (from requests>=2.30.0->dohq-artifactory>=0.10.0->audbackend[artifactory]>=2.0.0->audb) (2.2.3)\n",
      "Requirement already satisfied: certifi>=2017.4.17 in c:\\users\\hp\\appdata\\local\\programs\\python\\python38\\lib\\site-packages (from requests>=2.30.0->dohq-artifactory>=0.10.0->audbackend[artifactory]>=2.0.0->audb) (2024.12.14)\n"
     ]
    },
    {
     "name": "stderr",
     "output_type": "stream",
     "text": [
      "\n",
      "[notice] A new release of pip is available: 25.0 -> 25.0.1\n",
      "[notice] To update, run: python.exe -m pip install --upgrade pip\n"
     ]
    }
   ],
   "source": [
    "!pip install audb"
   ]
  },
  {
   "cell_type": "code",
   "execution_count": 3,
   "id": "e6fb11e5",
   "metadata": {},
   "outputs": [
    {
     "name": "stdout",
     "output_type": "stream",
     "text": [
      "Requirement already satisfied: shap in c:\\users\\hp\\appdata\\local\\programs\\python\\python38\\lib\\site-packages (0.44.1)\n",
      "Requirement already satisfied: numpy in c:\\users\\hp\\appdata\\local\\programs\\python\\python38\\lib\\site-packages (from shap) (1.24.4)\n",
      "Requirement already satisfied: scipy in c:\\users\\hp\\appdata\\local\\programs\\python\\python38\\lib\\site-packages (from shap) (1.10.1)\n",
      "Requirement already satisfied: scikit-learn in c:\\users\\hp\\appdata\\local\\programs\\python\\python38\\lib\\site-packages (from shap) (1.3.2)\n",
      "Requirement already satisfied: pandas in c:\\users\\hp\\appdata\\local\\programs\\python\\python38\\lib\\site-packages (from shap) (2.0.3)\n",
      "Requirement already satisfied: tqdm>=4.27.0 in c:\\users\\hp\\appdata\\local\\programs\\python\\python38\\lib\\site-packages (from shap) (4.67.1)\n",
      "Requirement already satisfied: packaging>20.9 in c:\\users\\hp\\appdata\\local\\programs\\python\\python38\\lib\\site-packages (from shap) (24.2)\n",
      "Requirement already satisfied: slicer==0.0.7 in c:\\users\\hp\\appdata\\local\\programs\\python\\python38\\lib\\site-packages (from shap) (0.0.7)\n",
      "Requirement already satisfied: numba in c:\\users\\hp\\appdata\\local\\programs\\python\\python38\\lib\\site-packages (from shap) (0.58.1)\n",
      "Requirement already satisfied: cloudpickle in c:\\users\\hp\\appdata\\local\\programs\\python\\python38\\lib\\site-packages (from shap) (3.1.1)\n",
      "Requirement already satisfied: colorama in c:\\users\\hp\\appdata\\local\\programs\\python\\python38\\lib\\site-packages (from tqdm>=4.27.0->shap) (0.4.6)\n",
      "Requirement already satisfied: llvmlite<0.42,>=0.41.0dev0 in c:\\users\\hp\\appdata\\local\\programs\\python\\python38\\lib\\site-packages (from numba->shap) (0.41.1)\n",
      "Requirement already satisfied: importlib-metadata in c:\\users\\hp\\appdata\\local\\programs\\python\\python38\\lib\\site-packages (from numba->shap) (8.5.0)\n",
      "Requirement already satisfied: python-dateutil>=2.8.2 in c:\\users\\hp\\appdata\\local\\programs\\python\\python38\\lib\\site-packages (from pandas->shap) (2.9.0.post0)\n",
      "Requirement already satisfied: pytz>=2020.1 in c:\\users\\hp\\appdata\\local\\programs\\python\\python38\\lib\\site-packages (from pandas->shap) (2025.1)\n",
      "Requirement already satisfied: tzdata>=2022.1 in c:\\users\\hp\\appdata\\local\\programs\\python\\python38\\lib\\site-packages (from pandas->shap) (2025.1)\n",
      "Requirement already satisfied: joblib>=1.1.1 in c:\\users\\hp\\appdata\\local\\programs\\python\\python38\\lib\\site-packages (from scikit-learn->shap) (1.4.2)\n",
      "Requirement already satisfied: threadpoolctl>=2.0.0 in c:\\users\\hp\\appdata\\local\\programs\\python\\python38\\lib\\site-packages (from scikit-learn->shap) (3.5.0)\n",
      "Requirement already satisfied: six>=1.5 in c:\\users\\hp\\appdata\\local\\programs\\python\\python38\\lib\\site-packages (from python-dateutil>=2.8.2->pandas->shap) (1.17.0)\n",
      "Requirement already satisfied: zipp>=3.20 in c:\\users\\hp\\appdata\\local\\programs\\python\\python38\\lib\\site-packages (from importlib-metadata->numba->shap) (3.20.2)\n"
     ]
    },
    {
     "name": "stderr",
     "output_type": "stream",
     "text": [
      "\n",
      "[notice] A new release of pip is available: 25.0 -> 25.0.1\n",
      "[notice] To update, run: python.exe -m pip install --upgrade pip\n"
     ]
    }
   ],
   "source": [
    "!pip install shap"
   ]
  },
  {
   "cell_type": "code",
   "execution_count": 4,
   "id": "3944284b",
   "metadata": {},
   "outputs": [
    {
     "name": "stdout",
     "output_type": "stream",
     "text": [
      "Requirement already satisfied: opensmile in c:\\users\\hp\\appdata\\local\\programs\\python\\python38\\lib\\site-packages (2.5.0)\n",
      "Requirement already satisfied: audobject>=0.6.1 in c:\\users\\hp\\appdata\\local\\programs\\python\\python38\\lib\\site-packages (from opensmile) (0.7.11)\n",
      "Requirement already satisfied: audinterface>=0.7.0 in c:\\users\\hp\\appdata\\local\\programs\\python\\python38\\lib\\site-packages (from opensmile) (1.2.1)\n",
      "Requirement already satisfied: audeer>=1.18.0 in c:\\users\\hp\\appdata\\local\\programs\\python\\python38\\lib\\site-packages (from audinterface>=0.7.0->opensmile) (2.2.0)\n",
      "Requirement already satisfied: audformat<2.0.0,>=1.0.1 in c:\\users\\hp\\appdata\\local\\programs\\python\\python38\\lib\\site-packages (from audinterface>=0.7.0->opensmile) (1.1.4)\n",
      "Requirement already satisfied: audiofile>=1.3.0 in c:\\users\\hp\\appdata\\local\\programs\\python\\python38\\lib\\site-packages (from audinterface>=0.7.0->opensmile) (1.5.0)\n",
      "Requirement already satisfied: audmath>=1.3.0 in c:\\users\\hp\\appdata\\local\\programs\\python\\python38\\lib\\site-packages (from audinterface>=0.7.0->opensmile) (1.4.1)\n",
      "Requirement already satisfied: audresample<2.0.0,>=1.1.0 in c:\\users\\hp\\appdata\\local\\programs\\python\\python38\\lib\\site-packages (from audinterface>=0.7.0->opensmile) (1.3.3)\n",
      "Requirement already satisfied: importlib-metadata>=4.8.0 in c:\\users\\hp\\appdata\\local\\programs\\python\\python38\\lib\\site-packages (from audobject>=0.6.1->opensmile) (8.5.0)\n",
      "Requirement already satisfied: oyaml in c:\\users\\hp\\appdata\\local\\programs\\python\\python38\\lib\\site-packages (from audobject>=0.6.1->opensmile) (1.0)\n",
      "Requirement already satisfied: packaging in c:\\users\\hp\\appdata\\local\\programs\\python\\python38\\lib\\site-packages (from audobject>=0.6.1->opensmile) (24.2)\n",
      "Requirement already satisfied: tqdm in c:\\users\\hp\\appdata\\local\\programs\\python\\python38\\lib\\site-packages (from audeer>=1.18.0->audinterface>=0.7.0->opensmile) (4.67.1)\n",
      "Requirement already satisfied: iso-639 in c:\\users\\hp\\appdata\\local\\programs\\python\\python38\\lib\\site-packages (from audformat<2.0.0,>=1.0.1->audinterface>=0.7.0->opensmile) (0.4.5)\n",
      "Requirement already satisfied: iso3166 in c:\\users\\hp\\appdata\\local\\programs\\python\\python38\\lib\\site-packages (from audformat<2.0.0,>=1.0.1->audinterface>=0.7.0->opensmile) (2.1.1)\n",
      "Requirement already satisfied: pyyaml>=5.4.1 in c:\\users\\hp\\appdata\\local\\programs\\python\\python38\\lib\\site-packages (from audformat<2.0.0,>=1.0.1->audinterface>=0.7.0->opensmile) (6.0.2)\n",
      "Requirement already satisfied: pandas>=1.4.1 in c:\\users\\hp\\appdata\\local\\programs\\python\\python38\\lib\\site-packages (from audformat<2.0.0,>=1.0.1->audinterface>=0.7.0->opensmile) (2.0.3)\n",
      "Requirement already satisfied: numpy in c:\\users\\hp\\appdata\\local\\programs\\python\\python38\\lib\\site-packages (from audiofile>=1.3.0->audinterface>=0.7.0->opensmile) (1.24.4)\n",
      "Requirement already satisfied: soundfile>=0.12.1 in c:\\users\\hp\\appdata\\local\\programs\\python\\python38\\lib\\site-packages (from audiofile>=1.3.0->audinterface>=0.7.0->opensmile) (0.13.1)\n",
      "Requirement already satisfied: zipp>=3.20 in c:\\users\\hp\\appdata\\local\\programs\\python\\python38\\lib\\site-packages (from importlib-metadata>=4.8.0->audobject>=0.6.1->opensmile) (3.20.2)\n",
      "Requirement already satisfied: python-dateutil>=2.8.2 in c:\\users\\hp\\appdata\\local\\programs\\python\\python38\\lib\\site-packages (from pandas>=1.4.1->audformat<2.0.0,>=1.0.1->audinterface>=0.7.0->opensmile) (2.9.0.post0)\n",
      "Requirement already satisfied: pytz>=2020.1 in c:\\users\\hp\\appdata\\local\\programs\\python\\python38\\lib\\site-packages (from pandas>=1.4.1->audformat<2.0.0,>=1.0.1->audinterface>=0.7.0->opensmile) (2025.1)\n",
      "Requirement already satisfied: tzdata>=2022.1 in c:\\users\\hp\\appdata\\local\\programs\\python\\python38\\lib\\site-packages (from pandas>=1.4.1->audformat<2.0.0,>=1.0.1->audinterface>=0.7.0->opensmile) (2025.1)\n",
      "Requirement already satisfied: cffi>=1.0 in c:\\users\\hp\\appdata\\local\\programs\\python\\python38\\lib\\site-packages (from soundfile>=0.12.1->audiofile>=1.3.0->audinterface>=0.7.0->opensmile) (1.17.1)\n",
      "Requirement already satisfied: colorama in c:\\users\\hp\\appdata\\local\\programs\\python\\python38\\lib\\site-packages (from tqdm->audeer>=1.18.0->audinterface>=0.7.0->opensmile) (0.4.6)\n",
      "Requirement already satisfied: pycparser in c:\\users\\hp\\appdata\\local\\programs\\python\\python38\\lib\\site-packages (from cffi>=1.0->soundfile>=0.12.1->audiofile>=1.3.0->audinterface>=0.7.0->opensmile) (2.22)\n",
      "Requirement already satisfied: six>=1.5 in c:\\users\\hp\\appdata\\local\\programs\\python\\python38\\lib\\site-packages (from python-dateutil>=2.8.2->pandas>=1.4.1->audformat<2.0.0,>=1.0.1->audinterface>=0.7.0->opensmile) (1.17.0)\n"
     ]
    },
    {
     "name": "stderr",
     "output_type": "stream",
     "text": [
      "\n",
      "[notice] A new release of pip is available: 25.0 -> 25.0.1\n",
      "[notice] To update, run: python.exe -m pip install --upgrade pip\n"
     ]
    }
   ],
   "source": [
    "!pip install opensmile"
   ]
  },
  {
   "cell_type": "code",
   "execution_count": 5,
   "id": "d9ed5604",
   "metadata": {},
   "outputs": [
    {
     "name": "stdout",
     "output_type": "stream",
     "text": [
      "Requirement already satisfied: xgboost in c:\\users\\hp\\appdata\\local\\programs\\python\\python38\\lib\\site-packages (2.1.4)\n",
      "Requirement already satisfied: numpy in c:\\users\\hp\\appdata\\local\\programs\\python\\python38\\lib\\site-packages (from xgboost) (1.24.4)\n",
      "Requirement already satisfied: scipy in c:\\users\\hp\\appdata\\local\\programs\\python\\python38\\lib\\site-packages (from xgboost) (1.10.1)\n"
     ]
    },
    {
     "name": "stderr",
     "output_type": "stream",
     "text": [
      "\n",
      "[notice] A new release of pip is available: 25.0 -> 25.0.1\n",
      "[notice] To update, run: python.exe -m pip install --upgrade pip\n"
     ]
    }
   ],
   "source": [
    "!pip install xgboost"
   ]
  },
  {
   "cell_type": "code",
   "execution_count": 6,
   "id": "abfb8be6",
   "metadata": {},
   "outputs": [],
   "source": [
    "import os\n",
    "import time\n",
    "import numpy as np\n",
    "import pandas as pd\n",
    "import seaborn as sns\n",
    "import audb\n",
    "import audiofile\n",
    "from xgboost import XGBClassifier\n",
    "import opensmile\n",
    "from sklearn.utils import shuffle\n",
    "import random\n",
    "from sklearn.model_selection import train_test_split, KFold, StratifiedKFold\n",
    "from sklearn.preprocessing import StandardScaler, MinMaxScaler\n",
    "from sklearn.svm import SVC\n",
    "from sklearn.linear_model import LogisticRegression\n",
    "from sklearn.ensemble import RandomForestClassifier\n",
    "from sklearn.metrics import roc_auc_score, roc_curve, auc, confusion_matrix, log_loss, f1_score, accuracy_score, precision_score, recall_score\n",
    "import matplotlib.pyplot as plt\n",
    "%matplotlib inline\n"
   ]
  },
  {
   "cell_type": "markdown",
   "id": "ae9f2373",
   "metadata": {},
   "source": [
    "# Code"
   ]
  },
  {
   "cell_type": "code",
   "execution_count": 7,
   "id": "893f042d",
   "metadata": {},
   "outputs": [],
   "source": [
    "smile = opensmile.Smile(\n",
    "    feature_set=opensmile.FeatureSet.ComParE_2016,\n",
    "    feature_level=opensmile.FeatureLevel.Functionals,\n",
    ")"
   ]
  },
  {
   "cell_type": "code",
   "execution_count": 8,
   "id": "60d3692e",
   "metadata": {},
   "outputs": [],
   "source": [
    "def load_data_from_folds(directory):\n",
    "    data = {\"HS\": [], \"PD\": []}\n",
    "    \n",
    "    # Load each fold\n",
    "    for fold in range(1, 11):\n",
    "        fold_path = os.path.join(directory, f\"fold{fold}\")\n",
    "        hs_folder = os.path.join(fold_path, \"HS\")\n",
    "        pd_folder = os.path.join(fold_path, \"PD\")\n",
    "\n",
    "        hs_files = [os.path.join(hs_folder, f) for f in os.listdir(hs_folder) if f.endswith(\".wav\")]\n",
    "        pd_files = [os.path.join(pd_folder, f) for f in os.listdir(pd_folder) if f.endswith(\".wav\")]\n",
    "\n",
    "        data[\"HS\"].append(hs_files)\n",
    "        data[\"PD\"].append(pd_files)\n",
    "    \n",
    "    return data"
   ]
  },
  {
   "cell_type": "code",
   "execution_count": null,
   "id": "7d3628e0",
   "metadata": {},
   "outputs": [],
   "source": [
    "# #Test\n",
    "# directory = r'C:\\Users\\Hp\\Desktop\\Lecture Files\\DH604\\Publication\\datasets'\n",
    "# data_ = load_data_from_folds(directory)"
   ]
  },
  {
   "cell_type": "code",
   "execution_count": null,
   "id": "10b76213",
   "metadata": {},
   "outputs": [
    {
     "data": {
      "text/plain": [
       "['C:\\\\Users\\\\Hp\\\\Desktop\\\\Lecture Files\\\\DH604\\\\Publication\\\\datasets\\\\fold2\\\\HS\\\\B1AGNIGNEE54F230320171018.wav',\n",
       " 'C:\\\\Users\\\\Hp\\\\Desktop\\\\Lecture Files\\\\DH604\\\\Publication\\\\datasets\\\\fold2\\\\HS\\\\B1APGANRET55F170320171104.wav',\n",
       " 'C:\\\\Users\\\\Hp\\\\Desktop\\\\Lecture Files\\\\DH604\\\\Publication\\\\datasets\\\\fold2\\\\HS\\\\B2AGNIGNEE54F230320171019.wav',\n",
       " 'C:\\\\Users\\\\Hp\\\\Desktop\\\\Lecture Files\\\\DH604\\\\Publication\\\\datasets\\\\fold2\\\\HS\\\\B2APGANRET55F170320171105.wav']"
      ]
     },
     "execution_count": 27,
     "metadata": {},
     "output_type": "execute_result"
    }
   ],
   "source": [
    "# data_['HS'][1]"
   ]
  },
  {
   "cell_type": "code",
   "execution_count": null,
   "id": "b9d9b60f",
   "metadata": {},
   "outputs": [
    {
     "data": {
      "text/plain": [
       "['C:\\\\Users\\\\Hp\\\\Desktop\\\\Lecture Files\\\\DH604\\\\Publication\\\\datasets\\\\fold6\\\\PD\\\\B1MBAUROIN45M100220171003.wav',\n",
       " 'C:\\\\Users\\\\Hp\\\\Desktop\\\\Lecture Files\\\\DH604\\\\Publication\\\\datasets\\\\fold6\\\\PD\\\\B1MCIICLHL46M240120171825.wav',\n",
       " 'C:\\\\Users\\\\Hp\\\\Desktop\\\\Lecture Files\\\\DH604\\\\Publication\\\\datasets\\\\fold6\\\\PD\\\\B2MBAUROIN45M100220171006.wav',\n",
       " 'C:\\\\Users\\\\Hp\\\\Desktop\\\\Lecture Files\\\\DH604\\\\Publication\\\\datasets\\\\fold6\\\\PD\\\\B2MCIICLHL46M240120171827.wav']"
      ]
     },
     "execution_count": 28,
     "metadata": {},
     "output_type": "execute_result"
    }
   ],
   "source": [
    "# data_['PD'][5]"
   ]
  },
  {
   "cell_type": "code",
   "execution_count": 9,
   "id": "4f3de94c",
   "metadata": {},
   "outputs": [],
   "source": [
    "def process_audio_files(files, label, duration=10):\n",
    "    results = []\n",
    "    for file_path in files:\n",
    "        if file_path.endswith(\".wav\"):\n",
    "            try:\n",
    "                signal, sampling_rate = audiofile.read(\n",
    "                    file_path,\n",
    "                    duration=duration,\n",
    "                    always_2d=True\n",
    "                )\n",
    "                # print(sampling_rate)\n",
    "                features = smile.process_signal(signal, sampling_rate)\n",
    "                features.insert(0, 'file_name', file_path)\n",
    "                features['Y'] = label\n",
    "                results.append(features)\n",
    "            except Exception as e:\n",
    "                print(f\"Error processing {file_path}: {e}\")\n",
    "    \n",
    "    df_results = pd.concat(results, ignore_index=True)\n",
    "    # print(f\"Done processing {len(results)} files.\")\n",
    "    return df_results\n"
   ]
  },
  {
   "cell_type": "code",
   "execution_count": 5,
   "id": "bde6633f",
   "metadata": {},
   "outputs": [],
   "source": [
    "# def process_audio_files(files, label, duration=3, target_sr=16000):\n",
    "#     results = []\n",
    "#     for file_path in files:\n",
    "#         if file_path.endswith(\".wav\"):\n",
    "#             try:\n",
    "#                 signal, sampling_rate = audiofile.read(\n",
    "#                     file_path,\n",
    "#                     duration=duration,\n",
    "#                     always_2d=True\n",
    "#                 )\n",
    "                \n",
    "#                 if sampling_rate != target_sr:\n",
    "#                     signal = resampy.resample(signal[:, 0], sampling_rate, target_sr)\n",
    "#                     signal = signal.reshape(-1, 1)  \n",
    "#                     sampling_rate = target_sr\n",
    "\n",
    "#                 print(f\"{file_path} -> Resampled to {sampling_rate} Hz\")\n",
    "\n",
    "#                 features = smile.process_signal(signal, sampling_rate)\n",
    "#                 features.insert(0, 'file_name', file_path)\n",
    "#                 features['Y'] = label\n",
    "#                 results.append(features)\n",
    "\n",
    "#             except Exception as e:\n",
    "#                 print(f\"Error processing {file_path}: {e}\")\n",
    "\n",
    "#     df_results = pd.concat(results, ignore_index=True)\n",
    "#     return df_results"
   ]
  },
  {
   "cell_type": "code",
   "execution_count": 10,
   "id": "ae90236f",
   "metadata": {},
   "outputs": [],
   "source": [
    "def drop_na(X, y):\n",
    "    valid_indices = X.dropna(axis=0).index\n",
    "    X = X.loc[valid_indices]\n",
    "    y = y.loc[valid_indices]\n",
    "    return X, y"
   ]
  },
  {
   "cell_type": "code",
   "execution_count": 11,
   "id": "9ca66a20",
   "metadata": {},
   "outputs": [],
   "source": [
    "def get_train_test_data(fold_number, data):\n",
    "    test_hs = data[\"HS\"][fold_number-1]\n",
    "    test_pd = data[\"PD\"][fold_number-1]\n",
    "\n",
    "    # Combine the remaining folds for training\n",
    "    train_hs = [item for i, item in enumerate(data[\"HS\"]) if i != fold_number-1]\n",
    "    train_pd = [item for i, item in enumerate(data[\"PD\"]) if i != fold_number-1]\n",
    "\n",
    "    # Flatten lists for training\n",
    "    train_hs = [item for sublist in train_hs for item in sublist]\n",
    "    train_pd = [item for sublist in train_pd for item in sublist]\n",
    "\n",
    "    # Process the files\n",
    "    X_train_hs = process_audio_files(train_hs, label=0)\n",
    "    X_train_pd = process_audio_files(train_pd, label=1)\n",
    "    \n",
    "    X_test_hs = process_audio_files(test_hs, label=0)\n",
    "    X_test_pd = process_audio_files(test_pd, label=1)\n",
    "\n",
    "    # Combine HS and PD for train and test\n",
    "    X_train = pd.concat([X_train_hs, X_train_pd], ignore_index=True)\n",
    "    X_test = pd.concat([X_test_hs, X_test_pd], ignore_index=True)\n",
    "\n",
    "    y_train = X_train[\"Y\"]\n",
    "    X_train.drop(columns=[\"Y\",'file_name'], inplace=True)\n",
    "\n",
    "    y_test = X_test[\"Y\"]\n",
    "    X_test.drop(columns=[\"Y\",'file_name'], inplace=True)\n",
    "\n",
    "    # Shuffle the train and test sets\n",
    "    X_train, y_train = shuffle(X_train, y_train, random_state=42)\n",
    "    X_test, y_test = shuffle(X_test, y_test, random_state=42)\n",
    "\n",
    "    # Drop NA\n",
    "    X_train, y_train = drop_na(X_train, y_train)\n",
    "    X_test, y_test = drop_na(X_test, y_test)\n",
    "\n",
    "    # Scaling the data\n",
    "    scaler = StandardScaler()\n",
    "    X_train = pd.DataFrame(scaler.fit_transform(X_train), columns=X_train.columns, index=X_train.index)\n",
    "    X_test = pd.DataFrame(scaler.transform(X_test), columns=X_test.columns, index=X_test.index)\n",
    "\n",
    "    return X_train, y_train, X_test, y_test\n"
   ]
  },
  {
   "cell_type": "code",
   "execution_count": null,
   "id": "d49da3f8",
   "metadata": {},
   "outputs": [],
   "source": [
    "# X_train, y_train, X_test, y_test = get_train_test_data(1, data_)"
   ]
  },
  {
   "cell_type": "code",
   "execution_count": null,
   "id": "30af7214",
   "metadata": {},
   "outputs": [
    {
     "name": "stdout",
     "output_type": "stream",
     "text": [
      "X_train shape: (72, 6373)\n",
      "y_train shape: (72,)\n",
      "X_test shape: (8, 6373)\n",
      "y_test shape: (8,)\n"
     ]
    }
   ],
   "source": [
    "# print(\"X_train shape:\", X_train.shape)\n",
    "# print(\"y_train shape:\", y_train.shape)\n",
    "# print(\"X_test shape:\", X_test.shape)\n",
    "# print(\"y_test shape:\", y_test.shape)"
   ]
  },
  {
   "cell_type": "code",
   "execution_count": null,
   "id": "8a78fe4d",
   "metadata": {},
   "outputs": [
    {
     "data": {
      "text/html": [
       "<div>\n",
       "<style scoped>\n",
       "    .dataframe tbody tr th:only-of-type {\n",
       "        vertical-align: middle;\n",
       "    }\n",
       "\n",
       "    .dataframe tbody tr th {\n",
       "        vertical-align: top;\n",
       "    }\n",
       "\n",
       "    .dataframe thead th {\n",
       "        text-align: right;\n",
       "    }\n",
       "</style>\n",
       "<table border=\"1\" class=\"dataframe\">\n",
       "  <thead>\n",
       "    <tr style=\"text-align: right;\">\n",
       "      <th></th>\n",
       "      <th>audspec_lengthL1norm_sma_range</th>\n",
       "      <th>audspec_lengthL1norm_sma_maxPos</th>\n",
       "      <th>audspec_lengthL1norm_sma_minPos</th>\n",
       "      <th>audspec_lengthL1norm_sma_quartile1</th>\n",
       "      <th>audspec_lengthL1norm_sma_quartile2</th>\n",
       "      <th>audspec_lengthL1norm_sma_quartile3</th>\n",
       "      <th>audspec_lengthL1norm_sma_iqr1-2</th>\n",
       "      <th>audspec_lengthL1norm_sma_iqr2-3</th>\n",
       "      <th>audspec_lengthL1norm_sma_iqr1-3</th>\n",
       "      <th>audspec_lengthL1norm_sma_percentile1.0</th>\n",
       "      <th>...</th>\n",
       "      <th>mfcc_sma_de[14]_peakRangeAbs</th>\n",
       "      <th>mfcc_sma_de[14]_peakRangeRel</th>\n",
       "      <th>mfcc_sma_de[14]_peakMeanAbs</th>\n",
       "      <th>mfcc_sma_de[14]_peakMeanMeanDist</th>\n",
       "      <th>mfcc_sma_de[14]_peakMeanRel</th>\n",
       "      <th>mfcc_sma_de[14]_minRangeRel</th>\n",
       "      <th>mfcc_sma_de[14]_meanRisingSlope</th>\n",
       "      <th>mfcc_sma_de[14]_stddevRisingSlope</th>\n",
       "      <th>mfcc_sma_de[14]_meanFallingSlope</th>\n",
       "      <th>mfcc_sma_de[14]_stddevFallingSlope</th>\n",
       "    </tr>\n",
       "  </thead>\n",
       "  <tbody>\n",
       "    <tr>\n",
       "      <th>4</th>\n",
       "      <td>-0.503861</td>\n",
       "      <td>-0.534324</td>\n",
       "      <td>-0.600771</td>\n",
       "      <td>-0.932519</td>\n",
       "      <td>-0.725894</td>\n",
       "      <td>-0.540846</td>\n",
       "      <td>-0.466143</td>\n",
       "      <td>-0.318095</td>\n",
       "      <td>-0.387454</td>\n",
       "      <td>-0.275918</td>\n",
       "      <td>...</td>\n",
       "      <td>-0.692934</td>\n",
       "      <td>-0.174968</td>\n",
       "      <td>-0.382107</td>\n",
       "      <td>-0.462144</td>\n",
       "      <td>1.029679</td>\n",
       "      <td>0.018335</td>\n",
       "      <td>0.091457</td>\n",
       "      <td>-0.572677</td>\n",
       "      <td>0.338687</td>\n",
       "      <td>-1.237910</td>\n",
       "    </tr>\n",
       "    <tr>\n",
       "      <th>62</th>\n",
       "      <td>-0.018046</td>\n",
       "      <td>-0.983622</td>\n",
       "      <td>-1.347266</td>\n",
       "      <td>0.272143</td>\n",
       "      <td>0.288131</td>\n",
       "      <td>0.296660</td>\n",
       "      <td>0.251986</td>\n",
       "      <td>0.280493</td>\n",
       "      <td>0.277985</td>\n",
       "      <td>-0.165103</td>\n",
       "      <td>...</td>\n",
       "      <td>0.580623</td>\n",
       "      <td>-0.247839</td>\n",
       "      <td>0.890351</td>\n",
       "      <td>0.918647</td>\n",
       "      <td>-0.952045</td>\n",
       "      <td>1.511754</td>\n",
       "      <td>1.270072</td>\n",
       "      <td>0.141734</td>\n",
       "      <td>0.612055</td>\n",
       "      <td>0.251577</td>\n",
       "    </tr>\n",
       "  </tbody>\n",
       "</table>\n",
       "<p>2 rows × 6373 columns</p>\n",
       "</div>"
      ],
      "text/plain": [
       "    audspec_lengthL1norm_sma_range  audspec_lengthL1norm_sma_maxPos  \\\n",
       "4                        -0.503861                        -0.534324   \n",
       "62                       -0.018046                        -0.983622   \n",
       "\n",
       "    audspec_lengthL1norm_sma_minPos  audspec_lengthL1norm_sma_quartile1  \\\n",
       "4                         -0.600771                           -0.932519   \n",
       "62                        -1.347266                            0.272143   \n",
       "\n",
       "    audspec_lengthL1norm_sma_quartile2  audspec_lengthL1norm_sma_quartile3  \\\n",
       "4                            -0.725894                           -0.540846   \n",
       "62                            0.288131                            0.296660   \n",
       "\n",
       "    audspec_lengthL1norm_sma_iqr1-2  audspec_lengthL1norm_sma_iqr2-3  \\\n",
       "4                         -0.466143                        -0.318095   \n",
       "62                         0.251986                         0.280493   \n",
       "\n",
       "    audspec_lengthL1norm_sma_iqr1-3  audspec_lengthL1norm_sma_percentile1.0  \\\n",
       "4                         -0.387454                               -0.275918   \n",
       "62                         0.277985                               -0.165103   \n",
       "\n",
       "    ...  mfcc_sma_de[14]_peakRangeAbs  mfcc_sma_de[14]_peakRangeRel  \\\n",
       "4   ...                     -0.692934                     -0.174968   \n",
       "62  ...                      0.580623                     -0.247839   \n",
       "\n",
       "    mfcc_sma_de[14]_peakMeanAbs  mfcc_sma_de[14]_peakMeanMeanDist  \\\n",
       "4                     -0.382107                         -0.462144   \n",
       "62                     0.890351                          0.918647   \n",
       "\n",
       "    mfcc_sma_de[14]_peakMeanRel  mfcc_sma_de[14]_minRangeRel  \\\n",
       "4                      1.029679                     0.018335   \n",
       "62                    -0.952045                     1.511754   \n",
       "\n",
       "    mfcc_sma_de[14]_meanRisingSlope  mfcc_sma_de[14]_stddevRisingSlope  \\\n",
       "4                          0.091457                          -0.572677   \n",
       "62                         1.270072                           0.141734   \n",
       "\n",
       "    mfcc_sma_de[14]_meanFallingSlope  mfcc_sma_de[14]_stddevFallingSlope  \n",
       "4                           0.338687                           -1.237910  \n",
       "62                          0.612055                            0.251577  \n",
       "\n",
       "[2 rows x 6373 columns]"
      ]
     },
     "execution_count": 34,
     "metadata": {},
     "output_type": "execute_result"
    }
   ],
   "source": [
    "# X_train.head(2)"
   ]
  },
  {
   "cell_type": "code",
   "execution_count": null,
   "id": "2ff84c7d",
   "metadata": {},
   "outputs": [
    {
     "data": {
      "text/plain": [
       "4     0\n",
       "62    1\n",
       "18    0\n",
       "0     0\n",
       "28    0\n",
       "Name: Y, dtype: int64"
      ]
     },
     "execution_count": 35,
     "metadata": {},
     "output_type": "execute_result"
    }
   ],
   "source": [
    "# y_train.head()"
   ]
  },
  {
   "cell_type": "code",
   "execution_count": 3,
   "id": "a09c0f19",
   "metadata": {},
   "outputs": [],
   "source": [
    "def create_model(model_type):\n",
    "    if model_type == 'random_forest':\n",
    "        # model = RandomForestClassifier(random_state=42)\n",
    "        model = RandomForestClassifier(max_depth=5, max_features=10, min_samples_leaf=10, min_samples_split=5, n_estimators=100, random_state=42)\n",
    "\n",
    "    elif model_type == 'logistic_regression':\n",
    "        # model = LogisticRegression(random_state=42)\n",
    "        model =LogisticRegression(C=0.1, max_iter=1000, penalty='l2', solver='liblinear', random_state=42)\n",
    "\n",
    "    elif model_type == 'svm':\n",
    "        model = SVC(random_state=42, probability=True)\n",
    "        # model = SVC(C=0.2 ,class_weight=None , gamma=0.01, kernel='rbf', shrinking=True, random_state=42, probability=True)\n",
    "\n",
    "    elif model_type == 'xgboost':\n",
    "        # model = XGBClassifier(random_state=42)\n",
    "        model = XGBClassifier(colsample_bytree=0.8, gamma=0.1, learning_rate=0.05, max_depth=5, min_child_weight=3, n_estimators=50, reg_alpha=0.1, reg_lambda=1, subsample=0.8)\n",
    "\n",
    "    else:\n",
    "        raise ValueError(\"Invalid model type. Choose from 'random_forest', 'logistic_regression', 'svm', or 'xgboost'.\")\n",
    "    return model"
   ]
  },
  {
   "cell_type": "code",
   "execution_count": 4,
   "id": "6b85a548",
   "metadata": {},
   "outputs": [],
   "source": [
    "def evaluate_model(X_train, y_train, X_test, y_test, model_type):\n",
    "\n",
    "    if model_type == 'xgboost':\n",
    "        for X in [X_train, X_test]:\n",
    "            X.columns = [col.replace('[', '(').replace(']', ')').replace('<', '_less_than_') for col in X.columns]\n",
    "\n",
    "    model = create_model(model_type)\n",
    "    \n",
    "    model.fit(X_train, y_train)\n",
    "    \n",
    "    # Get predictions\n",
    "    y_train_pred = model.predict(X_train)\n",
    "    y_test_pred = model.predict(X_test)\n",
    "    \n",
    "    # Metrics\n",
    "    accuracy_train = accuracy_score(y_train, y_train_pred)\n",
    "    accuracy_test = accuracy_score(y_test, y_test_pred)\n",
    "    \n",
    "    roc_auc_train = roc_auc_score(y_train, model.predict_proba(X_train)[:, 1])\n",
    "    roc_auc_test = roc_auc_score(y_test, model.predict_proba(X_test)[:, 1])\n",
    "    \n",
    "    f1_train = f1_score(y_train, y_train_pred)\n",
    "    f1_test = f1_score(y_test, y_test_pred)\n",
    "    \n",
    "    precision_train = precision_score(y_train, y_train_pred)\n",
    "    precision_test = precision_score(y_test, y_test_pred)\n",
    "    \n",
    "    recall_train = recall_score(y_train, y_train_pred)\n",
    "    recall_test = recall_score(y_test, y_test_pred)\n",
    "    \n",
    "    train_loss = log_loss(y_train, model.predict_proba(X_train)[:, 1])\n",
    "    test_loss = log_loss(y_test, model.predict_proba(X_test)[:, 1])\n",
    "\n",
    "    return {\n",
    "        \"accuracy_train\": accuracy_train,\n",
    "        \"accuracy_test\": accuracy_test,\n",
    "        \"roc_auc_train\": roc_auc_train,\n",
    "        \"roc_auc_test\": roc_auc_test,\n",
    "        \"f1_train\": f1_train,\n",
    "        \"f1_test\": f1_test,\n",
    "        \"precision_train\": precision_train,\n",
    "        \"precision_test\": precision_test,\n",
    "        \"recall_train\": recall_train,\n",
    "        \"recall_test\": recall_test,\n",
    "        \"train_loss\": train_loss,\n",
    "        \"test_loss\": test_loss\n",
    "    }\n"
   ]
  },
  {
   "cell_type": "code",
   "execution_count": 5,
   "id": "b9f7b8ad",
   "metadata": {},
   "outputs": [],
   "source": [
    "# MIQ\n",
    "\n",
    "selected_features = [\n",
    "    \"audspec_lengthL1norm_sma_maxPos\",\n",
    "    \"pcm_RMSenergy_sma_kurtosis\",\n",
    "    \"audspecRasta_lengthL1norm_sma_de_upleveltime75\",\n",
    "    \"pcm_RMSenergy_sma_de_risetime\",\n",
    "    \"pcm_zcr_sma_de_leftctime\",\n",
    "    \"audSpec_Rfilt_sma[3]_lpc4\",\n",
    "    \"audSpec_Rfilt_sma[6]_quartile1\",\n",
    "    \"audSpec_Rfilt_sma[6]_percentile1.0\",\n",
    "    \"audSpec_Rfilt_sma[13]_percentile99.0\",\n",
    "    \"audSpec_Rfilt_sma[18]_maxPos\",\n",
    "    \"audSpec_Rfilt_sma[23]_kurtosis\",\n",
    "    \"pcm_fftMag_psySharpness_sma_upleveltime50\",\n",
    "    \"mfcc_sma[1]_lpc3\",\n",
    "    \"mfcc_sma[4]_segLenStddev\",\n",
    "    \"mfcc_sma[10]_meanSegLen\",\n",
    "    \"audSpec_Rfilt_sma_de[0]_iqr1-2\",\n",
    "    \"audSpec_Rfilt_sma_de[6]_lpc2\",\n",
    "    \"audSpec_Rfilt_sma_de[13]_lpc2\",\n",
    "    \"pcm_fftMag_spectralEntropy_sma_de_upleveltime90\",\n",
    "    \"mfcc_sma_de[2]_upleveltime25\",\n",
    "    \"mfcc_sma_de[3]_percentile1.0\",\n",
    "    \"mfcc_sma_de[6]_iqr1-2\",\n",
    "    \"mfcc_sma_de[8]_quartile1\",\n",
    "    \"F0final_sma_percentile1.0\",\n",
    "    \"voicingFinalUnclipped_sma_skewness\",\n",
    "    \"jitterLocal_sma_flatness\",\n",
    "    \"jitterLocal_sma_de_lpc4\",\n",
    "    \"mfcc_sma[4]_meanRisingSlope\",\n",
    "    \"mfcc_sma[14]_stddevFallingSlope\",\n",
    "    \"pcm_fftMag_spectralEntropy_sma_de_stddevFallingSlope\"\n",
    "]"
   ]
  },
  {
   "cell_type": "code",
   "execution_count": 6,
   "id": "c2cec5fb",
   "metadata": {},
   "outputs": [],
   "source": [
    "def main(directory, model_type=\"random_forest\", feature_list=True):\n",
    "    data = load_data_from_folds(directory)\n",
    "    \n",
    "    metrics = []\n",
    "    \n",
    "    for fold_number in range(1, 11):\n",
    "        print(f\"Evaluating fold {fold_number}...\")\n",
    "        \n",
    "        X_train, y_train, X_test, y_test = get_train_test_data(fold_number, data)\n",
    "        \n",
    "        if feature_list:\n",
    "            X_train = X_train[selected_features]\n",
    "            X_test = X_test[selected_features]\n",
    "        \n",
    "        print(\"X_train shape:\", X_train.shape)\n",
    "        print(\"y_train shape:\", y_train.shape)\n",
    "        print(\"X_test shape:\", X_test.shape)\n",
    "        print(\"y_test shape:\", y_test.shape)\n",
    "        \n",
    "        fold_metrics = evaluate_model(X_train, y_train, X_test, y_test, model_type)\n",
    "        metrics.append(fold_metrics)\n",
    "        \n",
    "        print(f\"Metrics for fold {fold_number}: {fold_metrics}\")\n",
    "        print(\" \")\n",
    "    \n",
    "    # Calculate average and standard deviation\n",
    "    avg_metrics = {metric: np.mean([fold[metric] for fold in metrics]) for metric in metrics[0]}\n",
    "    std_metrics = {metric: np.std([fold[metric] for fold in metrics]) for metric in metrics[0]}\n",
    "    \n",
    "    print(\"\\nAverage Metrics:\")\n",
    "    print(avg_metrics)\n",
    "    \n",
    "    print(\"\\nStandard Deviation of Metrics:\")\n",
    "    print(std_metrics)\n"
   ]
  },
  {
   "cell_type": "code",
   "execution_count": 7,
   "id": "ee5c4fea",
   "metadata": {},
   "outputs": [],
   "source": [
    "\n",
    "# Specify the path to the dataset directory\n",
    "directory = r\"C:\\Users\\Hp\\Desktop\\Lecture Files\\DH604\\Publication\\data\\datasets_16k\""
   ]
  },
  {
   "cell_type": "code",
   "execution_count": 37,
   "id": "2cb854b3",
   "metadata": {},
   "outputs": [],
   "source": [
    "# # Call the main function with your model type\n",
    "# main(directory, model_type=\"logistic_regression\", feature_list = True)"
   ]
  },
  {
   "cell_type": "code",
   "execution_count": 8,
   "id": "10119506",
   "metadata": {},
   "outputs": [
    {
     "ename": "NameError",
     "evalue": "name 'load_data_from_folds' is not defined",
     "output_type": "error",
     "traceback": [
      "\u001b[1;31m---------------------------------------------------------------------------\u001b[0m",
      "\u001b[1;31mNameError\u001b[0m                                 Traceback (most recent call last)",
      "Cell \u001b[1;32mIn[8], line 2\u001b[0m\n\u001b[0;32m      1\u001b[0m \u001b[38;5;66;03m# Call the main function with your model type\u001b[39;00m\n\u001b[1;32m----> 2\u001b[0m \u001b[43mmain\u001b[49m\u001b[43m(\u001b[49m\u001b[43mdirectory\u001b[49m\u001b[43m,\u001b[49m\u001b[43m \u001b[49m\u001b[43mmodel_type\u001b[49m\u001b[38;5;241;43m=\u001b[39;49m\u001b[38;5;124;43m\"\u001b[39;49m\u001b[38;5;124;43msvm\u001b[39;49m\u001b[38;5;124;43m\"\u001b[39;49m\u001b[43m,\u001b[49m\u001b[43m \u001b[49m\u001b[43mfeature_list\u001b[49m\u001b[43m \u001b[49m\u001b[38;5;241;43m=\u001b[39;49m\u001b[43m \u001b[49m\u001b[38;5;28;43;01mTrue\u001b[39;49;00m\u001b[43m)\u001b[49m\n",
      "Cell \u001b[1;32mIn[6], line 2\u001b[0m, in \u001b[0;36mmain\u001b[1;34m(directory, model_type, feature_list)\u001b[0m\n\u001b[0;32m      1\u001b[0m \u001b[38;5;28;01mdef\u001b[39;00m\u001b[38;5;250m \u001b[39m\u001b[38;5;21mmain\u001b[39m(directory, model_type\u001b[38;5;241m=\u001b[39m\u001b[38;5;124m\"\u001b[39m\u001b[38;5;124mrandom_forest\u001b[39m\u001b[38;5;124m\"\u001b[39m, feature_list\u001b[38;5;241m=\u001b[39m\u001b[38;5;28;01mTrue\u001b[39;00m):\n\u001b[1;32m----> 2\u001b[0m     data \u001b[38;5;241m=\u001b[39m \u001b[43mload_data_from_folds\u001b[49m(directory)\n\u001b[0;32m      4\u001b[0m     metrics \u001b[38;5;241m=\u001b[39m []\n\u001b[0;32m      6\u001b[0m     \u001b[38;5;28;01mfor\u001b[39;00m fold_number \u001b[38;5;129;01min\u001b[39;00m \u001b[38;5;28mrange\u001b[39m(\u001b[38;5;241m1\u001b[39m, \u001b[38;5;241m11\u001b[39m):\n",
      "\u001b[1;31mNameError\u001b[0m: name 'load_data_from_folds' is not defined"
     ]
    }
   ],
   "source": [
    "# Call the main function with your model type\n",
    "main(directory, model_type=\"svm\", feature_list = True)"
   ]
  },
  {
   "cell_type": "code",
   "execution_count": 59,
   "id": "9519bf54",
   "metadata": {},
   "outputs": [],
   "source": [
    "# # Call the main function with your model type\n",
    "# main(directory, model_type=\"random_forest\", feature_list = True)"
   ]
  },
  {
   "cell_type": "code",
   "execution_count": null,
   "id": "ced0676f",
   "metadata": {},
   "outputs": [
    {
     "name": "stdout",
     "output_type": "stream",
     "text": [
      "Evaluating fold 1...\n",
      "X_train shape: (70, 30)\n",
      "y_train shape: (70,)\n",
      "X_test shape: (8, 30)\n",
      "y_test shape: (8,)\n",
      "Metrics for fold 1: {'accuracy_train': 1.0, 'accuracy_test': 1.0, 'roc_auc_train': 1.0, 'roc_auc_test': 1.0, 'f1_train': 1.0, 'f1_test': 1.0, 'precision_train': 1.0, 'precision_test': 1.0, 'recall_train': 1.0, 'recall_test': 1.0, 'train_loss': 0.11744242028875058, 'test_loss': 0.12198742747411101}\n",
      " \n",
      "Evaluating fold 2...\n",
      "X_train shape: (70, 30)\n",
      "y_train shape: (70,)\n",
      "X_test shape: (8, 30)\n",
      "y_test shape: (8,)\n",
      "Metrics for fold 2: {'accuracy_train': 1.0, 'accuracy_test': 1.0, 'roc_auc_train': 1.0, 'roc_auc_test': 1.0, 'f1_train': 1.0, 'f1_test': 1.0, 'precision_train': 1.0, 'precision_test': 1.0, 'recall_train': 1.0, 'recall_test': 1.0, 'train_loss': 0.11837825894574938, 'test_loss': 0.11421343424927329}\n",
      " \n",
      "Evaluating fold 3...\n",
      "X_train shape: (70, 30)\n",
      "y_train shape: (70,)\n",
      "X_test shape: (8, 30)\n",
      "y_test shape: (8,)\n",
      "Metrics for fold 3: {'accuracy_train': 1.0, 'accuracy_test': 1.0, 'roc_auc_train': 1.0, 'roc_auc_test': 1.0, 'f1_train': 1.0, 'f1_test': 1.0, 'precision_train': 1.0, 'precision_test': 1.0, 'recall_train': 1.0, 'recall_test': 1.0, 'train_loss': 0.11717811298470818, 'test_loss': 0.12476910628448896}\n",
      " \n",
      "Evaluating fold 4...\n",
      "X_train shape: (70, 30)\n",
      "y_train shape: (70,)\n",
      "X_test shape: (8, 30)\n",
      "y_test shape: (8,)\n",
      "Metrics for fold 4: {'accuracy_train': 1.0, 'accuracy_test': 1.0, 'roc_auc_train': 1.0, 'roc_auc_test': 1.0, 'f1_train': 1.0, 'f1_test': 1.0, 'precision_train': 1.0, 'precision_test': 1.0, 'recall_train': 1.0, 'recall_test': 1.0, 'train_loss': 0.11777911709016343, 'test_loss': 0.11295456413594615}\n",
      " \n",
      "Evaluating fold 5...\n",
      "X_train shape: (72, 30)\n",
      "y_train shape: (72,)\n",
      "X_test shape: (6, 30)\n",
      "y_test shape: (6,)\n",
      "Metrics for fold 5: {'accuracy_train': 1.0, 'accuracy_test': 1.0, 'roc_auc_train': 1.0, 'roc_auc_test': 1.0, 'f1_train': 1.0, 'f1_test': 1.0, 'precision_train': 1.0, 'precision_test': 1.0, 'recall_train': 1.0, 'recall_test': 1.0, 'train_loss': 0.1127434958784116, 'test_loss': 0.15506578498746557}\n",
      " \n",
      "Evaluating fold 6...\n",
      "X_train shape: (70, 30)\n",
      "y_train shape: (70,)\n",
      "X_test shape: (8, 30)\n",
      "y_test shape: (8,)\n",
      "Metrics for fold 6: {'accuracy_train': 1.0, 'accuracy_test': 1.0, 'roc_auc_train': 1.0, 'roc_auc_test': 1.0, 'f1_train': 1.0, 'f1_test': 1.0, 'precision_train': 1.0, 'precision_test': 1.0, 'recall_train': 1.0, 'recall_test': 1.0, 'train_loss': 0.11876644428364898, 'test_loss': 0.1146954190784196}\n",
      " \n",
      "Evaluating fold 7...\n",
      "X_train shape: (70, 30)\n",
      "y_train shape: (70,)\n",
      "X_test shape: (8, 30)\n",
      "y_test shape: (8,)\n",
      "Metrics for fold 7: {'accuracy_train': 1.0, 'accuracy_test': 1.0, 'roc_auc_train': 1.0, 'roc_auc_test': 1.0, 'f1_train': 1.0, 'f1_test': 1.0, 'precision_train': 1.0, 'precision_test': 1.0, 'recall_train': 1.0, 'recall_test': 1.0, 'train_loss': 0.11868024458515285, 'test_loss': 0.1139286366931414}\n",
      " \n",
      "Evaluating fold 8...\n",
      "X_train shape: (70, 30)\n",
      "y_train shape: (70,)\n",
      "X_test shape: (8, 30)\n",
      "y_test shape: (8,)\n",
      "Metrics for fold 8: {'accuracy_train': 1.0, 'accuracy_test': 1.0, 'roc_auc_train': 1.0, 'roc_auc_test': 1.0, 'f1_train': 1.0, 'f1_test': 1.0, 'precision_train': 1.0, 'precision_test': 1.0, 'recall_train': 1.0, 'recall_test': 1.0, 'train_loss': 0.11827745267436879, 'test_loss': 0.11536829137836849}\n",
      " \n",
      "Evaluating fold 9...\n",
      "X_train shape: (70, 30)\n",
      "y_train shape: (70,)\n",
      "X_test shape: (8, 30)\n",
      "y_test shape: (8,)\n",
      "Metrics for fold 9: {'accuracy_train': 1.0, 'accuracy_test': 0.875, 'roc_auc_train': 1.0, 'roc_auc_test': 1.0, 'f1_train': 1.0, 'f1_test': 0.888888888888889, 'precision_train': 1.0, 'precision_test': 0.8, 'recall_train': 1.0, 'recall_test': 1.0, 'train_loss': 0.11878291599344767, 'test_loss': 0.22915616292560376}\n",
      " \n",
      "Evaluating fold 10...\n",
      "X_train shape: (70, 30)\n",
      "y_train shape: (70,)\n",
      "X_test shape: (8, 30)\n",
      "y_test shape: (8,)\n",
      "Metrics for fold 10: {'accuracy_train': 1.0, 'accuracy_test': 1.0, 'roc_auc_train': 1.0, 'roc_auc_test': 1.0, 'f1_train': 1.0, 'f1_test': 1.0, 'precision_train': 1.0, 'precision_test': 1.0, 'recall_train': 1.0, 'recall_test': 1.0, 'train_loss': 0.11877041532726429, 'test_loss': 0.12249771713751957}\n",
      " \n",
      "\n",
      "Average Metrics:\n",
      "{'accuracy_train': 1.0, 'accuracy_test': 0.9875, 'roc_auc_train': 1.0, 'roc_auc_test': 1.0, 'f1_train': 1.0, 'f1_test': 0.9888888888888889, 'precision_train': 1.0, 'precision_test': 0.9800000000000001, 'recall_train': 1.0, 'recall_test': 1.0, 'train_loss': 0.11767988780516658, 'test_loss': 0.1324636544344338}\n",
      "\n",
      "Standard Deviation of Metrics:\n",
      "{'accuracy_train': 0.0, 'accuracy_test': 0.0375, 'roc_auc_train': 0.0, 'roc_auc_test': 0.0, 'f1_train': 0.0, 'f1_test': 0.03333333333333331, 'precision_train': 0.0, 'precision_test': 0.05999999999999999, 'recall_train': 0.0, 'recall_test': 0.0, 'train_loss': 0.0017354545989171509, 'test_loss': 0.034342041963241074}\n"
     ]
    }
   ],
   "source": [
    "# # Call the main function with your model type\n",
    "# main(directory, model_type=\"xgboost\", feature_list = True)"
   ]
  }
 ],
 "metadata": {
  "kernelspec": {
   "display_name": "Python 3",
   "language": "python",
   "name": "python3"
  },
  "language_info": {
   "codemirror_mode": {
    "name": "ipython",
    "version": 3
   },
   "file_extension": ".py",
   "mimetype": "text/x-python",
   "name": "python",
   "nbconvert_exporter": "python",
   "pygments_lexer": "ipython3",
   "version": "3.8.0"
  }
 },
 "nbformat": 4,
 "nbformat_minor": 5
}
