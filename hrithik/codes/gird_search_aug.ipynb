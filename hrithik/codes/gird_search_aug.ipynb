{
  "cells": [
    {
      "cell_type": "markdown",
      "metadata": {},
      "source": [
        "# Modules"
      ]
    },
    {
      "cell_type": "code",
      "execution_count": 7,
      "metadata": {
        "colab": {
          "base_uri": "https://localhost:8080/"
        },
        "id": "bLjaSoawXnHw",
        "outputId": "4517fcbc-adc5-4876-ca99-cba89e450358"
      },
      "outputs": [
        {
          "name": "stdout",
          "output_type": "stream",
          "text": [
            "Requirement already satisfied: audb in c:\\users\\hp\\appdata\\local\\programs\\python\\python38\\lib\\site-packages (1.7.4)\n",
            "Requirement already satisfied: audbackend>=2.0.0 in c:\\users\\hp\\appdata\\local\\programs\\python\\python38\\lib\\site-packages (from audbackend[artifactory]>=2.0.0->audb) (2.0.1)\n",
            "Requirement already satisfied: audeer>=2.0.0 in c:\\users\\hp\\appdata\\local\\programs\\python\\python38\\lib\\site-packages (from audb) (2.2.0)\n",
            "Requirement already satisfied: audformat>=1.1.1 in c:\\users\\hp\\appdata\\local\\programs\\python\\python38\\lib\\site-packages (from audb) (1.1.4)\n",
            "Requirement already satisfied: audiofile>=1.0.0 in c:\\users\\hp\\appdata\\local\\programs\\python\\python38\\lib\\site-packages (from audb) (1.5.0)\n",
            "Requirement already satisfied: audobject>=0.5.0 in c:\\users\\hp\\appdata\\local\\programs\\python\\python38\\lib\\site-packages (from audb) (0.7.11)\n",
            "Requirement already satisfied: audresample>=0.1.6 in c:\\users\\hp\\appdata\\local\\programs\\python\\python38\\lib\\site-packages (from audb) (1.3.3)\n",
            "Requirement already satisfied: filelock in c:\\users\\hp\\appdata\\local\\programs\\python\\python38\\lib\\site-packages (from audb) (3.16.1)\n",
            "Requirement already satisfied: oyaml in c:\\users\\hp\\appdata\\local\\programs\\python\\python38\\lib\\site-packages (from audb) (1.0)\n",
            "Requirement already satisfied: pandas>=2.0.1 in c:\\users\\hp\\appdata\\local\\programs\\python\\python38\\lib\\site-packages (from audb) (2.0.3)\n",
            "Requirement already satisfied: pyarrow in c:\\users\\hp\\appdata\\local\\programs\\python\\python38\\lib\\site-packages (from audb) (17.0.0)\n",
            "Requirement already satisfied: pywin32 in c:\\users\\hp\\appdata\\local\\programs\\python\\python38\\lib\\site-packages (from audbackend>=2.0.0->audbackend[artifactory]>=2.0.0->audb) (308)\n",
            "Requirement already satisfied: dohq-artifactory>=0.10.0 in c:\\users\\hp\\appdata\\local\\programs\\python\\python38\\lib\\site-packages (from audbackend[artifactory]>=2.0.0->audb) (1.0.0)\n",
            "Requirement already satisfied: tqdm in c:\\users\\hp\\appdata\\local\\programs\\python\\python38\\lib\\site-packages (from audeer>=2.0.0->audb) (4.67.1)\n",
            "Requirement already satisfied: iso-639 in c:\\users\\hp\\appdata\\local\\programs\\python\\python38\\lib\\site-packages (from audformat>=1.1.1->audb) (0.4.5)\n",
            "Requirement already satisfied: iso3166 in c:\\users\\hp\\appdata\\local\\programs\\python\\python38\\lib\\site-packages (from audformat>=1.1.1->audb) (2.1.1)\n",
            "Requirement already satisfied: pyyaml>=5.4.1 in c:\\users\\hp\\appdata\\local\\programs\\python\\python38\\lib\\site-packages (from audformat>=1.1.1->audb) (6.0.2)\n",
            "Requirement already satisfied: audmath>=1.3.0 in c:\\users\\hp\\appdata\\local\\programs\\python\\python38\\lib\\site-packages (from audiofile>=1.0.0->audb) (1.4.1)\n",
            "Requirement already satisfied: numpy in c:\\users\\hp\\appdata\\local\\programs\\python\\python38\\lib\\site-packages (from audiofile>=1.0.0->audb) (1.24.4)\n",
            "Requirement already satisfied: soundfile>=0.12.1 in c:\\users\\hp\\appdata\\local\\programs\\python\\python38\\lib\\site-packages (from audiofile>=1.0.0->audb) (0.13.1)\n",
            "Requirement already satisfied: importlib-metadata>=4.8.0 in c:\\users\\hp\\appdata\\local\\programs\\python\\python38\\lib\\site-packages (from audobject>=0.5.0->audb) (8.5.0)\n",
            "Requirement already satisfied: packaging in c:\\users\\hp\\appdata\\local\\programs\\python\\python38\\lib\\site-packages (from audobject>=0.5.0->audb) (24.2)\n",
            "Requirement already satisfied: python-dateutil>=2.8.2 in c:\\users\\hp\\appdata\\local\\programs\\python\\python38\\lib\\site-packages (from pandas>=2.0.1->audb) (2.9.0.post0)\n",
            "Requirement already satisfied: pytz>=2020.1 in c:\\users\\hp\\appdata\\local\\programs\\python\\python38\\lib\\site-packages (from pandas>=2.0.1->audb) (2025.1)\n",
            "Requirement already satisfied: tzdata>=2022.1 in c:\\users\\hp\\appdata\\local\\programs\\python\\python38\\lib\\site-packages (from pandas>=2.0.1->audb) (2025.1)\n",
            "Requirement already satisfied: requests>=2.30.0 in c:\\users\\hp\\appdata\\local\\programs\\python\\python38\\lib\\site-packages (from dohq-artifactory>=0.10.0->audbackend[artifactory]>=2.0.0->audb) (2.32.3)\n",
            "Requirement already satisfied: PyJWT~=2.0 in c:\\users\\hp\\appdata\\local\\programs\\python\\python38\\lib\\site-packages (from dohq-artifactory>=0.10.0->audbackend[artifactory]>=2.0.0->audb) (2.9.0)\n",
            "Requirement already satisfied: zipp>=3.20 in c:\\users\\hp\\appdata\\local\\programs\\python\\python38\\lib\\site-packages (from importlib-metadata>=4.8.0->audobject>=0.5.0->audb) (3.20.2)\n",
            "Requirement already satisfied: six>=1.5 in c:\\users\\hp\\appdata\\local\\programs\\python\\python38\\lib\\site-packages (from python-dateutil>=2.8.2->pandas>=2.0.1->audb) (1.17.0)\n",
            "Requirement already satisfied: cffi>=1.0 in c:\\users\\hp\\appdata\\local\\programs\\python\\python38\\lib\\site-packages (from soundfile>=0.12.1->audiofile>=1.0.0->audb) (1.17.1)\n",
            "Requirement already satisfied: colorama in c:\\users\\hp\\appdata\\local\\programs\\python\\python38\\lib\\site-packages (from tqdm->audeer>=2.0.0->audb) (0.4.6)\n",
            "Requirement already satisfied: pycparser in c:\\users\\hp\\appdata\\local\\programs\\python\\python38\\lib\\site-packages (from cffi>=1.0->soundfile>=0.12.1->audiofile>=1.0.0->audb) (2.22)\n",
            "Requirement already satisfied: charset-normalizer<4,>=2 in c:\\users\\hp\\appdata\\local\\programs\\python\\python38\\lib\\site-packages (from requests>=2.30.0->dohq-artifactory>=0.10.0->audbackend[artifactory]>=2.0.0->audb) (3.4.1)\n",
            "Requirement already satisfied: idna<4,>=2.5 in c:\\users\\hp\\appdata\\local\\programs\\python\\python38\\lib\\site-packages (from requests>=2.30.0->dohq-artifactory>=0.10.0->audbackend[artifactory]>=2.0.0->audb) (3.10)\n",
            "Requirement already satisfied: urllib3<3,>=1.21.1 in c:\\users\\hp\\appdata\\local\\programs\\python\\python38\\lib\\site-packages (from requests>=2.30.0->dohq-artifactory>=0.10.0->audbackend[artifactory]>=2.0.0->audb) (2.2.3)\n",
            "Requirement already satisfied: certifi>=2017.4.17 in c:\\users\\hp\\appdata\\local\\programs\\python\\python38\\lib\\site-packages (from requests>=2.30.0->dohq-artifactory>=0.10.0->audbackend[artifactory]>=2.0.0->audb) (2024.12.14)\n"
          ]
        },
        {
          "name": "stderr",
          "output_type": "stream",
          "text": [
            "\n",
            "[notice] A new release of pip is available: 25.0 -> 25.0.1\n",
            "[notice] To update, run: python.exe -m pip install --upgrade pip\n"
          ]
        }
      ],
      "source": [
        "!pip install audb"
      ]
    },
    {
      "cell_type": "code",
      "execution_count": 8,
      "metadata": {
        "colab": {
          "base_uri": "https://localhost:8080/"
        },
        "id": "Utap3nlRZyRV",
        "outputId": "41435d70-df44-4382-b53e-a0229e09142d"
      },
      "outputs": [
        {
          "name": "stdout",
          "output_type": "stream",
          "text": [
            "Requirement already satisfied: audiofile in c:\\users\\hp\\appdata\\local\\programs\\python\\python38\\lib\\site-packages (1.5.0)\n",
            "Requirement already satisfied: audeer in c:\\users\\hp\\appdata\\local\\programs\\python\\python38\\lib\\site-packages (from audiofile) (2.2.0)\n",
            "Requirement already satisfied: audmath>=1.3.0 in c:\\users\\hp\\appdata\\local\\programs\\python\\python38\\lib\\site-packages (from audiofile) (1.4.1)\n",
            "Requirement already satisfied: numpy in c:\\users\\hp\\appdata\\local\\programs\\python\\python38\\lib\\site-packages (from audiofile) (1.24.4)\n",
            "Requirement already satisfied: soundfile>=0.12.1 in c:\\users\\hp\\appdata\\local\\programs\\python\\python38\\lib\\site-packages (from audiofile) (0.13.1)\n",
            "Requirement already satisfied: cffi>=1.0 in c:\\users\\hp\\appdata\\local\\programs\\python\\python38\\lib\\site-packages (from soundfile>=0.12.1->audiofile) (1.17.1)\n",
            "Requirement already satisfied: tqdm in c:\\users\\hp\\appdata\\local\\programs\\python\\python38\\lib\\site-packages (from audeer->audiofile) (4.67.1)\n",
            "Requirement already satisfied: pycparser in c:\\users\\hp\\appdata\\local\\programs\\python\\python38\\lib\\site-packages (from cffi>=1.0->soundfile>=0.12.1->audiofile) (2.22)\n",
            "Requirement already satisfied: colorama in c:\\users\\hp\\appdata\\local\\programs\\python\\python38\\lib\\site-packages (from tqdm->audeer->audiofile) (0.4.6)\n"
          ]
        },
        {
          "name": "stderr",
          "output_type": "stream",
          "text": [
            "\n",
            "[notice] A new release of pip is available: 25.0 -> 25.0.1\n",
            "[notice] To update, run: python.exe -m pip install --upgrade pip\n"
          ]
        }
      ],
      "source": [
        "!pip install audiofile"
      ]
    },
    {
      "cell_type": "code",
      "execution_count": 9,
      "metadata": {
        "colab": {
          "base_uri": "https://localhost:8080/"
        },
        "id": "1ksG9jF-XsKk",
        "outputId": "f7c66cae-bfc1-473e-93e8-2daa019e6e9c"
      },
      "outputs": [
        {
          "name": "stdout",
          "output_type": "stream",
          "text": [
            "Requirement already satisfied: opensmile in c:\\users\\hp\\appdata\\local\\programs\\python\\python38\\lib\\site-packages (2.5.0)\n",
            "Requirement already satisfied: audobject>=0.6.1 in c:\\users\\hp\\appdata\\local\\programs\\python\\python38\\lib\\site-packages (from opensmile) (0.7.11)\n",
            "Requirement already satisfied: audinterface>=0.7.0 in c:\\users\\hp\\appdata\\local\\programs\\python\\python38\\lib\\site-packages (from opensmile) (1.2.1)\n",
            "Requirement already satisfied: audeer>=1.18.0 in c:\\users\\hp\\appdata\\local\\programs\\python\\python38\\lib\\site-packages (from audinterface>=0.7.0->opensmile) (2.2.0)\n",
            "Requirement already satisfied: audformat<2.0.0,>=1.0.1 in c:\\users\\hp\\appdata\\local\\programs\\python\\python38\\lib\\site-packages (from audinterface>=0.7.0->opensmile) (1.1.4)\n",
            "Requirement already satisfied: audiofile>=1.3.0 in c:\\users\\hp\\appdata\\local\\programs\\python\\python38\\lib\\site-packages (from audinterface>=0.7.0->opensmile) (1.5.0)\n",
            "Requirement already satisfied: audmath>=1.3.0 in c:\\users\\hp\\appdata\\local\\programs\\python\\python38\\lib\\site-packages (from audinterface>=0.7.0->opensmile) (1.4.1)\n",
            "Requirement already satisfied: audresample<2.0.0,>=1.1.0 in c:\\users\\hp\\appdata\\local\\programs\\python\\python38\\lib\\site-packages (from audinterface>=0.7.0->opensmile) (1.3.3)\n",
            "Requirement already satisfied: importlib-metadata>=4.8.0 in c:\\users\\hp\\appdata\\local\\programs\\python\\python38\\lib\\site-packages (from audobject>=0.6.1->opensmile) (8.5.0)\n",
            "Requirement already satisfied: oyaml in c:\\users\\hp\\appdata\\local\\programs\\python\\python38\\lib\\site-packages (from audobject>=0.6.1->opensmile) (1.0)\n",
            "Requirement already satisfied: packaging in c:\\users\\hp\\appdata\\local\\programs\\python\\python38\\lib\\site-packages (from audobject>=0.6.1->opensmile) (24.2)\n",
            "Requirement already satisfied: tqdm in c:\\users\\hp\\appdata\\local\\programs\\python\\python38\\lib\\site-packages (from audeer>=1.18.0->audinterface>=0.7.0->opensmile) (4.67.1)\n",
            "Requirement already satisfied: iso-639 in c:\\users\\hp\\appdata\\local\\programs\\python\\python38\\lib\\site-packages (from audformat<2.0.0,>=1.0.1->audinterface>=0.7.0->opensmile) (0.4.5)\n",
            "Requirement already satisfied: iso3166 in c:\\users\\hp\\appdata\\local\\programs\\python\\python38\\lib\\site-packages (from audformat<2.0.0,>=1.0.1->audinterface>=0.7.0->opensmile) (2.1.1)\n",
            "Requirement already satisfied: pyyaml>=5.4.1 in c:\\users\\hp\\appdata\\local\\programs\\python\\python38\\lib\\site-packages (from audformat<2.0.0,>=1.0.1->audinterface>=0.7.0->opensmile) (6.0.2)\n",
            "Requirement already satisfied: pandas>=1.4.1 in c:\\users\\hp\\appdata\\local\\programs\\python\\python38\\lib\\site-packages (from audformat<2.0.0,>=1.0.1->audinterface>=0.7.0->opensmile) (2.0.3)\n",
            "Requirement already satisfied: numpy in c:\\users\\hp\\appdata\\local\\programs\\python\\python38\\lib\\site-packages (from audiofile>=1.3.0->audinterface>=0.7.0->opensmile) (1.24.4)\n",
            "Requirement already satisfied: soundfile>=0.12.1 in c:\\users\\hp\\appdata\\local\\programs\\python\\python38\\lib\\site-packages (from audiofile>=1.3.0->audinterface>=0.7.0->opensmile) (0.13.1)\n",
            "Requirement already satisfied: zipp>=3.20 in c:\\users\\hp\\appdata\\local\\programs\\python\\python38\\lib\\site-packages (from importlib-metadata>=4.8.0->audobject>=0.6.1->opensmile) (3.20.2)\n",
            "Requirement already satisfied: python-dateutil>=2.8.2 in c:\\users\\hp\\appdata\\local\\programs\\python\\python38\\lib\\site-packages (from pandas>=1.4.1->audformat<2.0.0,>=1.0.1->audinterface>=0.7.0->opensmile) (2.9.0.post0)\n",
            "Requirement already satisfied: pytz>=2020.1 in c:\\users\\hp\\appdata\\local\\programs\\python\\python38\\lib\\site-packages (from pandas>=1.4.1->audformat<2.0.0,>=1.0.1->audinterface>=0.7.0->opensmile) (2025.1)\n",
            "Requirement already satisfied: tzdata>=2022.1 in c:\\users\\hp\\appdata\\local\\programs\\python\\python38\\lib\\site-packages (from pandas>=1.4.1->audformat<2.0.0,>=1.0.1->audinterface>=0.7.0->opensmile) (2025.1)\n",
            "Requirement already satisfied: cffi>=1.0 in c:\\users\\hp\\appdata\\local\\programs\\python\\python38\\lib\\site-packages (from soundfile>=0.12.1->audiofile>=1.3.0->audinterface>=0.7.0->opensmile) (1.17.1)\n",
            "Requirement already satisfied: colorama in c:\\users\\hp\\appdata\\local\\programs\\python\\python38\\lib\\site-packages (from tqdm->audeer>=1.18.0->audinterface>=0.7.0->opensmile) (0.4.6)\n",
            "Requirement already satisfied: pycparser in c:\\users\\hp\\appdata\\local\\programs\\python\\python38\\lib\\site-packages (from cffi>=1.0->soundfile>=0.12.1->audiofile>=1.3.0->audinterface>=0.7.0->opensmile) (2.22)\n",
            "Requirement already satisfied: six>=1.5 in c:\\users\\hp\\appdata\\local\\programs\\python\\python38\\lib\\site-packages (from python-dateutil>=2.8.2->pandas>=1.4.1->audformat<2.0.0,>=1.0.1->audinterface>=0.7.0->opensmile) (1.17.0)\n"
          ]
        },
        {
          "name": "stderr",
          "output_type": "stream",
          "text": [
            "\n",
            "[notice] A new release of pip is available: 25.0 -> 25.0.1\n",
            "[notice] To update, run: python.exe -m pip install --upgrade pip\n"
          ]
        }
      ],
      "source": [
        "!pip install opensmile"
      ]
    },
    {
      "cell_type": "code",
      "execution_count": 10,
      "metadata": {
        "colab": {
          "base_uri": "https://localhost:8080/"
        },
        "id": "xJD_wvh5Xs-W",
        "outputId": "533aa97d-9e84-4b1a-8f0a-1e82b787294b"
      },
      "outputs": [
        {
          "name": "stdout",
          "output_type": "stream",
          "text": [
            "Requirement already satisfied: xgboost in c:\\users\\hp\\appdata\\local\\programs\\python\\python38\\lib\\site-packages (2.1.4)\n",
            "Requirement already satisfied: numpy in c:\\users\\hp\\appdata\\local\\programs\\python\\python38\\lib\\site-packages (from xgboost) (1.24.4)\n",
            "Requirement already satisfied: scipy in c:\\users\\hp\\appdata\\local\\programs\\python\\python38\\lib\\site-packages (from xgboost) (1.10.1)\n"
          ]
        },
        {
          "name": "stderr",
          "output_type": "stream",
          "text": [
            "\n",
            "[notice] A new release of pip is available: 25.0 -> 25.0.1\n",
            "[notice] To update, run: python.exe -m pip install --upgrade pip\n"
          ]
        }
      ],
      "source": [
        "!pip install xgboost"
      ]
    },
    {
      "cell_type": "code",
      "execution_count": 11,
      "metadata": {
        "id": "1A0AhheeXv_I"
      },
      "outputs": [],
      "source": [
        "import os\n",
        "import time\n",
        "import numpy as np\n",
        "import pandas as pd\n",
        "import seaborn as sns\n",
        "import audb\n",
        "import audiofile\n",
        "from xgboost import XGBClassifier\n",
        "import opensmile\n",
        "from sklearn.utils import shuffle\n",
        "import random\n",
        "from sklearn.model_selection import train_test_split, KFold, StratifiedKFold\n",
        "from sklearn.preprocessing import StandardScaler, MinMaxScaler\n",
        "from sklearn.svm import SVC\n",
        "from sklearn.linear_model import LogisticRegression\n",
        "from sklearn.ensemble import RandomForestClassifier\n",
        "from sklearn.metrics import roc_auc_score, roc_curve, auc, confusion_matrix, log_loss, f1_score, accuracy_score, precision_score, recall_score\n",
        "import matplotlib.pyplot as plt\n",
        "from sklearn.model_selection import GridSearchCV\n",
        "%matplotlib inline\n"
      ]
    },
    {
      "cell_type": "markdown",
      "metadata": {},
      "source": [
        "# Code"
      ]
    },
    {
      "cell_type": "code",
      "execution_count": 12,
      "metadata": {
        "colab": {
          "base_uri": "https://localhost:8080/"
        },
        "id": "9KYKCWshiPP9",
        "outputId": "ad72fe92-4174-4c59-9b21-e05b907039b3"
      },
      "outputs": [],
      "source": [
        "# from google.colab import drive\n",
        "# drive.mount('/content/drive')\n"
      ]
    },
    {
      "cell_type": "code",
      "execution_count": 42,
      "metadata": {
        "id": "-kaZ8cUCX0E7"
      },
      "outputs": [],
      "source": [
        "smile = opensmile.Smile(\n",
        "    feature_set=opensmile.FeatureSet.ComParE_2016,\n",
        "    feature_level=opensmile.FeatureLevel.Functionals,\n",
        ")"
      ]
    },
    {
      "cell_type": "code",
      "execution_count": 43,
      "metadata": {
        "id": "b3IK76QVDwM_"
      },
      "outputs": [],
      "source": [
        "import os\n",
        "\n",
        "def load_data_from_folds(directory, dir_aug):\n",
        "    data = {\"HS\": [], \"PD\": [], \"HS_aug\": [], \"PD_aug\": []}\n",
        "    \n",
        "    for fold in range(1, 11):\n",
        "        fold_path = os.path.join(directory, f\"fold{fold}\")\n",
        "        hs_folder = os.path.join(fold_path, \"HS\")\n",
        "        pd_folder = os.path.join(fold_path, \"PD\")\n",
        "        \n",
        "        hs_aug_folder = os.path.join(dir_aug, f\"fold{fold}\", \"HS_aug\")\n",
        "        pd_aug_folder = os.path.join(dir_aug, f\"fold{fold}\", \"PD_aug\")\n",
        "\n",
        "        hs_files = [os.path.join(hs_folder, f) for f in os.listdir(hs_folder) if f.endswith(\".wav\")]\n",
        "        pd_files = [os.path.join(pd_folder, f) for f in os.listdir(pd_folder) if f.endswith(\".wav\")]\n",
        "\n",
        "        hs_aug_files = [os.path.join(hs_aug_folder, f) for f in os.listdir(hs_aug_folder) if f.endswith(\".wav\")]\n",
        "        pd_aug_files = [os.path.join(pd_aug_folder, f) for f in os.listdir(pd_aug_folder) if f.endswith(\".wav\")]\n",
        "\n",
        "        data[\"HS\"].append(hs_files)\n",
        "        data[\"PD\"].append(pd_files)\n",
        "        data[\"HS_aug\"].append(hs_aug_files)\n",
        "        data[\"PD_aug\"].append(pd_aug_files)\n",
        "    \n",
        "    return data\n"
      ]
    },
    {
      "cell_type": "code",
      "execution_count": 44,
      "metadata": {
        "id": "BI-WqEoFjQsT"
      },
      "outputs": [],
      "source": [
        "#Test\n",
        "directory = r'C:\\Users\\Hp\\Desktop\\Lecture Files\\DH604\\Publication\\data\\datasets_16k'\n",
        "dir_aug = r'C:\\Users\\Hp\\Desktop\\Lecture Files\\DH604\\Publication\\data\\datasets_aug_16k'\n",
        "data_ = load_data_from_folds(directory, dir_aug)"
      ]
    },
    {
      "cell_type": "code",
      "execution_count": 45,
      "metadata": {
        "id": "-EislxdGG644"
      },
      "outputs": [],
      "source": [
        "def process_audio_files(files, label, duration=10):\n",
        "    results = []\n",
        "    for file_path in files:\n",
        "        if file_path.endswith(\".wav\"):\n",
        "            try:\n",
        "                signal, sampling_rate = audiofile.read(\n",
        "                    file_path,\n",
        "                    duration=duration,\n",
        "                    always_2d=True\n",
        "                )\n",
        "                features = smile.process_signal(signal, sampling_rate)\n",
        "                features.insert(0, 'file_name', file_path)\n",
        "                features['Y'] = label\n",
        "                results.append(features)\n",
        "            except Exception as e:\n",
        "                print(f\"Error processing {file_path}: {e}\")\n",
        "\n",
        "    df_results = pd.concat(results, ignore_index=True)\n",
        "    # print(f\"Done processing {len(results)} files.\")\n",
        "    return df_results"
      ]
    },
    {
      "cell_type": "code",
      "execution_count": 46,
      "metadata": {
        "id": "hWAgOO6nD8HA"
      },
      "outputs": [],
      "source": [
        "def drop_na(X, y):\n",
        "    valid_indices = X.dropna(axis=0).index\n",
        "    X = X.loc[valid_indices]\n",
        "    y = y.loc[valid_indices]\n",
        "    return X, y"
      ]
    },
    {
      "cell_type": "code",
      "execution_count": 47,
      "metadata": {
        "id": "9ca66a20"
      },
      "outputs": [],
      "source": [
        "def get_train_test_data(fold_number, data):\n",
        "    test_hs = data[\"HS\"][fold_number-1]\n",
        "    test_pd = data[\"PD\"][fold_number-1]\n",
        "\n",
        "    # Combine the remaining folds for training\n",
        "    #Original\n",
        "    train_hs_ = [item for i, item in enumerate(data[\"HS\"]) if i != fold_number-1]\n",
        "    train_pd_ = [item for i, item in enumerate(data[\"PD\"]) if i != fold_number-1]\n",
        "    # print(\"train_hs_:\", len(train_hs_))\n",
        "    # print(\"train_pd_:\", len(train_pd_))\n",
        "\n",
        "    #Aug\n",
        "    train_hs_aug = [item for i, item in enumerate(data[\"HS_aug\"]) if i != fold_number-1]\n",
        "    train_pd_aug = [item for i, item in enumerate(data[\"PD_aug\"]) if i != fold_number-1]\n",
        "    # print(\"train_hs_aug:\", len(train_hs_aug))\n",
        "    # print(\"train_pd_aug:\", len(train_pd_aug))\n",
        "    \n",
        "\n",
        "    train_hs = train_hs_ + train_hs_aug\n",
        "    train_pd = train_pd_ + train_pd_aug\n",
        "\n",
        "\n",
        "    # Flatten lists for training\n",
        "    train_hs = [item for sublist in train_hs for item in sublist]\n",
        "    # print(\"train_hs:\", len(train_hs))\n",
        "    train_pd = [item for sublist in train_pd for item in sublist]\n",
        "    # print(\"train_pd:\", len(train_pd))\n",
        "\n",
        "    # Process the files\n",
        "    X_train_hs = process_audio_files(train_hs, label=0)\n",
        "    X_train_pd = process_audio_files(train_pd, label=1)\n",
        "    \n",
        "    X_test_hs = process_audio_files(test_hs, label=0)\n",
        "    X_test_pd = process_audio_files(test_pd, label=1)\n",
        "\n",
        "    # Combine HS and PD for train and test\n",
        "    X_train = pd.concat([X_train_hs, X_train_pd], ignore_index=True)\n",
        "    X_test = pd.concat([X_test_hs, X_test_pd], ignore_index=True)\n",
        "\n",
        "\n",
        "    y_train = X_train[\"Y\"]\n",
        "    X_train.drop(columns=[\"Y\",'file_name'], inplace=True)\n",
        "\n",
        "    y_test = X_test[\"Y\"]\n",
        "    X_test.drop(columns=[\"Y\",'file_name'], inplace=True)\n",
        "\n",
        "    # Shuffle the train and test sets\n",
        "    X_train, y_train = shuffle(X_train, y_train, random_state=42)\n",
        "    X_test, y_test = shuffle(X_test, y_test, random_state=42)\n",
        "\n",
        "\n",
        "    # print(\"X_train shape:\", X_train.shape)\n",
        "    # print(\"y_train shape:\", y_train.shape)\n",
        "    # print(\"X_test shape:\", X_test.shape)\n",
        "    # print(\"y_test shape:\", y_test.shape)\n",
        "\n",
        "    # Drop NA\n",
        "    X_train, y_train = drop_na(X_train, y_train)\n",
        "    X_test, y_test = drop_na(X_test, y_test)\n",
        "\n",
        "    # Scaling the data\n",
        "    scaler = StandardScaler()\n",
        "    X_train = pd.DataFrame(scaler.fit_transform(X_train), columns=X_train.columns, index=X_train.index)\n",
        "    X_test = pd.DataFrame(scaler.transform(X_test), columns=X_test.columns, index=X_test.index)\n",
        "\n",
        "    return X_train, y_train, X_test, y_test"
      ]
    },
    {
      "cell_type": "code",
      "execution_count": 76,
      "metadata": {
        "id": "zl0mfDuwcQ0S"
      },
      "outputs": [],
      "source": [
        "from sklearn.base import clone\n",
        "from itertools import product\n",
        "\n",
        "def tune_and_evaluate(X_train, y_train, X_test, y_test, model_type):\n",
        "    results = []\n",
        "\n",
        "    if model_type == \"random_forest\":\n",
        "        base_model = RandomForestClassifier(random_state=42)\n",
        "        param_grid = {\n",
        "    'n_estimators': [50, 100, 200],\n",
        "    'max_depth': [3, 5, 7, 10, None],\n",
        "    'min_samples_split': [2, 5, 10],\n",
        "    'min_samples_leaf': [1, 2, 5, 10],\n",
        "    'max_features': ['sqrt', 'log2', 10, None]}\n",
        "\n",
        "\n",
        "    elif model_type == \"logistic_regression\":\n",
        "       base_model = LogisticRegression(random_state=42)\n",
        "       param_grid = {\n",
        "    'penalty': ['l1', 'l2', 'elasticnet', None],\n",
        "    'C': [0.001, 0.01, 0.1, 1, 10, 100],\n",
        "    'solver': ['liblinear', 'saga'],\n",
        "    'max_iter': [1000, 2000],\n",
        "    'l1_ratio': [0, 0.5, 1]}\n",
        "\n",
        "    elif model_type == 'svm':\n",
        "       base_model = SVC(probability=True, random_state=42)\n",
        "       param_grid = {\n",
        "    'C': [0.01, 0.1, 1, 10],\n",
        "    'gamma': ['scale', 'auto', 0.001, 0.01, 0.1],\n",
        "    'kernel': ['rbf', 'linear'],\n",
        "    'shrinking': [True, False]}\n",
        "\n",
        "    elif model_type == 'xgboost':\n",
        "        base_model = XGBClassifier(random_state=42)\n",
        "        param_grid = {\n",
        "    'n_estimators': [50, 100, 150],\n",
        "    'max_depth': [2, 3, 5],\n",
        "    'learning_rate': [0.01, 0.05, 0.1],\n",
        "    'min_child_weight': [1, 3],\n",
        "    'subsample': [0.8],\n",
        "    'colsample_bytree': [0.8],\n",
        "    'gamma': [0, 0.1],\n",
        "    'reg_alpha': [0, 0.01, 0.1],\n",
        "    'reg_lambda': [0.5, 1]}\n",
        "\n",
        "    else:\n",
        "        raise ValueError(f\"Unsupported model_type: {model_type}\")\n",
        "\n",
        "    param_names = list(param_grid.keys())\n",
        "    param_combinations = list(product(*param_grid.values()))\n",
        "\n",
        "    for param_values in param_combinations:\n",
        "        param_dict = dict(zip(param_names, param_values))\n",
        "        model = clone(base_model).set_params(**param_dict)\n",
        "\n",
        "        try:\n",
        "            if model_type == 'xgboost':\n",
        "                 for X in [X_train, X_test]:\n",
        "                     X.columns = [col.replace('[', '(').replace(']', ')').replace('<', '_less_than_') for col in X.columns]\n",
        "            model.fit(X_train, y_train)\n",
        "            y_train_pred = model.predict(X_train)\n",
        "            y_test_pred = model.predict(X_test)\n",
        "\n",
        "            y_train_proba = model.predict_proba(X_train)[:, 1]\n",
        "            y_test_proba = model.predict_proba(X_test)[:, 1]\n",
        "            \n",
        "            train_loss = log_loss(y_train, y_train_proba)\n",
        "            test_loss = log_loss(y_test, y_test_proba)\n",
        "            loss_ratio = train_loss / test_loss if test_loss != 0 else None\n",
        "\n",
        "            metrics_dict = {\n",
        "                \"accuracy_train\": accuracy_score(y_train, y_train_pred),\n",
        "                \"accuracy_test\": accuracy_score(y_test, y_test_pred),\n",
        "                \"roc_auc_train\": roc_auc_score(y_train, y_train_proba),\n",
        "                \"roc_auc_test\": roc_auc_score(y_test, y_test_proba),\n",
        "                \"f1_train\": f1_score(y_train, y_train_pred),\n",
        "                \"f1_test\": f1_score(y_test, y_test_pred),\n",
        "                \"precision_train\": precision_score(y_train, y_train_pred),\n",
        "                \"precision_test\": precision_score(y_test, y_test_pred),\n",
        "                \"recall_train\": recall_score(y_train, y_train_pred),\n",
        "                \"recall_test\": recall_score(y_test, y_test_pred),\n",
        "                \"log_loss_train\": train_loss,\n",
        "                \"log_loss_test\": test_loss,\n",
        "                **param_dict  # Include parameters in the row\n",
        "            }\n",
        "\n",
        "            results.append(metrics_dict)\n",
        "        except Exception as e:\n",
        "            print(f\" Skipping params {param_dict} due to error: {e}\")\n",
        "            continue\n",
        "\n",
        "    return results"
      ]
    },
    {
      "cell_type": "code",
      "execution_count": 49,
      "metadata": {},
      "outputs": [],
      "source": [
        "# def aggregate_and_save_results(metrics, model_type):\n",
        "#     all_metrics = []\n",
        "\n",
        "#     for fold_metrics in metrics:\n",
        "#         for metric in fold_metrics:\n",
        "#             all_metrics.append(metric)\n",
        "\n",
        "#     df = pd.DataFrame(all_metrics)\n",
        "\n",
        "#     aggregation_columns = ['accuracy_train', 'accuracy_test', 'roc_auc_train', 'roc_auc_test',\n",
        "#                            'f1_train', 'f1_test', 'precision_train', 'precision_test', 'recall_train', \n",
        "#                            'recall_test', 'log_loss_train', 'log_loss_test']\n",
        "    \n",
        "#     df_agg = df.groupby([col for col in df.columns if col not in aggregation_columns]).agg(\n",
        "#         {metric: ['mean', 'std'] for metric in aggregation_columns}\n",
        "#     ).reset_index()\n",
        "\n",
        "#     df_agg.columns = ['_'.join(col).strip() for col in df_agg.columns.values]\n",
        "\n",
        "#     output_file = f\"{model_type}_hyperparameter_tuning_results.csv\"\n",
        "#     df_agg.to_csv(output_file, index=False)\n",
        "\n",
        "#     print(f\"Aggregated results saved to {output_file}\")\n"
      ]
    },
    {
      "cell_type": "code",
      "execution_count": 72,
      "metadata": {},
      "outputs": [],
      "source": [
        "def aggregate_and_save_results(metrics, model_type):\n",
        "    all_metrics = []\n",
        "\n",
        "    for fold_number, fold_metrics in enumerate(metrics, start=1):\n",
        "        for metric in fold_metrics:\n",
        "            metric['fold_number'] = fold_number\n",
        "            all_metrics.append(metric)\n",
        "\n",
        "    df = pd.DataFrame(all_metrics)\n",
        "\n",
        "    loss_columns = ['log_loss_train', 'log_loss_test']\n",
        "    other_metrics = ['accuracy_train', 'accuracy_test', 'roc_auc_train', 'roc_auc_test',\n",
        "                    'f1_train', 'f1_test', 'precision_train', 'precision_test', \n",
        "                    'recall_train', 'recall_test']\n",
        "    \n",
        "    param_columns = [col for col in df.columns if col not in loss_columns + other_metrics + ['fold_number']]\n",
        "    \n",
        "    agg_results = df.groupby(param_columns).agg({\n",
        "        **{metric: ['mean', 'std'] for metric in other_metrics + loss_columns},\n",
        "    })\n",
        "    \n",
        "    agg_results.columns = ['_'.join(col).strip() for col in agg_results.columns.values]\n",
        "    agg_results = agg_results.reset_index()\n",
        "    \n",
        "    def collect_losses(group):\n",
        "        train_losses = [round(x, 3) for x in group['log_loss_train'].tolist()]\n",
        "        test_losses = [round(x, 3) for x in group['log_loss_test'].tolist()]\n",
        "        \n",
        "        ratios = []\n",
        "        for train, test in zip(train_losses, test_losses):\n",
        "            if test != 0:\n",
        "                ratios.append(round(train/test, 3))\n",
        "            else:\n",
        "                ratios.append(np.nan)\n",
        "        \n",
        "        return {\n",
        "            'train_loss_across_folds': train_losses,\n",
        "            'test_loss_across_folds': test_losses,\n",
        "            'train_test_loss_ratio_across_folds': ratios\n",
        "        }\n",
        "    \n",
        "    fold_losses = df.groupby(param_columns).apply(collect_losses).reset_index()\n",
        "    \n",
        "    fold_losses = pd.concat([\n",
        "        fold_losses[param_columns],\n",
        "        pd.json_normalize(fold_losses[0])\n",
        "    ], axis=1)\n",
        "    \n",
        "    final_results = pd.merge(\n",
        "        agg_results,\n",
        "        fold_losses,\n",
        "        on=param_columns,\n",
        "        how='left'\n",
        "    )\n",
        "    \n",
        "    final_results['mean_loss_ratio'] = np.where(\n",
        "        final_results['log_loss_test_mean'] != 0,\n",
        "        final_results['log_loss_train_mean'] / final_results['log_loss_test_mean'],\n",
        "        np.nan\n",
        "    )\n",
        "    final_results['mean_loss_ratio'] = final_results['mean_loss_ratio'].round(3)\n",
        "    \n",
        "    output_file = f\"{model_type}_aug_hyperparameter_tuning_results.csv\"\n",
        "    final_results.to_csv(output_file, index=False)\n",
        "    \n",
        "    print(f\"Results saved to {output_file}\")\n",
        "    return final_results"
      ]
    },
    {
      "cell_type": "code",
      "execution_count": 77,
      "metadata": {
        "id": "8e8y0-kmdgjv"
      },
      "outputs": [],
      "source": [
        "#MIQ\n",
        "selected_features = [\n",
        "    \"audspecRasta_lengthL1norm_sma_upleveltime75\",\n",
        "    \"audSpec_Rfilt_sma[6]_percentile1.0\",\n",
        "    \"audSpec_Rfilt_sma[13]_quartile2\",\n",
        "    \"audSpec_Rfilt_sma[21]_quartile2\",\n",
        "    \"pcm_fftMag_spectralRollOff25.0_sma_iqr1-2\",\n",
        "    \"pcm_fftMag_spectralRollOff90.0_sma_quartile1\",\n",
        "    \"pcm_fftMag_spectralCentroid_sma_lpc2\",\n",
        "    \"mfcc_sma[2]_leftctime\",\n",
        "    \"mfcc_sma[4]_minSegLen\",\n",
        "    \"mfcc_sma[8]_meanSegLen\",\n",
        "    \"audSpec_Rfilt_sma_de[6]_minSegLen\",\n",
        "    \"audSpec_Rfilt_sma_de[8]_minSegLen\",\n",
        "    \"audSpec_Rfilt_sma_de[12]_minSegLen\",\n",
        "    \"audSpec_Rfilt_sma_de[21]_minSegLen\",\n",
        "    \"pcm_fftMag_spectralRollOff90.0_sma_de_minSegLen\",\n",
        "    \"mfcc_sma_de[3]_minSegLen\",\n",
        "    \"mfcc_sma_de[7]_upleveltime25\",\n",
        "    \"voicingFinalUnclipped_sma_range\",\n",
        "    \"voicingFinalUnclipped_sma_upleveltime90\",\n",
        "    \"jitterDDP_sma_de_quartile2\",\n",
        "    \"jitterDDP_sma_de_upleveltime75\",\n",
        "    \"jitterDDP_sma_de_lpc0\",\n",
        "    \"audSpec_Rfilt_sma[7]_qregerrQ\",\n",
        "    \"pcm_fftMag_spectralSlope_sma_qregc3\",\n",
        "    \"pcm_fftMag_psySharpness_sma_flatness\",\n",
        "    \"mfcc_sma[5]_peakMeanRel\",\n",
        "    \"mfcc_sma[6]_peakMeanRel\",\n",
        "    \"mfcc_sma[7]_peakMeanRel\",\n",
        "    \"audSpec_Rfilt_sma_de[1]_peakRangeRel\",\n",
        "    \"pcm_fftMag_spectralEntropy_sma_de_stddevFallingSlope\"\n",
        "]"
      ]
    },
    {
      "cell_type": "code",
      "execution_count": 74,
      "metadata": {
        "id": "XzTRPlJmF8Pi"
      },
      "outputs": [],
      "source": [
        "def main_with_tuning(directory, dir_aug, model_type, feature_list):\n",
        "    data = load_data_from_folds(directory, dir_aug)\n",
        "    metrics = []\n",
        "\n",
        "    for fold_number in range(1,11):\n",
        "        print(f\"\\n Evaluating Fold {fold_number} with Hyperparameter Tuning...\")\n",
        "        X_train, y_train, X_test, y_test = get_train_test_data(fold_number, data)\n",
        "\n",
        "        if feature_list:\n",
        "            X_train = X_train[selected_features]\n",
        "            X_test = X_test[selected_features]\n",
        "\n",
        "        print(\"X_train shape:\", X_train.shape)\n",
        "        print(\"y_train shape:\", y_train.shape)\n",
        "        print(\"X_test shape:\", X_test.shape)\n",
        "        print(\"y_test shape:\", y_test.shape)\n",
        "\n",
        "        fold_metrics = tune_and_evaluate(X_train, y_train, X_test, y_test, model_type)\n",
        "        metrics.append(fold_metrics)\n",
        "\n",
        "        # print(f\"Fold {fold_number} Best Metrics:\\n{ {k:v for k,v in fold_metrics.items() if k != 'cv_results'} }\")\n",
        "\n",
        "    # Save per-parameter results across all folds\n",
        "    # save_all_cv_results(metrics, model_type, output_path)\n",
        "    aggregate_and_save_results(metrics, model_type)\n"
      ]
    },
    {
      "cell_type": "code",
      "execution_count": 60,
      "metadata": {
        "colab": {
          "base_uri": "https://localhost:8080/",
          "height": 636
        },
        "id": "g28A6J7XaVkQ",
        "outputId": "1ca7bf2e-e0f6-4ec5-f5dd-331a1d82b08f"
      },
      "outputs": [],
      "source": [
        "# main_with_tuning(directory, dir_aug, model_type=\"random_forest\" , feature_list=True)"
      ]
    },
    {
      "cell_type": "code",
      "execution_count": 61,
      "metadata": {},
      "outputs": [],
      "source": [
        "# main_with_tuning(directory, dir_aug, model_type=\"svm\" , feature_list=True)"
      ]
    },
    {
      "cell_type": "code",
      "execution_count": 62,
      "metadata": {},
      "outputs": [],
      "source": [
        "# main_with_tuning(directory, dir_aug, model_type=\"logistic_regression\" , feature_list=True)"
      ]
    },
    {
      "cell_type": "code",
      "execution_count": 78,
      "metadata": {},
      "outputs": [
        {
          "name": "stdout",
          "output_type": "stream",
          "text": [
            "\n",
            " Evaluating Fold 1 with Hyperparameter Tuning...\n",
            "X_train shape: (105, 30)\n",
            "y_train shape: (105,)\n",
            "X_test shape: (8, 30)\n",
            "y_test shape: (8,)\n",
            "\n",
            " Evaluating Fold 2 with Hyperparameter Tuning...\n",
            "X_train shape: (105, 30)\n",
            "y_train shape: (105,)\n",
            "X_test shape: (8, 30)\n",
            "y_test shape: (8,)\n",
            "\n",
            " Evaluating Fold 3 with Hyperparameter Tuning...\n",
            "X_train shape: (105, 30)\n",
            "y_train shape: (105,)\n",
            "X_test shape: (8, 30)\n",
            "y_test shape: (8,)\n",
            "\n",
            " Evaluating Fold 4 with Hyperparameter Tuning...\n",
            "X_train shape: (105, 30)\n",
            "y_train shape: (105,)\n",
            "X_test shape: (8, 30)\n",
            "y_test shape: (8,)\n",
            "\n",
            " Evaluating Fold 5 with Hyperparameter Tuning...\n",
            "X_train shape: (108, 30)\n",
            "y_train shape: (108,)\n",
            "X_test shape: (6, 30)\n",
            "y_test shape: (6,)\n",
            "\n",
            " Evaluating Fold 6 with Hyperparameter Tuning...\n",
            "X_train shape: (105, 30)\n",
            "y_train shape: (105,)\n",
            "X_test shape: (8, 30)\n",
            "y_test shape: (8,)\n",
            "\n",
            " Evaluating Fold 7 with Hyperparameter Tuning...\n",
            "X_train shape: (105, 30)\n",
            "y_train shape: (105,)\n",
            "X_test shape: (8, 30)\n",
            "y_test shape: (8,)\n",
            "\n",
            " Evaluating Fold 8 with Hyperparameter Tuning...\n",
            "X_train shape: (105, 30)\n",
            "y_train shape: (105,)\n",
            "X_test shape: (8, 30)\n",
            "y_test shape: (8,)\n",
            "\n",
            " Evaluating Fold 9 with Hyperparameter Tuning...\n",
            "X_train shape: (105, 30)\n",
            "y_train shape: (105,)\n",
            "X_test shape: (8, 30)\n",
            "y_test shape: (8,)\n",
            "\n",
            " Evaluating Fold 10 with Hyperparameter Tuning...\n",
            "X_train shape: (105, 30)\n",
            "y_train shape: (105,)\n",
            "X_test shape: (8, 30)\n",
            "y_test shape: (8,)\n",
            "Results saved to xgboost_aug_hyperparameter_tuning_results.csv\n"
          ]
        }
      ],
      "source": [
        "main_with_tuning(directory, dir_aug, model_type=\"xgboost\" , feature_list=True)"
      ]
    },
    {
      "cell_type": "code",
      "execution_count": null,
      "metadata": {},
      "outputs": [],
      "source": []
    }
  ],
  "metadata": {
    "colab": {
      "provenance": []
    },
    "kernelspec": {
      "display_name": "Python 3",
      "name": "python3"
    },
    "language_info": {
      "codemirror_mode": {
        "name": "ipython",
        "version": 3
      },
      "file_extension": ".py",
      "mimetype": "text/x-python",
      "name": "python",
      "nbconvert_exporter": "python",
      "pygments_lexer": "ipython3",
      "version": "3.8.0"
    }
  },
  "nbformat": 4,
  "nbformat_minor": 0
}
